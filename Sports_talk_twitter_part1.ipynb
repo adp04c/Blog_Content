{
 "cells": [
  {
   "cell_type": "code",
   "execution_count": 1,
   "metadata": {
    "collapsed": false
   },
   "outputs": [],
   "source": [
    "# Necessary imports\n",
    "import tweepy\n",
    "from tweepy import OAuthHandler\n",
    "import json\n",
    "import sqlite3\n",
    "import re\n",
    "import pandas as pd\n",
    "import csv"
   ]
  },
  {
   "cell_type": "code",
   "execution_count": 2,
   "metadata": {
    "collapsed": false
   },
   "outputs": [
    {
     "name": "stdout",
     "output_type": "stream",
     "text": [
      "/Users/rorypulvino\n"
     ]
    }
   ],
   "source": [
    "cd"
   ]
  },
  {
   "cell_type": "code",
   "execution_count": 3,
   "metadata": {
    "collapsed": false
   },
   "outputs": [],
   "source": [
    "# Getting tweet grab function\n",
    "% run Dropbox/Python/jupyter-blog/content/tweet_dumper.py"
   ]
  },
  {
   "cell_type": "code",
   "execution_count": 4,
   "metadata": {
    "collapsed": false
   },
   "outputs": [
    {
     "name": "stdout",
     "output_type": "stream",
     "text": [
      "getting tweets before 539173446182526976\n",
      "...10 tweets downloaded so far\n"
     ]
    }
   ],
   "source": [
    "get_all_tweets(\"rorypul\", \"M\")"
   ]
  },
  {
   "cell_type": "code",
   "execution_count": 5,
   "metadata": {
    "collapsed": false
   },
   "outputs": [
    {
     "data": {
      "text/html": [
       "<div>\n",
       "<table border=\"1\" class=\"dataframe\">\n",
       "  <thead>\n",
       "    <tr style=\"text-align: right;\">\n",
       "      <th></th>\n",
       "      <th></th>\n",
       "      <th>id</th>\n",
       "      <th>created_at</th>\n",
       "      <th>text</th>\n",
       "    </tr>\n",
       "  </thead>\n",
       "  <tbody>\n",
       "    <tr>\n",
       "      <th rowspan=\"10\" valign=\"top\">rorypul</th>\n",
       "      <th>M</th>\n",
       "      <td>730921414178439169</td>\n",
       "      <td>2016-05-13 00:43:39</td>\n",
       "      <td>RT @poverty_action: New study in Science: \"Pos...</td>\n",
       "    </tr>\n",
       "    <tr>\n",
       "      <th>M</th>\n",
       "      <td>726062391134281728</td>\n",
       "      <td>2016-04-29 14:55:38</td>\n",
       "      <td>RT @landportal: Good Read: Reshaping the Debat...</td>\n",
       "    </tr>\n",
       "    <tr>\n",
       "      <th>M</th>\n",
       "      <td>639474464388988929</td>\n",
       "      <td>2015-09-03 16:26:07</td>\n",
       "      <td>Mobile technology for non-judicial grievance m...</td>\n",
       "    </tr>\n",
       "    <tr>\n",
       "      <th>M</th>\n",
       "      <td>628239016417185792</td>\n",
       "      <td>2015-08-03 16:20:28</td>\n",
       "      <td>The Land Battle: 15 Organizations Defending La...</td>\n",
       "    </tr>\n",
       "    <tr>\n",
       "      <th>M</th>\n",
       "      <td>571787355134291969</td>\n",
       "      <td>2015-02-28 21:41:43</td>\n",
       "      <td>#removeterranceburk</td>\n",
       "    </tr>\n",
       "    <tr>\n",
       "      <th>M</th>\n",
       "      <td>571787241665781760</td>\n",
       "      <td>2015-02-28 21:41:16</td>\n",
       "      <td>RT @IEDPBrazil: When in Brazil, #GoBlue! Thank...</td>\n",
       "    </tr>\n",
       "    <tr>\n",
       "      <th>M</th>\n",
       "      <td>571782596335677441</td>\n",
       "      <td>2015-02-28 21:22:48</td>\n",
       "      <td>RT @IEDPBrazil: A gente acaba de chegar em Bra...</td>\n",
       "    </tr>\n",
       "    <tr>\n",
       "      <th>M</th>\n",
       "      <td>539889222996348928</td>\n",
       "      <td>2014-12-02 21:09:56</td>\n",
       "      <td>I just made a donation to U-M for #GivingBlued...</td>\n",
       "    </tr>\n",
       "    <tr>\n",
       "      <th>M</th>\n",
       "      <td>539782469382574081</td>\n",
       "      <td>2014-12-02 14:05:44</td>\n",
       "      <td>IPSA should receive an extra $1,000 today for ...</td>\n",
       "    </tr>\n",
       "    <tr>\n",
       "      <th>M</th>\n",
       "      <td>539173446182526977</td>\n",
       "      <td>2014-11-30 21:45:41</td>\n",
       "      <td>@IEDPBrazil http://t.co/5QZNk7ra65 Brazil's ne...</td>\n",
       "    </tr>\n",
       "  </tbody>\n",
       "</table>\n",
       "</div>"
      ],
      "text/plain": [
       "                           id           created_at  \\\n",
       "rorypul M  730921414178439169  2016-05-13 00:43:39   \n",
       "        M  726062391134281728  2016-04-29 14:55:38   \n",
       "        M  639474464388988929  2015-09-03 16:26:07   \n",
       "        M  628239016417185792  2015-08-03 16:20:28   \n",
       "        M  571787355134291969  2015-02-28 21:41:43   \n",
       "        M  571787241665781760  2015-02-28 21:41:16   \n",
       "        M  571782596335677441  2015-02-28 21:22:48   \n",
       "        M  539889222996348928  2014-12-02 21:09:56   \n",
       "        M  539782469382574081  2014-12-02 14:05:44   \n",
       "        M  539173446182526977  2014-11-30 21:45:41   \n",
       "\n",
       "                                                        text  \n",
       "rorypul M  RT @poverty_action: New study in Science: \"Pos...  \n",
       "        M  RT @landportal: Good Read: Reshaping the Debat...  \n",
       "        M  Mobile technology for non-judicial grievance m...  \n",
       "        M  The Land Battle: 15 Organizations Defending La...  \n",
       "        M                                #removeterranceburk  \n",
       "        M  RT @IEDPBrazil: When in Brazil, #GoBlue! Thank...  \n",
       "        M  RT @IEDPBrazil: A gente acaba de chegar em Bra...  \n",
       "        M  I just made a donation to U-M for #GivingBlued...  \n",
       "        M  IPSA should receive an extra $1,000 today for ...  \n",
       "        M  @IEDPBrazil http://t.co/5QZNk7ra65 Brazil's ne...  "
      ]
     },
     "execution_count": 5,
     "metadata": {},
     "output_type": "execute_result"
    }
   ],
   "source": [
    "df = pd.DataFrame()\n",
    "df = df.append(pd.read_csv('rorypul_tweets.csv'))\n",
    "df"
   ]
  },
  {
   "cell_type": "code",
   "execution_count": 6,
   "metadata": {
    "collapsed": true
   },
   "outputs": [],
   "source": [
    "names = [('rorypul', 'M'), ('rorypul', 'F')]"
   ]
  },
  {
   "cell_type": "code",
   "execution_count": null,
   "metadata": {
    "collapsed": true
   },
   "outputs": [],
   "source": [
    "################# #####################\n",
    "# Figure out time delay in get_all_tweets so as not to go over request limit\n",
    "# Figure out how to send csv to sql table"
   ]
  },
  {
   "cell_type": "code",
   "execution_count": 7,
   "metadata": {
    "collapsed": false
   },
   "outputs": [
    {
     "name": "stdout",
     "output_type": "stream",
     "text": [
      "getting tweets before 539173446182526976\n",
      "...10 tweets downloaded so far\n",
      "getting tweets before 539173446182526976\n",
      "...10 tweets downloaded so far\n"
     ]
    }
   ],
   "source": [
    "df = pd.DataFrame()\n",
    "for (name, sex) in names:\n",
    "    get_all_tweets(name, sex)\n",
    "    df = df.append(pd.read_csv('%s_tweets.csv' % name))"
   ]
  },
  {
   "cell_type": "code",
   "execution_count": 8,
   "metadata": {
    "collapsed": false
   },
   "outputs": [
    {
     "data": {
      "text/html": [
       "<div>\n",
       "<table border=\"1\" class=\"dataframe\">\n",
       "  <thead>\n",
       "    <tr style=\"text-align: right;\">\n",
       "      <th></th>\n",
       "      <th></th>\n",
       "      <th>id</th>\n",
       "      <th>created_at</th>\n",
       "      <th>text</th>\n",
       "    </tr>\n",
       "  </thead>\n",
       "  <tbody>\n",
       "    <tr>\n",
       "      <th rowspan=\"20\" valign=\"top\">rorypul</th>\n",
       "      <th>M</th>\n",
       "      <td>730921414178439169</td>\n",
       "      <td>2016-05-13 00:43:39</td>\n",
       "      <td>RT @poverty_action: New study in Science: \"Pos...</td>\n",
       "    </tr>\n",
       "    <tr>\n",
       "      <th>M</th>\n",
       "      <td>726062391134281728</td>\n",
       "      <td>2016-04-29 14:55:38</td>\n",
       "      <td>RT @landportal: Good Read: Reshaping the Debat...</td>\n",
       "    </tr>\n",
       "    <tr>\n",
       "      <th>M</th>\n",
       "      <td>639474464388988929</td>\n",
       "      <td>2015-09-03 16:26:07</td>\n",
       "      <td>Mobile technology for non-judicial grievance m...</td>\n",
       "    </tr>\n",
       "    <tr>\n",
       "      <th>M</th>\n",
       "      <td>628239016417185792</td>\n",
       "      <td>2015-08-03 16:20:28</td>\n",
       "      <td>The Land Battle: 15 Organizations Defending La...</td>\n",
       "    </tr>\n",
       "    <tr>\n",
       "      <th>M</th>\n",
       "      <td>571787355134291969</td>\n",
       "      <td>2015-02-28 21:41:43</td>\n",
       "      <td>#removeterranceburk</td>\n",
       "    </tr>\n",
       "    <tr>\n",
       "      <th>M</th>\n",
       "      <td>571787241665781760</td>\n",
       "      <td>2015-02-28 21:41:16</td>\n",
       "      <td>RT @IEDPBrazil: When in Brazil, #GoBlue! Thank...</td>\n",
       "    </tr>\n",
       "    <tr>\n",
       "      <th>M</th>\n",
       "      <td>571782596335677441</td>\n",
       "      <td>2015-02-28 21:22:48</td>\n",
       "      <td>RT @IEDPBrazil: A gente acaba de chegar em Bra...</td>\n",
       "    </tr>\n",
       "    <tr>\n",
       "      <th>M</th>\n",
       "      <td>539889222996348928</td>\n",
       "      <td>2014-12-02 21:09:56</td>\n",
       "      <td>I just made a donation to U-M for #GivingBlued...</td>\n",
       "    </tr>\n",
       "    <tr>\n",
       "      <th>M</th>\n",
       "      <td>539782469382574081</td>\n",
       "      <td>2014-12-02 14:05:44</td>\n",
       "      <td>IPSA should receive an extra $1,000 today for ...</td>\n",
       "    </tr>\n",
       "    <tr>\n",
       "      <th>M</th>\n",
       "      <td>539173446182526977</td>\n",
       "      <td>2014-11-30 21:45:41</td>\n",
       "      <td>@IEDPBrazil http://t.co/5QZNk7ra65 Brazil's ne...</td>\n",
       "    </tr>\n",
       "    <tr>\n",
       "      <th>F</th>\n",
       "      <td>730921414178439169</td>\n",
       "      <td>2016-05-13 00:43:39</td>\n",
       "      <td>RT @poverty_action: New study in Science: \"Pos...</td>\n",
       "    </tr>\n",
       "    <tr>\n",
       "      <th>F</th>\n",
       "      <td>726062391134281728</td>\n",
       "      <td>2016-04-29 14:55:38</td>\n",
       "      <td>RT @landportal: Good Read: Reshaping the Debat...</td>\n",
       "    </tr>\n",
       "    <tr>\n",
       "      <th>F</th>\n",
       "      <td>639474464388988929</td>\n",
       "      <td>2015-09-03 16:26:07</td>\n",
       "      <td>Mobile technology for non-judicial grievance m...</td>\n",
       "    </tr>\n",
       "    <tr>\n",
       "      <th>F</th>\n",
       "      <td>628239016417185792</td>\n",
       "      <td>2015-08-03 16:20:28</td>\n",
       "      <td>The Land Battle: 15 Organizations Defending La...</td>\n",
       "    </tr>\n",
       "    <tr>\n",
       "      <th>F</th>\n",
       "      <td>571787355134291969</td>\n",
       "      <td>2015-02-28 21:41:43</td>\n",
       "      <td>#removeterranceburk</td>\n",
       "    </tr>\n",
       "    <tr>\n",
       "      <th>F</th>\n",
       "      <td>571787241665781760</td>\n",
       "      <td>2015-02-28 21:41:16</td>\n",
       "      <td>RT @IEDPBrazil: When in Brazil, #GoBlue! Thank...</td>\n",
       "    </tr>\n",
       "    <tr>\n",
       "      <th>F</th>\n",
       "      <td>571782596335677441</td>\n",
       "      <td>2015-02-28 21:22:48</td>\n",
       "      <td>RT @IEDPBrazil: A gente acaba de chegar em Bra...</td>\n",
       "    </tr>\n",
       "    <tr>\n",
       "      <th>F</th>\n",
       "      <td>539889222996348928</td>\n",
       "      <td>2014-12-02 21:09:56</td>\n",
       "      <td>I just made a donation to U-M for #GivingBlued...</td>\n",
       "    </tr>\n",
       "    <tr>\n",
       "      <th>F</th>\n",
       "      <td>539782469382574081</td>\n",
       "      <td>2014-12-02 14:05:44</td>\n",
       "      <td>IPSA should receive an extra $1,000 today for ...</td>\n",
       "    </tr>\n",
       "    <tr>\n",
       "      <th>F</th>\n",
       "      <td>539173446182526977</td>\n",
       "      <td>2014-11-30 21:45:41</td>\n",
       "      <td>@IEDPBrazil http://t.co/5QZNk7ra65 Brazil's ne...</td>\n",
       "    </tr>\n",
       "  </tbody>\n",
       "</table>\n",
       "</div>"
      ],
      "text/plain": [
       "                           id           created_at  \\\n",
       "rorypul M  730921414178439169  2016-05-13 00:43:39   \n",
       "        M  726062391134281728  2016-04-29 14:55:38   \n",
       "        M  639474464388988929  2015-09-03 16:26:07   \n",
       "        M  628239016417185792  2015-08-03 16:20:28   \n",
       "        M  571787355134291969  2015-02-28 21:41:43   \n",
       "        M  571787241665781760  2015-02-28 21:41:16   \n",
       "        M  571782596335677441  2015-02-28 21:22:48   \n",
       "        M  539889222996348928  2014-12-02 21:09:56   \n",
       "        M  539782469382574081  2014-12-02 14:05:44   \n",
       "        M  539173446182526977  2014-11-30 21:45:41   \n",
       "        F  730921414178439169  2016-05-13 00:43:39   \n",
       "        F  726062391134281728  2016-04-29 14:55:38   \n",
       "        F  639474464388988929  2015-09-03 16:26:07   \n",
       "        F  628239016417185792  2015-08-03 16:20:28   \n",
       "        F  571787355134291969  2015-02-28 21:41:43   \n",
       "        F  571787241665781760  2015-02-28 21:41:16   \n",
       "        F  571782596335677441  2015-02-28 21:22:48   \n",
       "        F  539889222996348928  2014-12-02 21:09:56   \n",
       "        F  539782469382574081  2014-12-02 14:05:44   \n",
       "        F  539173446182526977  2014-11-30 21:45:41   \n",
       "\n",
       "                                                        text  \n",
       "rorypul M  RT @poverty_action: New study in Science: \"Pos...  \n",
       "        M  RT @landportal: Good Read: Reshaping the Debat...  \n",
       "        M  Mobile technology for non-judicial grievance m...  \n",
       "        M  The Land Battle: 15 Organizations Defending La...  \n",
       "        M                                #removeterranceburk  \n",
       "        M  RT @IEDPBrazil: When in Brazil, #GoBlue! Thank...  \n",
       "        M  RT @IEDPBrazil: A gente acaba de chegar em Bra...  \n",
       "        M  I just made a donation to U-M for #GivingBlued...  \n",
       "        M  IPSA should receive an extra $1,000 today for ...  \n",
       "        M  @IEDPBrazil http://t.co/5QZNk7ra65 Brazil's ne...  \n",
       "        F  RT @poverty_action: New study in Science: \"Pos...  \n",
       "        F  RT @landportal: Good Read: Reshaping the Debat...  \n",
       "        F  Mobile technology for non-judicial grievance m...  \n",
       "        F  The Land Battle: 15 Organizations Defending La...  \n",
       "        F                                #removeterranceburk  \n",
       "        F  RT @IEDPBrazil: When in Brazil, #GoBlue! Thank...  \n",
       "        F  RT @IEDPBrazil: A gente acaba de chegar em Bra...  \n",
       "        F  I just made a donation to U-M for #GivingBlued...  \n",
       "        F  IPSA should receive an extra $1,000 today for ...  \n",
       "        F  @IEDPBrazil http://t.co/5QZNk7ra65 Brazil's ne...  "
      ]
     },
     "execution_count": 8,
     "metadata": {},
     "output_type": "execute_result"
    }
   ],
   "source": [
    "df"
   ]
  },
  {
   "cell_type": "code",
   "execution_count": 28,
   "metadata": {
    "collapsed": false
   },
   "outputs": [
    {
     "data": {
      "text/plain": [
       "<sqlite3.Cursor at 0x11220aea0>"
      ]
     },
     "execution_count": 28,
     "metadata": {},
     "output_type": "execute_result"
    }
   ],
   "source": [
    "# Creating a sql table of twitter handles we are interested in\n",
    "conn = sqlite3.connect('Dropbox/Python/blog/content/Twitter_soccer/twitter_sports.sqlite')\n",
    "cur = conn.cursor()\n",
    "\n",
    "cur.executescript(\"\"\"\n",
    "DROP TABLE IF EXISTS User;\n",
    "DROP TABLE IF EXISTS Tweet_sports;\n",
    "\n",
    "CREATE TABLE User (\n",
    "    id  INTEGER NOT NULL PRIMARY KEY AUTOINCREMENT UNIQUE,\n",
    "    Name TEXT UNIQUE,\n",
    "    Handle   TEXT UNIQUE,\n",
    "    Sex TEXT\n",
    ");\n",
    "\n",
    "CREATE TABLE Tweet_sports (\n",
    "    id INTEGER UNIQUE NOT NULL PRIMARY KEY,\n",
    "    user_id INTEGER, \n",
    "    Tweet TEXT\n",
    ");\n",
    "\n",
    "\"\"\")"
   ]
  },
  {
   "cell_type": "code",
   "execution_count": 29,
   "metadata": {
    "collapsed": false
   },
   "outputs": [
    {
     "data": {
      "text/plain": [
       "<sqlite3.Cursor at 0x11220aea0>"
      ]
     },
     "execution_count": 29,
     "metadata": {},
     "output_type": "execute_result"
    }
   ],
   "source": [
    "cur.executescript('''\n",
    "INSERT INTO User (Name, Handle, Sex) VALUES (\"The Equalizer\", \"EqualizerSoccer\", \"F\");\n",
    "INSERT INTO User (Name, Handle, Sex) VALUES (\"Alexi Lalas\", \"AlexiLalas\", \"M\");\n",
    "INSERT INTO User (Name, Handle, Sex) VALUES (\"Eric Wynalda\", \"EricWynalda\", \"M\");\n",
    "INSERT INTO User (Name, Handle, Sex) VALUES (\"Taylor Twellman\", \"TaylorTwellman\", \"M\");\n",
    "INSERT INTO User (Name, Handle, Sex) VALUES (\"Kate Markgraf\", \"katemarkgraf\", \"F\");\n",
    "INSERT INTO User (Name, Handle, Sex) VALUES (\"Julie Foudy\", \"JulieFoudy\", \"F\");\n",
    "INSERT INTO User (Name, Handle, Sex) VALUES (\"Brad Friedel\", \"BradFriedel\", \"M\");\n",
    "INSERT INTO User (Name, Handle, Sex) VALUES (\"Julie Stewart-Binks\", \"JSB_FOX\", \"F\");\n",
    "INSERT INTO User (Name, Handle, Sex) VALUES (\"Adriana Monsalve\", \"AndrianaMonsalve\", \"F\");\n",
    "INSERT INTO User (Name, Handle, Sex) VALUES (\"Kyle Martino\", \"kylemartino\", \"M\");\n",
    "INSERT INTO User (Name, Handle, Sex) VALUES (\"Brandi Chastain\", \"brandichastain\", \"F\");\n",
    "INSERT INTO User (Name, Handle, Sex) VALUES (\"Aly Wagner\", \"alywagner\", \"F\");\n",
    "INSERT INTO User (Name, Handle, Sex) VALUES (\"Abby Wambach\", \"AbbyWambach\", \"F\");\n",
    "INSERT INTO User (Name, Handle, Sex) VALUES (\"Kate Abdo\", \"kate_abdo\", \"F\");\n",
    "INSERT INTO User (Name, Handle, Sex) VALUES (\"Gabriel Marcotti\", \"Marcotti\", \"M\");\n",
    "INSERT INTO User (Name, Handle, Sex) VALUES (\"Grant Wahl\", \"GrantWahl\", \"M\");\n",
    "INSERT INTO User (Name, Handle, Sex) VALUES (\"Maximilano Bretos\", \"mbretosESPN\", \"M\");\n",
    "INSERT INTO User (Name, Handle, Sex) VALUES (\"Antoinetta Collins\", \"AntoinettaESPN\", \"F\");\n",
    "INSERT INTO User (Name, Handle, Sex) VALUES (\"Rob Stone\", \"RobStoneONFOX\", \"M\");\n",
    "INSERT INTO User (Name, Handle, Sex) VALUES (\"Warren Barton\", \"warrenbarton2\", \"M\");\n",
    "INSERT INTO User (Name, Handle, Sex) VALUES (\"Arlo White\", \"arlowhite\", \"M\");\n",
    "INSERT INTO User (Name, Handle, Sex) VALUES (\"Alejandro Moreno\", \"AleMorenoESPN\", \"M\");\n",
    "INSERT INTO User (Name, Handle, Sex) VALUES (\"Robbie Mustoe\", \"robbiemustoe\", \"M\");\n",
    "INSERT INTO User (Name, Handle, Sex) VALUES (\"Steve Bower\", \"SteveBowercomm\", \"M\");\n",
    "INSERT INTO User (Name, Handle, Sex) VALUES (\"Robbie Earle & Robbie Mustoe\", \"The2RobbiesNBC\", \"M\");\n",
    "INSERT INTO User (Name, Handle, Sex) VALUES (\"Keith Costigan\", \"KeithCostigan\", \"M\");\n",
    "INSERT INTO User (Name, Handle, Sex) VALUES (\"Cat Whitehilll\", \"catwhitehill4\", \"F\");\n",
    "INSERT INTO User (Name, Handle, Sex) VALUES (\"Bob Ley\", \"BobLeyESPN\", \"M\");\n",
    "INSERT INTO User (Name, Handle, Sex) VALUES (\"Tony DiCicco\", \"tonysocc\", \"M\");\n",
    "INSERT INTO User (Name, Handle, Sex) VALUES (\"Mark Jackson\", \"MarkJackson13\", \"M\");\n",
    "INSERT INTO User (Name, Handle, Sex) VALUES (\"Hannah Storm\", \"HannahStormESPN\", \"F\");\n",
    "INSERT INTO User (Name, Handle, Sex) VALUES (\"Doris Burke\", \"DorisBurkeNBA\", \"F\");\n",
    "INSERT INTO User (Name, Handle, Sex) VALUES (\"Michael Smith\", \"michaelsmith\", \"M\");\n",
    "INSERT INTO User (Name, Handle, Sex) VALUES (\"Jemele Hill\", \"jemelehill\", \"F\");\n",
    "INSERT INTO User (Name, Handle, Sex) VALUES (\"Jalen Rose\", \"jalenrose\", \"M\");\n",
    "INSERT INTO User (Name, Handle, Sex) VALUES (\"Sage Steele\", \"sagesteele\", \"F\");\n",
    "INSERT INTO User (Name, Handle, Sex) VALUES (\"Michelle Beadle\", \"MichelleDBeadle\", \"F\");\n",
    "INSERT INTO User (Name, Handle, Sex) VALUES (\"Tracy McGrady\", \"Real_T_Mac\", \"M\");\n",
    "INSERT INTO User (Name, Handle, Sex) VALUES (\"LaChina Robinson\", \"LaChinaRobinson\", \"F\");\n",
    "INSERT INTO User (Name, Handle, Sex) VALUES (\"Stephen Bardo\", \"stephenbardo\", \"M\");\n",
    "INSERT INTO User (Name, Handle, Sex) VALUES (\"Lindsay Czarniak\", \"lindsayczarniak\", \"F\");\n",
    "INSERT INTO User (Name, Handle, Sex) VALUES (\"Mark Jones\", \"MarkJonesESPN\", \"M\");\n",
    "INSERT INTO User (Name, Handle, Sex) VALUES (\"Holly Rowe\", \"sportsiren\", \"F\");\n",
    "INSERT INTO User (Name, Handle, Sex) VALUES (\"Heather Cox\", \"HeatherCoxNBC\", \"F\");\n",
    "INSERT INTO User (Name, Handle, Sex) VALUES (\"Marc Kestecher\", \"marckestecher\", \"M\");\n",
    "INSERT INTO User (Name, Handle, Sex) VALUES (\"Rebecca Lobo\", \"RebeccaLobo\", \"F\");\n",
    "INSERT INTO User (Name, Handle, Sex) VALUES (\"Gene Wojciechowski\", \"GenoEspn\", \"M\");\n",
    "INSERT INTO User (Name, Handle, Sex) VALUES (\"Dave Pasch\", \"DavePasch\", \"M\");\n",
    "INSERT INTO User (Name, Handle, Sex) VALUES (\"Scott van Pelt\", \"notthefakeSVP\", \"M\");\n",
    "''')"
   ]
  },
  {
   "cell_type": "code",
   "execution_count": 30,
   "metadata": {
    "collapsed": false
   },
   "outputs": [],
   "source": [
    "result = cur.execute('''SELECT Handle, Sex FROM User''')\n",
    "a_list = result.fetchall()"
   ]
  },
  {
   "cell_type": "code",
   "execution_count": 31,
   "metadata": {
    "collapsed": false
   },
   "outputs": [
    {
     "data": {
      "text/plain": [
       "[(u'EqualizerSoccer', u'F'),\n",
       " (u'AlexiLalas', u'M'),\n",
       " (u'EricWynalda', u'M'),\n",
       " (u'TaylorTwellman', u'M'),\n",
       " (u'katemarkgraf', u'F'),\n",
       " (u'JulieFoudy', u'F'),\n",
       " (u'BradFriedel', u'M'),\n",
       " (u'JSB_FOX', u'F'),\n",
       " (u'AndrianaMonsalve', u'F'),\n",
       " (u'kylemartino', u'M'),\n",
       " (u'brandichastain', u'F'),\n",
       " (u'alywagner', u'F'),\n",
       " (u'AbbyWambach', u'F'),\n",
       " (u'kate_abdo', u'F'),\n",
       " (u'Marcotti', u'M'),\n",
       " (u'GrantWahl', u'M'),\n",
       " (u'mbretosESPN', u'M'),\n",
       " (u'AntoinettaESPN', u'F'),\n",
       " (u'RobStoneONFOX', u'M'),\n",
       " (u'warrenbarton2', u'M'),\n",
       " (u'arlowhite', u'M'),\n",
       " (u'AleMorenoESPN', u'M'),\n",
       " (u'robbiemustoe', u'M'),\n",
       " (u'SteveBowercomm', u'M'),\n",
       " (u'The2RobbiesNBC', u'M'),\n",
       " (u'KeithCostigan', u'M'),\n",
       " (u'catwhitehill4', u'F'),\n",
       " (u'BobLeyESPN', u'M'),\n",
       " (u'tonysocc', u'M'),\n",
       " (u'MarkJackson13', u'M'),\n",
       " (u'HannahStormESPN', u'F'),\n",
       " (u'DorisBurkeNBA', u'F'),\n",
       " (u'michaelsmith', u'M'),\n",
       " (u'jemelehill', u'F'),\n",
       " (u'jalenrose', u'M'),\n",
       " (u'sagesteele', u'F'),\n",
       " (u'MichelleDBeadle', u'F'),\n",
       " (u'Real_T_Mac', u'M'),\n",
       " (u'LaChinaRobinson', u'F'),\n",
       " (u'stephenbardo', u'M'),\n",
       " (u'lindsayczarniak', u'F'),\n",
       " (u'MarkJonesESPN', u'M'),\n",
       " (u'sportsiren', u'F'),\n",
       " (u'HeatherCoxNBC', u'F'),\n",
       " (u'marckestecher', u'M'),\n",
       " (u'RebeccaLobo', u'F'),\n",
       " (u'GenoEspn', u'M'),\n",
       " (u'DavePasch', u'M'),\n",
       " (u'notthefakeSVP', u'M')]"
      ]
     },
     "execution_count": 31,
     "metadata": {},
     "output_type": "execute_result"
    }
   ],
   "source": [
    "a_list"
   ]
  },
  {
   "cell_type": "code",
   "execution_count": 32,
   "metadata": {
    "collapsed": false
   },
   "outputs": [
    {
     "data": {
      "text/plain": [
       "str"
      ]
     },
     "execution_count": 32,
     "metadata": {},
     "output_type": "execute_result"
    }
   ],
   "source": [
    "for i in range(0,len(a_list)):\n",
    "    a_list[i] = str(a_list[i])\n",
    "type(a_list[0])"
   ]
  },
  {
   "cell_type": "code",
   "execution_count": 49,
   "metadata": {
    "collapsed": false
   },
   "outputs": [
    {
     "data": {
      "text/plain": [
       "[('EqualizerSoccer', 'F'),\n",
       " ('AlexiLalas', 'M'),\n",
       " ('EricWynalda', 'M'),\n",
       " ('TaylorTwellman', 'M'),\n",
       " ('katemarkgraf', 'F'),\n",
       " ('JulieFoudy', 'F'),\n",
       " ('BradFriedel', 'M'),\n",
       " ('JSB_FOX', 'F'),\n",
       " ('AndrianaMonsalve', 'F'),\n",
       " ('kylemartino', 'M'),\n",
       " ('brandichastain', 'F'),\n",
       " ('alywagner', 'F'),\n",
       " ('AbbyWambach', 'F'),\n",
       " ('kate_abdo', 'F'),\n",
       " ('Marcotti', 'M'),\n",
       " ('GrantWahl', 'M'),\n",
       " ('mbretosESPN', 'M'),\n",
       " ('AntoinettaESPN', 'F'),\n",
       " ('RobStoneONFOX', 'M'),\n",
       " ('warrenbarton2', 'M'),\n",
       " ('arlowhite', 'M'),\n",
       " ('AleMorenoESPN', 'M'),\n",
       " ('robbiemustoe', 'M'),\n",
       " ('SteveBowercomm', 'M'),\n",
       " ('The2RobbiesNBC', 'M'),\n",
       " ('KeithCostigan', 'M'),\n",
       " ('catwhitehill4', 'F'),\n",
       " ('BobLeyESPN', 'M'),\n",
       " ('tonysocc', 'M'),\n",
       " ('MarkJackson13', 'M'),\n",
       " ('HannahStormESPN', 'F'),\n",
       " ('DorisBurkeNBA', 'F'),\n",
       " ('michaelsmith', 'M'),\n",
       " ('jemelehill', 'F'),\n",
       " ('jalenrose', 'M'),\n",
       " ('sagesteele', 'F'),\n",
       " ('MichelleDBeadle', 'F'),\n",
       " ('Real_T_Mac', 'M'),\n",
       " ('LaChinaRobinson', 'F'),\n",
       " ('stephenbardo', 'M'),\n",
       " ('lindsayczarniak', 'F'),\n",
       " ('MarkJonesESPN', 'M'),\n",
       " ('sportsiren', 'F'),\n",
       " ('HeatherCoxNBC', 'F'),\n",
       " ('marckestecher', 'M'),\n",
       " ('RebeccaLobo', 'F'),\n",
       " ('GenoEspn', 'M'),\n",
       " ('DavePasch', 'M'),\n",
       " ('notthefakeSVP', 'M')]"
      ]
     },
     "execution_count": 49,
     "metadata": {},
     "output_type": "execute_result"
    }
   ],
   "source": [
    "names = []\n",
    "for i in range(0,len(a_list)):\n",
    "    handle = re.findall(\"\\(u'(.*)', u'(.*)'\\)\", a_list[i])[0]\n",
    "    #print handle\n",
    "    names.append(handle)\n",
    "names"
   ]
  },
  {
   "cell_type": "code",
   "execution_count": null,
   "metadata": {
    "collapsed": false
   },
   "outputs": [],
   "source": [
    "names = []\n",
    "for i in range(0,len(a_list)):\n",
    "    handle = re.findall(\"u'(.*)',\", a_list[i])\n",
    "    names.append(handle)\n",
    "names"
   ]
  },
  {
   "cell_type": "code",
   "execution_count": null,
   "metadata": {
    "collapsed": false
   },
   "outputs": [],
   "source": [
    "########################## Works to create df with columns for each dictionary key, but only gives last 20 tweets for some reason ###########\n",
    "x = api.user_timeline('alexilalas')\n",
    "\n",
    "df = pd.DataFrame()\n",
    "for i in x:\n",
    "   a = json.dumps(i._json)\n",
    "   b = pd.read_json(a)\n",
    "   df = df.append(b.ix[0] )\n",
    "\n",
    "df"
   ]
  },
  {
   "cell_type": "code",
   "execution_count": null,
   "metadata": {
    "collapsed": true
   },
   "outputs": [],
   "source": [
    "######################## Need to check/run this and to build in a time delay!!! ######################\n",
    "df = pd.DataFrame()\n",
    "df['handle'] = []\n",
    "for i in range(0,len(names)):\n",
    "    data = api.user_timeline(names[i])\n",
    "    \n",
    "    for j in data:\n",
    "        js = json.dumps(j._json)\n",
    "        py_data = pd.read_json(js)\n",
    "        df = df.append(py_data.ix[0])\n",
    "        ############## Need to figure out how to plug in the handle into the 'Handle' column###########\n",
    "    time.sleep(900) # delaying the loop 15 minutes to account for twitter regulations ######### check to make sure this is the right time delay"
   ]
  },
  {
   "cell_type": "code",
   "execution_count": null,
   "metadata": {
    "collapsed": true
   },
   "outputs": [],
   "source": [
    "###################### This works, but need to change to the loop below #####################\n",
    "for status in tweepy.Cursor(api.user_timeline, id = \"alexilalas\").items(1):\n",
    "    a = json.dumps(status._json)\n",
    "    try: js = json.loads(str(a))\n",
    "    except: js = None\n",
    "    tweet = js[\"text\"]\n",
    "    cur.execute('''INSERT INTO `Tweet_sports` (Tweet) \n",
    "                    VALUES ( ? )''', ( tweet, ) )\n",
    "    \n",
    "################ NEED TO TEST THIS ##################\n",
    "    # Grabs id numbers based on twitter handle\n",
    "    handle = \"alexilalas\"\n",
    "    cur.execute('SELECT id FROM User WHERE id = ? ', (handle, ))\n",
    "    user_id = cur.fetchone()[0]\n",
    "    \n",
    "    # Links id number from User table to user_id in Tweet_sports table\n",
    "    cur.execute('''INSERT INTO `Tweet_sports` (user_id) \n",
    "                    VALUES ( ? )''', ( user_id, ) )\n",
    "    conn.commit()"
   ]
  },
  {
   "cell_type": "code",
   "execution_count": 38,
   "metadata": {
    "collapsed": false
   },
   "outputs": [],
   "source": [
    "######################## Need to check/run this and to build in a time delay!!! ######################\n",
    "for i in range(0,len(names)):\n",
    "    data = api.user_timeline(names[i]) # This could be problematic\n",
    "    a = json.dumps(data._json)\n",
    "    try: js = json.loads(str(a))\n",
    "    except: js = None\n",
    "    tweet = js[\"text\"]\n",
    "    cur.execute('''INSERT INTO `Tweet_sports` (Tweet) \n",
    "                    VALUES ( ? )''', ( tweet, ) )\n",
    "    \n",
    "    # Grabs id numbers based on twitter handle\n",
    "    handle = names[i]\n",
    "    cur.execute('SELECT id FROM User WHERE id = ? ', (handle, ))\n",
    "    user_id = cur.fetchone()[0]\n",
    "    \n",
    "    # Links id number from User table to user_id in Tweet_sports table\n",
    "    cur.execute('''INSERT INTO `Tweet_sports` (user_id) \n",
    "                    VALUES ( ? )''', ( user_id, ) )\n",
    "    \n",
    "    conn.commit()\n"
   ]
  }
 ],
 "metadata": {
  "anaconda-cloud": {},
  "kernelspec": {
   "display_name": "Python [default]",
   "language": "python",
   "name": "python2"
  },
  "language_info": {
   "codemirror_mode": {
    "name": "ipython",
    "version": 2
   },
   "file_extension": ".py",
   "mimetype": "text/x-python",
   "name": "python",
   "nbconvert_exporter": "python",
   "pygments_lexer": "ipython2",
   "version": "2.7.12"
  }
 },
 "nbformat": 4,
 "nbformat_minor": 1
}
