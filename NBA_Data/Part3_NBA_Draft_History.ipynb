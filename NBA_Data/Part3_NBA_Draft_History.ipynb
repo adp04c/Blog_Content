{
 "cells": [
  {
   "cell_type": "markdown",
   "metadata": {},
   "source": [
    "# Filling out the data\n",
    "For this third post, I'll be information on player performance that I want to be able to fully examine the correlation between draft position and player quality. In this post I have one objective:\n",
    "Get more player quality data from basketball-reference. Specifically, I'm going to get data on all-star appearances, all-nba selections, etc. This is mainly as more practice with scraping, as well as working with merging data sets."
   ]
  },
  {
   "cell_type": "code",
   "execution_count": 1,
   "metadata": {
    "collapsed": true
   },
   "outputs": [],
   "source": [
    "# Standard imports \n",
    "import pandas as pd\n",
    "from pandas import Series,DataFrame,read_html\n",
    "import numpy as np\n",
    "\n",
    "from bs4 import BeautifulSoup\n",
    "import html5lib"
   ]
  },
  {
   "cell_type": "markdown",
   "metadata": {},
   "source": [
    "# Player accomplishment data"
   ]
  },
  {
   "cell_type": "code",
   "execution_count": 2,
   "metadata": {
    "collapsed": false
   },
   "outputs": [
    {
     "data": {
      "text/html": [
       "<div>\n",
       "<table border=\"1\" class=\"dataframe\">\n",
       "  <thead>\n",
       "    <tr style=\"text-align: right;\">\n",
       "      <th></th>\n",
       "      <th>Season</th>\n",
       "      <th>Lg</th>\n",
       "      <th>Tm</th>\n",
       "      <th></th>\n",
       "      <th>.1</th>\n",
       "      <th>.2</th>\n",
       "      <th>.3</th>\n",
       "      <th>.4</th>\n",
       "    </tr>\n",
       "  </thead>\n",
       "  <tbody>\n",
       "    <tr>\n",
       "      <th>0</th>\n",
       "      <td>2015-16</td>\n",
       "      <td>NBA</td>\n",
       "      <td>1st</td>\n",
       "      <td>DeAndre Jordan C</td>\n",
       "      <td>LeBron James F</td>\n",
       "      <td>Kawhi Leonard F</td>\n",
       "      <td>Stephen Curry G</td>\n",
       "      <td>Russell Westbrook G</td>\n",
       "    </tr>\n",
       "    <tr>\n",
       "      <th>1</th>\n",
       "      <td>2015-16</td>\n",
       "      <td>NBA</td>\n",
       "      <td>2nd</td>\n",
       "      <td>DeMarcus Cousins C</td>\n",
       "      <td>Draymond Green F</td>\n",
       "      <td>Kevin Durant F</td>\n",
       "      <td>Chris Paul G</td>\n",
       "      <td>Damian Lillard G</td>\n",
       "    </tr>\n",
       "    <tr>\n",
       "      <th>2</th>\n",
       "      <td>2015-16</td>\n",
       "      <td>NBA</td>\n",
       "      <td>3rd</td>\n",
       "      <td>Andre Drummond C</td>\n",
       "      <td>LaMarcus Aldridge F</td>\n",
       "      <td>Paul George F</td>\n",
       "      <td>Kyle Lowry G</td>\n",
       "      <td>Klay Thompson G</td>\n",
       "    </tr>\n",
       "    <tr>\n",
       "      <th>3</th>\n",
       "      <td>NaN</td>\n",
       "      <td>NaN</td>\n",
       "      <td>NaN</td>\n",
       "      <td>NaN</td>\n",
       "      <td>NaN</td>\n",
       "      <td>NaN</td>\n",
       "      <td>NaN</td>\n",
       "      <td>NaN</td>\n",
       "    </tr>\n",
       "    <tr>\n",
       "      <th>4</th>\n",
       "      <td>2014-15</td>\n",
       "      <td>NBA</td>\n",
       "      <td>1st</td>\n",
       "      <td>Marc Gasol C</td>\n",
       "      <td>LeBron James F</td>\n",
       "      <td>Anthony Davis F</td>\n",
       "      <td>James Harden G</td>\n",
       "      <td>Stephen Curry G</td>\n",
       "    </tr>\n",
       "  </tbody>\n",
       "</table>\n",
       "</div>"
      ],
      "text/plain": [
       "    Season   Lg   Tm                                       .1  \\\n",
       "0  2015-16  NBA  1st    DeAndre Jordan C       LeBron James F   \n",
       "1  2015-16  NBA  2nd  DeMarcus Cousins C     Draymond Green F   \n",
       "2  2015-16  NBA  3rd    Andre Drummond C  LaMarcus Aldridge F   \n",
       "3      NaN  NaN  NaN                 NaN                  NaN   \n",
       "4  2014-15  NBA  1st        Marc Gasol C       LeBron James F   \n",
       "\n",
       "                .2               .3                   .4  \n",
       "0  Kawhi Leonard F  Stephen Curry G  Russell Westbrook G  \n",
       "1   Kevin Durant F     Chris Paul G     Damian Lillard G  \n",
       "2    Paul George F     Kyle Lowry G      Klay Thompson G  \n",
       "3              NaN              NaN                  NaN  \n",
       "4  Anthony Davis F   James Harden G      Stephen Curry G  "
      ]
     },
     "execution_count": 2,
     "metadata": {},
     "output_type": "execute_result"
    }
   ],
   "source": [
    "# Dealing with All-NBA team selections\n",
    "url = \"http://www.basketball-reference.com/awards/all_league.html\"\n",
    "dframe_list = pd.io.html.read_html(url)\n",
    "df = dframe_list[0]\n",
    "df.head()"
   ]
  },
  {
   "cell_type": "markdown",
   "metadata": {},
   "source": [
    "This code chunk seems pretty great for scraping a website and returning a DataFrame for me to then manipulate. Now I need to properly label the columns, drop the useless rows, relabel some rows and pivot the table. I am not going to keep whether a player was selected to the first, second, or third All-NBA team because the distinction I don't think is very relevant for this analysis. Why is it not relevant? Well, each team is restricted to the five starting positions, thus though Russell Westbrook may be a more valuable player than say Marc Gasol, he may not be as valuable as Curry or Harden, so he gets bumped to the second team despite being more valuable or 'better' than one of the first team players. What matters for this analysis is not how good a player is with respect to those playing his same position, rather what matters is how good he is with respect to the league as a whole. As such, being considered in the top ten or fifteen players league wide I think is a more relevant statistic than necessarily his rank at his position. "
   ]
  },
  {
   "cell_type": "code",
   "execution_count": 5,
   "metadata": {
    "collapsed": true
   },
   "outputs": [],
   "source": [
    "# Dropping columns\n",
    "df.drop(df.columns[[1,2]], inplace=True, axis=1)\n"
   ]
  },
  {
   "cell_type": "code",
   "execution_count": 6,
   "metadata": {
    "collapsed": false
   },
   "outputs": [
    {
     "data": {
      "text/html": [
       "<div>\n",
       "<table border=\"1\" class=\"dataframe\">\n",
       "  <thead>\n",
       "    <tr style=\"text-align: right;\">\n",
       "      <th></th>\n",
       "      <th>year</th>\n",
       "      <th>name1</th>\n",
       "      <th>name2</th>\n",
       "      <th>name3</th>\n",
       "      <th>name4</th>\n",
       "      <th>name5</th>\n",
       "    </tr>\n",
       "  </thead>\n",
       "  <tbody>\n",
       "    <tr>\n",
       "      <th>0</th>\n",
       "      <td>2015-16</td>\n",
       "      <td>DeAndre Jordan C</td>\n",
       "      <td>LeBron James F</td>\n",
       "      <td>Kawhi Leonard F</td>\n",
       "      <td>Stephen Curry G</td>\n",
       "      <td>Russell Westbrook G</td>\n",
       "    </tr>\n",
       "    <tr>\n",
       "      <th>1</th>\n",
       "      <td>2015-16</td>\n",
       "      <td>DeMarcus Cousins C</td>\n",
       "      <td>Draymond Green F</td>\n",
       "      <td>Kevin Durant F</td>\n",
       "      <td>Chris Paul G</td>\n",
       "      <td>Damian Lillard G</td>\n",
       "    </tr>\n",
       "    <tr>\n",
       "      <th>2</th>\n",
       "      <td>2015-16</td>\n",
       "      <td>Andre Drummond C</td>\n",
       "      <td>LaMarcus Aldridge F</td>\n",
       "      <td>Paul George F</td>\n",
       "      <td>Kyle Lowry G</td>\n",
       "      <td>Klay Thompson G</td>\n",
       "    </tr>\n",
       "    <tr>\n",
       "      <th>4</th>\n",
       "      <td>2014-15</td>\n",
       "      <td>Marc Gasol C</td>\n",
       "      <td>LeBron James F</td>\n",
       "      <td>Anthony Davis F</td>\n",
       "      <td>James Harden G</td>\n",
       "      <td>Stephen Curry G</td>\n",
       "    </tr>\n",
       "    <tr>\n",
       "      <th>5</th>\n",
       "      <td>2014-15</td>\n",
       "      <td>Pau Gasol C</td>\n",
       "      <td>DeMarcus Cousins C</td>\n",
       "      <td>LaMarcus Aldridge F</td>\n",
       "      <td>Chris Paul G</td>\n",
       "      <td>Russell Westbrook G</td>\n",
       "    </tr>\n",
       "  </tbody>\n",
       "</table>\n",
       "</div>"
      ],
      "text/plain": [
       "      year               name1                name2                name3  \\\n",
       "0  2015-16    DeAndre Jordan C       LeBron James F      Kawhi Leonard F   \n",
       "1  2015-16  DeMarcus Cousins C     Draymond Green F       Kevin Durant F   \n",
       "2  2015-16    Andre Drummond C  LaMarcus Aldridge F        Paul George F   \n",
       "4  2014-15        Marc Gasol C       LeBron James F      Anthony Davis F   \n",
       "5  2014-15         Pau Gasol C   DeMarcus Cousins C  LaMarcus Aldridge F   \n",
       "\n",
       "             name4                name5  \n",
       "0  Stephen Curry G  Russell Westbrook G  \n",
       "1     Chris Paul G     Damian Lillard G  \n",
       "2     Kyle Lowry G      Klay Thompson G  \n",
       "4   James Harden G      Stephen Curry G  \n",
       "5     Chris Paul G  Russell Westbrook G  "
      ]
     },
     "execution_count": 6,
     "metadata": {},
     "output_type": "execute_result"
    }
   ],
   "source": [
    "# Inserting proper column names\n",
    "column_names = ['year', 'name1', 'name2', 'name3', 'name4', 'name5']\n",
    "df.columns = column_names\n",
    "\n",
    "# Dropping NaN filled rows\n",
    "df = df[df.name1.notnull()]\n",
    "df.head()"
   ]
  },
  {
   "cell_type": "markdown",
   "metadata": {},
   "source": [
    "## A challenge arises\n",
    "I now want to essentially pivot this data frame such that the first column is the name of every person ever selected to an all-NBA team and the second column is the number of times they have been selected. The other part of this challenge is that the columns here do not simply have a player's name, but also includes their position. I think this means I will likely need to use a regular expression to only grab the player's name so that I can eventually merge this DataFrame with others that just have a player's name. "
   ]
  },
  {
   "cell_type": "markdown",
   "metadata": {},
   "source": [
    "I played around for about 10 minutes with the regular expression idea before deciding that it was unlikely to be the most efficient way. I instead googled for a way to split apart pieces of a column and found [this][1]. Using code from this I can now break up the elements of a cell in the DataFrame.\n",
    "[1]: http://stackoverflow.com/questions/17116814/pandas-how-do-i-split-text-in-a-column-into-multiple-rows"
   ]
  },
  {
   "cell_type": "code",
   "execution_count": 7,
   "metadata": {
    "collapsed": false
   },
   "outputs": [
    {
     "data": {
      "text/html": [
       "<div>\n",
       "<table border=\"1\" class=\"dataframe\">\n",
       "  <thead>\n",
       "    <tr style=\"text-align: right;\">\n",
       "      <th></th>\n",
       "      <th>0</th>\n",
       "      <th>1</th>\n",
       "    </tr>\n",
       "  </thead>\n",
       "  <tbody>\n",
       "    <tr>\n",
       "      <th>0</th>\n",
       "      <td>2015</td>\n",
       "      <td>16</td>\n",
       "    </tr>\n",
       "    <tr>\n",
       "      <th>1</th>\n",
       "      <td>2015</td>\n",
       "      <td>16</td>\n",
       "    </tr>\n",
       "    <tr>\n",
       "      <th>2</th>\n",
       "      <td>2015</td>\n",
       "      <td>16</td>\n",
       "    </tr>\n",
       "    <tr>\n",
       "      <th>3</th>\n",
       "      <td>2014</td>\n",
       "      <td>15</td>\n",
       "    </tr>\n",
       "    <tr>\n",
       "      <th>4</th>\n",
       "      <td>2014</td>\n",
       "      <td>15</td>\n",
       "    </tr>\n",
       "  </tbody>\n",
       "</table>\n",
       "</div>"
      ],
      "text/plain": [
       "      0   1\n",
       "0  2015  16\n",
       "1  2015  16\n",
       "2  2015  16\n",
       "3  2014  15\n",
       "4  2014  15"
      ]
     },
     "execution_count": 7,
     "metadata": {},
     "output_type": "execute_result"
    }
   ],
   "source": [
    "# First, I'm going to deal with the years column so that I can\n",
    "# drop all observations from before 1976.\n",
    "# This makes a separate DataFrame with the years split apart\n",
    "year = pd.DataFrame(df.year.str.split('-').tolist())\n",
    "year.head()"
   ]
  },
  {
   "cell_type": "code",
   "execution_count": 8,
   "metadata": {
    "collapsed": false
   },
   "outputs": [
    {
     "data": {
      "text/html": [
       "<div>\n",
       "<table border=\"1\" class=\"dataframe\">\n",
       "  <thead>\n",
       "    <tr style=\"text-align: right;\">\n",
       "      <th></th>\n",
       "      <th>year</th>\n",
       "    </tr>\n",
       "  </thead>\n",
       "  <tbody>\n",
       "    <tr>\n",
       "      <th>0</th>\n",
       "      <td>2015</td>\n",
       "    </tr>\n",
       "    <tr>\n",
       "      <th>1</th>\n",
       "      <td>2015</td>\n",
       "    </tr>\n",
       "    <tr>\n",
       "      <th>2</th>\n",
       "      <td>2015</td>\n",
       "    </tr>\n",
       "    <tr>\n",
       "      <th>3</th>\n",
       "      <td>2014</td>\n",
       "    </tr>\n",
       "    <tr>\n",
       "      <th>4</th>\n",
       "      <td>2014</td>\n",
       "    </tr>\n",
       "  </tbody>\n",
       "</table>\n",
       "</div>"
      ],
      "text/plain": [
       "   year\n",
       "0  2015\n",
       "1  2015\n",
       "2  2015\n",
       "3  2014\n",
       "4  2014"
      ]
     },
     "execution_count": 8,
     "metadata": {},
     "output_type": "execute_result"
    }
   ],
   "source": [
    "# Now I'm simply dropping the useless second column and renaming\n",
    "year.drop(year.columns[[1]], inplace=True, axis=1)\n",
    "column_name = ['year']\n",
    "year.columns = column_name\n",
    "year.head()"
   ]
  },
  {
   "cell_type": "code",
   "execution_count": 9,
   "metadata": {
    "collapsed": false
   },
   "outputs": [
    {
     "name": "stderr",
     "output_type": "stream",
     "text": [
      "/Users/rorypulvino/anaconda2/lib/python2.7/site-packages/ipykernel/__main__.py:3: SettingWithCopyWarning: \n",
      "A value is trying to be set on a copy of a slice from a DataFrame\n",
      "\n",
      "See the caveats in the documentation: http://pandas.pydata.org/pandas-docs/stable/indexing.html#indexing-view-versus-copy\n",
      "  app.launch_new_instance()\n"
     ]
    },
    {
     "data": {
      "text/html": [
       "<div>\n",
       "<table border=\"1\" class=\"dataframe\">\n",
       "  <thead>\n",
       "    <tr style=\"text-align: right;\">\n",
       "      <th></th>\n",
       "      <th>year</th>\n",
       "      <th>name1</th>\n",
       "      <th>name2</th>\n",
       "      <th>name3</th>\n",
       "      <th>name4</th>\n",
       "      <th>name5</th>\n",
       "    </tr>\n",
       "  </thead>\n",
       "  <tbody>\n",
       "    <tr>\n",
       "      <th>0</th>\n",
       "      <td>2015</td>\n",
       "      <td>DeAndre Jordan C</td>\n",
       "      <td>LeBron James F</td>\n",
       "      <td>Kawhi Leonard F</td>\n",
       "      <td>Stephen Curry G</td>\n",
       "      <td>Russell Westbrook G</td>\n",
       "    </tr>\n",
       "    <tr>\n",
       "      <th>1</th>\n",
       "      <td>2015</td>\n",
       "      <td>DeMarcus Cousins C</td>\n",
       "      <td>Draymond Green F</td>\n",
       "      <td>Kevin Durant F</td>\n",
       "      <td>Chris Paul G</td>\n",
       "      <td>Damian Lillard G</td>\n",
       "    </tr>\n",
       "    <tr>\n",
       "      <th>2</th>\n",
       "      <td>2015</td>\n",
       "      <td>Andre Drummond C</td>\n",
       "      <td>LaMarcus Aldridge F</td>\n",
       "      <td>Paul George F</td>\n",
       "      <td>Kyle Lowry G</td>\n",
       "      <td>Klay Thompson G</td>\n",
       "    </tr>\n",
       "    <tr>\n",
       "      <th>3</th>\n",
       "      <td>2014</td>\n",
       "      <td>NaN</td>\n",
       "      <td>NaN</td>\n",
       "      <td>NaN</td>\n",
       "      <td>NaN</td>\n",
       "      <td>NaN</td>\n",
       "    </tr>\n",
       "    <tr>\n",
       "      <th>4</th>\n",
       "      <td>2014</td>\n",
       "      <td>Marc Gasol C</td>\n",
       "      <td>LeBron James F</td>\n",
       "      <td>Anthony Davis F</td>\n",
       "      <td>James Harden G</td>\n",
       "      <td>Stephen Curry G</td>\n",
       "    </tr>\n",
       "  </tbody>\n",
       "</table>\n",
       "</div>"
      ],
      "text/plain": [
       "   year               name1                name2            name3  \\\n",
       "0  2015    DeAndre Jordan C       LeBron James F  Kawhi Leonard F   \n",
       "1  2015  DeMarcus Cousins C     Draymond Green F   Kevin Durant F   \n",
       "2  2015    Andre Drummond C  LaMarcus Aldridge F    Paul George F   \n",
       "3  2014                 NaN                  NaN              NaN   \n",
       "4  2014        Marc Gasol C       LeBron James F  Anthony Davis F   \n",
       "\n",
       "             name4                name5  \n",
       "0  Stephen Curry G  Russell Westbrook G  \n",
       "1     Chris Paul G     Damian Lillard G  \n",
       "2     Kyle Lowry G      Klay Thompson G  \n",
       "3              NaN                  NaN  \n",
       "4   James Harden G      Stephen Curry G  "
      ]
     },
     "execution_count": 9,
     "metadata": {},
     "output_type": "execute_result"
    }
   ],
   "source": [
    "# Now I'm going to drop the column of years from the original \n",
    "# DataFrame\n",
    "df.drop(df.columns[[0]], inplace=True, axis=1)\n",
    "\n",
    "# And then create a new DataFrame that is just my original \n",
    "# DataFrame, but now with just names and the new DataFrame of just\n",
    "# the years\n",
    "df_allNBA = [year, df]\n",
    "df_allNBA = pd.concat(df_allNBA, axis=1)\n",
    "df_allNBA.head()"
   ]
  },
  {
   "cell_type": "code",
   "execution_count": 10,
   "metadata": {
    "collapsed": true
   },
   "outputs": [],
   "source": [
    "# Dropping players from before the 1976 season\n",
    "df_allNBA = df_allNBA[df_allNBA.year >= 1976]"
   ]
  },
  {
   "cell_type": "code",
   "execution_count": 11,
   "metadata": {
    "collapsed": false
   },
   "outputs": [
    {
     "data": {
      "text/html": [
       "<div>\n",
       "<table border=\"1\" class=\"dataframe\">\n",
       "  <thead>\n",
       "    <tr style=\"text-align: right;\">\n",
       "      <th></th>\n",
       "      <th></th>\n",
       "      <th>Player</th>\n",
       "    </tr>\n",
       "  </thead>\n",
       "  <tbody>\n",
       "    <tr>\n",
       "      <th rowspan=\"5\" valign=\"top\">0</th>\n",
       "      <th>name1</th>\n",
       "      <td>DeAndre Jordan C</td>\n",
       "    </tr>\n",
       "    <tr>\n",
       "      <th>name2</th>\n",
       "      <td>LeBron James F</td>\n",
       "    </tr>\n",
       "    <tr>\n",
       "      <th>name3</th>\n",
       "      <td>Kawhi Leonard F</td>\n",
       "    </tr>\n",
       "    <tr>\n",
       "      <th>name4</th>\n",
       "      <td>Stephen Curry G</td>\n",
       "    </tr>\n",
       "    <tr>\n",
       "      <th>name5</th>\n",
       "      <td>Russell Westbrook G</td>\n",
       "    </tr>\n",
       "  </tbody>\n",
       "</table>\n",
       "</div>"
      ],
      "text/plain": [
       "                      Player\n",
       "0 name1     DeAndre Jordan C\n",
       "  name2       LeBron James F\n",
       "  name3      Kawhi Leonard F\n",
       "  name4      Stephen Curry G\n",
       "  name5  Russell Westbrook G"
      ]
     },
     "execution_count": 11,
     "metadata": {},
     "output_type": "execute_result"
    }
   ],
   "source": [
    "# Now that I've dropped players from before 1976, I can drop the \n",
    "# years column. This will also help me later when I stack the \n",
    "# DataFrame in order to break the player's name from his position\n",
    "df_allNBA.drop(df_allNBA.columns[[0]], inplace=True, axis=1)\n",
    "\n",
    "# This will reshape the dataframe into a single column\n",
    "stacked = pd.DataFrame(df_allNBA.stack())\n",
    "stacked.columns = [['Player']]\n",
    "stacked.head()"
   ]
  },
  {
   "cell_type": "code",
   "execution_count": 12,
   "metadata": {
    "collapsed": false
   },
   "outputs": [
    {
     "data": {
      "text/html": [
       "<div>\n",
       "<table border=\"1\" class=\"dataframe\">\n",
       "  <thead>\n",
       "    <tr style=\"text-align: right;\">\n",
       "      <th></th>\n",
       "      <th>0</th>\n",
       "      <th>1</th>\n",
       "    </tr>\n",
       "  </thead>\n",
       "  <tbody>\n",
       "    <tr>\n",
       "      <th>0</th>\n",
       "      <td>DeAndre</td>\n",
       "      <td>Jordan</td>\n",
       "    </tr>\n",
       "    <tr>\n",
       "      <th>1</th>\n",
       "      <td>LeBron</td>\n",
       "      <td>James</td>\n",
       "    </tr>\n",
       "    <tr>\n",
       "      <th>2</th>\n",
       "      <td>Kawhi</td>\n",
       "      <td>Leonard</td>\n",
       "    </tr>\n",
       "    <tr>\n",
       "      <th>3</th>\n",
       "      <td>Stephen</td>\n",
       "      <td>Curry</td>\n",
       "    </tr>\n",
       "    <tr>\n",
       "      <th>4</th>\n",
       "      <td>Russell</td>\n",
       "      <td>Westbrook</td>\n",
       "    </tr>\n",
       "  </tbody>\n",
       "</table>\n",
       "</div>"
      ],
      "text/plain": [
       "         0          1\n",
       "0  DeAndre     Jordan\n",
       "1   LeBron      James\n",
       "2    Kawhi    Leonard\n",
       "3  Stephen      Curry\n",
       "4  Russell  Westbrook"
      ]
     },
     "execution_count": 12,
     "metadata": {},
     "output_type": "execute_result"
    }
   ],
   "source": [
    "# Back to using that piece of code to break apart elements of a \n",
    "# cell. This creates a dataframe now with two columns that I will\n",
    "# need to join back together\n",
    "stacked = pd.DataFrame(stacked.Player.str.split().tolist()).ix[:,0:1]\n",
    "stacked.head()"
   ]
  },
  {
   "cell_type": "code",
   "execution_count": 13,
   "metadata": {
    "collapsed": false
   },
   "outputs": [
    {
     "data": {
      "text/html": [
       "<div>\n",
       "<table border=\"1\" class=\"dataframe\">\n",
       "  <thead>\n",
       "    <tr style=\"text-align: right;\">\n",
       "      <th></th>\n",
       "      <th>Player</th>\n",
       "    </tr>\n",
       "  </thead>\n",
       "  <tbody>\n",
       "    <tr>\n",
       "      <th>0</th>\n",
       "      <td>DeAndre Jordan</td>\n",
       "    </tr>\n",
       "    <tr>\n",
       "      <th>1</th>\n",
       "      <td>LeBron James</td>\n",
       "    </tr>\n",
       "    <tr>\n",
       "      <th>2</th>\n",
       "      <td>Kawhi Leonard</td>\n",
       "    </tr>\n",
       "    <tr>\n",
       "      <th>3</th>\n",
       "      <td>Stephen Curry</td>\n",
       "    </tr>\n",
       "    <tr>\n",
       "      <th>4</th>\n",
       "      <td>Russell Westbrook</td>\n",
       "    </tr>\n",
       "  </tbody>\n",
       "</table>\n",
       "</div>"
      ],
      "text/plain": [
       "              Player\n",
       "0     DeAndre Jordan\n",
       "1       LeBron James\n",
       "2      Kawhi Leonard\n",
       "3      Stephen Curry\n",
       "4  Russell Westbrook"
      ]
     },
     "execution_count": 13,
     "metadata": {},
     "output_type": "execute_result"
    }
   ],
   "source": [
    "# Joining those columns back together\n",
    "stacked[0] = stacked[0] + \" \" + stacked[1]\n",
    "stacked.drop(stacked.columns[[1]], inplace=True, axis=1)\n",
    "stacked.columns = ['Player']\n",
    "stacked.head()"
   ]
  },
  {
   "cell_type": "code",
   "execution_count": 14,
   "metadata": {
    "collapsed": false
   },
   "outputs": [
    {
     "data": {
      "text/html": [
       "<div>\n",
       "<table border=\"1\" class=\"dataframe\">\n",
       "  <thead>\n",
       "    <tr style=\"text-align: right;\">\n",
       "      <th></th>\n",
       "      <th>Player</th>\n",
       "    </tr>\n",
       "  </thead>\n",
       "  <tbody>\n",
       "    <tr>\n",
       "      <th>Tim Duncan</th>\n",
       "      <td>15</td>\n",
       "    </tr>\n",
       "    <tr>\n",
       "      <th>Kobe Bryant</th>\n",
       "      <td>15</td>\n",
       "    </tr>\n",
       "    <tr>\n",
       "      <th>Shaquille O'Neal</th>\n",
       "      <td>14</td>\n",
       "    </tr>\n",
       "    <tr>\n",
       "      <th>Kareem Abdul-Jabbar</th>\n",
       "      <td>14</td>\n",
       "    </tr>\n",
       "    <tr>\n",
       "      <th>Karl Malone</th>\n",
       "      <td>14</td>\n",
       "    </tr>\n",
       "  </tbody>\n",
       "</table>\n",
       "</div>"
      ],
      "text/plain": [
       "                     Player\n",
       "Tim Duncan               15\n",
       "Kobe Bryant              15\n",
       "Shaquille O'Neal         14\n",
       "Kareem Abdul-Jabbar      14\n",
       "Karl Malone              14"
      ]
     },
     "execution_count": 14,
     "metadata": {},
     "output_type": "execute_result"
    }
   ],
   "source": [
    "# Now I can run through just a single column to count up how many\n",
    "# times a player's name appears\n",
    "df_allNBA = pd.DataFrame(stacked['Player'].value_counts())\n",
    "df_allNBA.head()"
   ]
  },
  {
   "cell_type": "code",
   "execution_count": 15,
   "metadata": {
    "collapsed": false
   },
   "outputs": [
    {
     "data": {
      "text/html": [
       "<div>\n",
       "<table border=\"1\" class=\"dataframe\">\n",
       "  <thead>\n",
       "    <tr style=\"text-align: right;\">\n",
       "      <th></th>\n",
       "      <th>Player</th>\n",
       "      <th>All_NBA</th>\n",
       "    </tr>\n",
       "  </thead>\n",
       "  <tbody>\n",
       "    <tr>\n",
       "      <th>0</th>\n",
       "      <td>Tim Duncan</td>\n",
       "      <td>15</td>\n",
       "    </tr>\n",
       "    <tr>\n",
       "      <th>1</th>\n",
       "      <td>Kobe Bryant</td>\n",
       "      <td>15</td>\n",
       "    </tr>\n",
       "    <tr>\n",
       "      <th>2</th>\n",
       "      <td>Shaquille O'Neal</td>\n",
       "      <td>14</td>\n",
       "    </tr>\n",
       "    <tr>\n",
       "      <th>3</th>\n",
       "      <td>Kareem Abdul-Jabbar</td>\n",
       "      <td>14</td>\n",
       "    </tr>\n",
       "    <tr>\n",
       "      <th>4</th>\n",
       "      <td>Karl Malone</td>\n",
       "      <td>14</td>\n",
       "    </tr>\n",
       "  </tbody>\n",
       "</table>\n",
       "</div>"
      ],
      "text/plain": [
       "                Player  All_NBA\n",
       "0           Tim Duncan       15\n",
       "1          Kobe Bryant       15\n",
       "2     Shaquille O'Neal       14\n",
       "3  Kareem Abdul-Jabbar       14\n",
       "4          Karl Malone       14"
      ]
     },
     "execution_count": 15,
     "metadata": {},
     "output_type": "execute_result"
    }
   ],
   "source": [
    "# As you can see, from stacking the player's name actually \n",
    "# appears as the index. So this next piece of code resets the index\n",
    "# and bumps the player's name index out as a column\n",
    "df_allNBA.reset_index(level=0, inplace=True)\n",
    "\n",
    "# Renaming the columns\n",
    "column_names = ['Player', 'All_NBA']\n",
    "df_allNBA.columns = column_names\n",
    "df_allNBA.head()"
   ]
  },
  {
   "cell_type": "markdown",
   "metadata": {},
   "source": [
    "## Why so much work and a loop that didn't work\n",
    "The code above probably seems like a lot, and I feel pretty confident that a more experienced Python user could have broken up those columns and counted players names in a much more efficient manner. But for me, this is actually a shortened version. Right where I noted that a 'challenge' arose, my first instinct was to take the code to split up elements of a cell using a loop (shown below). My thought was to create a DataFrame for essentially each column of names, break them apart to get rid of the position, put them back together and then merge all of them plus the year's DataFrame. From there I would then drop observations after 1976, then drop the years, stack the columns, count each observation, etc. I ran into problems because the loop didn't work. If I ran the code on each column, it works, but in trying to put it in a loop there doesn't appear to be a way to call the column as a variable. This is because the loop is just calling the string, for example 'name1', and not calling the actual column. So when the loop hits where it needs the actual variable column like at `df.column.str` it can't run cause there's nothing to run on. There might be a way to actually get a loop to call the variable properly, but I tried a lot of different things and nothing work. \n",
    "This issue also led to my first posting on [StackOverflow][1]. Unfortunately, I (1) started my question off wrong as I offered to little information, but (2) no one has yet offered a more elegant solution that works than what I have above.\n",
    "[1]: http://stackoverflow.com/questions/38666111/why-does-a-column-from-pandas-dataframe-not-work-in-this-loop/38666726?noredirect=1#comment64715921_38666726"
   ]
  },
  {
   "cell_type": "code",
   "execution_count": 21,
   "metadata": {
    "collapsed": false
   },
   "outputs": [
    {
     "ename": "ValueError",
     "evalue": "Length mismatch: Expected axis has 1 elements, new values have 177 elements",
     "output_type": "error",
     "traceback": [
      "\u001b[0;31m---------------------------------------------------------------------------\u001b[0m",
      "\u001b[0;31mValueError\u001b[0m                                Traceback (most recent call last)",
      "\u001b[0;32m<ipython-input-21-c97a217e93cb>\u001b[0m in \u001b[0;36m<module>\u001b[0;34m()\u001b[0m\n\u001b[1;32m      4\u001b[0m     \u001b[0mcolumn\u001b[0m\u001b[0;34m[\u001b[0m\u001b[0;36m0\u001b[0m\u001b[0;34m]\u001b[0m \u001b[0;34m=\u001b[0m \u001b[0mcolumn\u001b[0m\u001b[0;34m[\u001b[0m\u001b[0;36m0\u001b[0m\u001b[0;34m]\u001b[0m \u001b[0;34m+\u001b[0m \u001b[0;34m\" \"\u001b[0m \u001b[0;34m+\u001b[0m \u001b[0mcolumn\u001b[0m\u001b[0;34m[\u001b[0m\u001b[0;36m1\u001b[0m\u001b[0;34m]\u001b[0m\u001b[0;34m\u001b[0m\u001b[0m\n\u001b[1;32m      5\u001b[0m     \u001b[0mcolumn\u001b[0m\u001b[0;34m.\u001b[0m\u001b[0mdrop\u001b[0m\u001b[0;34m(\u001b[0m\u001b[0mcolumn\u001b[0m\u001b[0;34m.\u001b[0m\u001b[0mcolumns\u001b[0m\u001b[0;34m[\u001b[0m\u001b[0;34m[\u001b[0m\u001b[0;36m1\u001b[0m\u001b[0;34m]\u001b[0m\u001b[0;34m]\u001b[0m\u001b[0;34m,\u001b[0m \u001b[0minplace\u001b[0m\u001b[0;34m=\u001b[0m\u001b[0mTrue\u001b[0m\u001b[0;34m,\u001b[0m \u001b[0maxis\u001b[0m\u001b[0;34m=\u001b[0m\u001b[0;36m1\u001b[0m\u001b[0;34m)\u001b[0m\u001b[0;34m\u001b[0m\u001b[0m\n\u001b[0;32m----> 6\u001b[0;31m     \u001b[0mcolumn\u001b[0m\u001b[0;34m.\u001b[0m\u001b[0mcolumns\u001b[0m \u001b[0;34m=\u001b[0m \u001b[0mcolumn\u001b[0m\u001b[0;34m\u001b[0m\u001b[0m\n\u001b[0m",
      "\u001b[0;32m/Users/rorypulvino/anaconda/lib/python2.7/site-packages/pandas/core/generic.pyc\u001b[0m in \u001b[0;36m__setattr__\u001b[0;34m(self, name, value)\u001b[0m\n\u001b[1;32m   2369\u001b[0m         \u001b[0;32mtry\u001b[0m\u001b[0;34m:\u001b[0m\u001b[0;34m\u001b[0m\u001b[0m\n\u001b[1;32m   2370\u001b[0m             \u001b[0mobject\u001b[0m\u001b[0;34m.\u001b[0m\u001b[0m__getattribute__\u001b[0m\u001b[0;34m(\u001b[0m\u001b[0mself\u001b[0m\u001b[0;34m,\u001b[0m \u001b[0mname\u001b[0m\u001b[0;34m)\u001b[0m\u001b[0;34m\u001b[0m\u001b[0m\n\u001b[0;32m-> 2371\u001b[0;31m             \u001b[0;32mreturn\u001b[0m \u001b[0mobject\u001b[0m\u001b[0;34m.\u001b[0m\u001b[0m__setattr__\u001b[0m\u001b[0;34m(\u001b[0m\u001b[0mself\u001b[0m\u001b[0;34m,\u001b[0m \u001b[0mname\u001b[0m\u001b[0;34m,\u001b[0m \u001b[0mvalue\u001b[0m\u001b[0;34m)\u001b[0m\u001b[0;34m\u001b[0m\u001b[0m\n\u001b[0m\u001b[1;32m   2372\u001b[0m         \u001b[0;32mexcept\u001b[0m \u001b[0mAttributeError\u001b[0m\u001b[0;34m:\u001b[0m\u001b[0;34m\u001b[0m\u001b[0m\n\u001b[1;32m   2373\u001b[0m             \u001b[0;32mpass\u001b[0m\u001b[0;34m\u001b[0m\u001b[0m\n",
      "\u001b[0;32mpandas/src/properties.pyx\u001b[0m in \u001b[0;36mpandas.lib.AxisProperty.__set__ (pandas/lib.c:45002)\u001b[0;34m()\u001b[0m\n",
      "\u001b[0;32m/Users/rorypulvino/anaconda/lib/python2.7/site-packages/pandas/core/generic.pyc\u001b[0m in \u001b[0;36m_set_axis\u001b[0;34m(self, axis, labels)\u001b[0m\n\u001b[1;32m    423\u001b[0m \u001b[0;34m\u001b[0m\u001b[0m\n\u001b[1;32m    424\u001b[0m     \u001b[0;32mdef\u001b[0m \u001b[0m_set_axis\u001b[0m\u001b[0;34m(\u001b[0m\u001b[0mself\u001b[0m\u001b[0;34m,\u001b[0m \u001b[0maxis\u001b[0m\u001b[0;34m,\u001b[0m \u001b[0mlabels\u001b[0m\u001b[0;34m)\u001b[0m\u001b[0;34m:\u001b[0m\u001b[0;34m\u001b[0m\u001b[0m\n\u001b[0;32m--> 425\u001b[0;31m         \u001b[0mself\u001b[0m\u001b[0;34m.\u001b[0m\u001b[0m_data\u001b[0m\u001b[0;34m.\u001b[0m\u001b[0mset_axis\u001b[0m\u001b[0;34m(\u001b[0m\u001b[0maxis\u001b[0m\u001b[0;34m,\u001b[0m \u001b[0mlabels\u001b[0m\u001b[0;34m)\u001b[0m\u001b[0;34m\u001b[0m\u001b[0m\n\u001b[0m\u001b[1;32m    426\u001b[0m         \u001b[0mself\u001b[0m\u001b[0;34m.\u001b[0m\u001b[0m_clear_item_cache\u001b[0m\u001b[0;34m(\u001b[0m\u001b[0;34m)\u001b[0m\u001b[0;34m\u001b[0m\u001b[0m\n\u001b[1;32m    427\u001b[0m \u001b[0;34m\u001b[0m\u001b[0m\n",
      "\u001b[0;32m/Users/rorypulvino/anaconda/lib/python2.7/site-packages/pandas/core/internals.pyc\u001b[0m in \u001b[0;36mset_axis\u001b[0;34m(self, axis, new_labels)\u001b[0m\n\u001b[1;32m   2570\u001b[0m         \u001b[0;32mif\u001b[0m \u001b[0mnew_len\u001b[0m \u001b[0;34m!=\u001b[0m \u001b[0mold_len\u001b[0m\u001b[0;34m:\u001b[0m\u001b[0;34m\u001b[0m\u001b[0m\n\u001b[1;32m   2571\u001b[0m             raise ValueError('Length mismatch: Expected axis has %d elements, '\n\u001b[0;32m-> 2572\u001b[0;31m                              'new values have %d elements' % (old_len, new_len))\n\u001b[0m\u001b[1;32m   2573\u001b[0m \u001b[0;34m\u001b[0m\u001b[0m\n\u001b[1;32m   2574\u001b[0m         \u001b[0mself\u001b[0m\u001b[0;34m.\u001b[0m\u001b[0maxes\u001b[0m\u001b[0;34m[\u001b[0m\u001b[0maxis\u001b[0m\u001b[0;34m]\u001b[0m \u001b[0;34m=\u001b[0m \u001b[0mnew_labels\u001b[0m\u001b[0;34m\u001b[0m\u001b[0m\n",
      "\u001b[0;31mValueError\u001b[0m: Length mismatch: Expected axis has 1 elements, new values have 177 elements"
     ]
    }
   ],
   "source": [
    "column_names = [name1, name2, name3, name4, name5]\n",
    "for column in column_names:\n",
    "    column = pd.DataFrame(df.column.str.split().tolist()).ix[:,0:1]\n",
    "    column[0] = column[0] + \" \" + column[1]\n",
    "    column.drop(column.columns[[1]], inplace=True, axis=1)\n",
    "    column.columns = column"
   ]
  },
  {
   "cell_type": "markdown",
   "metadata": {},
   "source": [
    "## All-Star Game selections nows\n",
    "Now I can turn to creating a dataframe of all star game appearances. This was definitely easier."
   ]
  },
  {
   "cell_type": "code",
   "execution_count": 16,
   "metadata": {
    "collapsed": false
   },
   "outputs": [
    {
     "data": {
      "text/html": [
       "<div>\n",
       "<table border=\"1\" class=\"dataframe\">\n",
       "  <thead>\n",
       "    <tr style=\"text-align: right;\">\n",
       "      <th></th>\n",
       "      <th>0</th>\n",
       "      <th>1</th>\n",
       "      <th>2</th>\n",
       "      <th>3</th>\n",
       "      <th>4</th>\n",
       "    </tr>\n",
       "  </thead>\n",
       "  <tbody>\n",
       "    <tr>\n",
       "      <th>0</th>\n",
       "      <td>Rk</td>\n",
       "      <td>Player</td>\n",
       "      <td>Tot</td>\n",
       "      <td>NBA</td>\n",
       "      <td>ABA</td>\n",
       "    </tr>\n",
       "  </tbody>\n",
       "</table>\n",
       "</div>"
      ],
      "text/plain": [
       "    0       1    2    3    4\n",
       "0  Rk  Player  Tot  NBA  ABA"
      ]
     },
     "execution_count": 16,
     "metadata": {},
     "output_type": "execute_result"
    }
   ],
   "source": [
    "# Dealing with All-Star Game selections\n",
    "url = \"http://www.basketball-reference.com/awards/all_star_by_player.html\"\n",
    "dframe_star = pd.io.html.read_html(url)\n",
    "df_allStar = dframe_star[0]\n",
    "df_allStar.head()"
   ]
  },
  {
   "cell_type": "markdown",
   "metadata": {},
   "source": [
    "This was a strange error and my immediate instinct is that the pandas operation cannot read the table for some reason. Googling around for this error suggests this is the [case][1], though the solution is a bit more complicated.\n",
    "[1]: https://github.com/pydata/pandas/issues/6393"
   ]
  },
  {
   "cell_type": "code",
   "execution_count": 17,
   "metadata": {
    "collapsed": true
   },
   "outputs": [],
   "source": [
    "import requests"
   ]
  },
  {
   "cell_type": "markdown",
   "metadata": {},
   "source": [
    "This is a pretty standard import when scraping websites, or at least I see it quite a bit when I've looked at others' code. I haven't been using it because the way that I have previously been grabbing data was working and didn't require working as much with BeautifulSoup. My understanding is that BeautifulSoup makes a webpage very searchable as it takes the HTML and recognizes the many tags in the file. This allows it to identify various pieces such as tables. "
   ]
  },
  {
   "cell_type": "code",
   "execution_count": 18,
   "metadata": {
    "collapsed": false
   },
   "outputs": [],
   "source": [
    "url = \"http://www.basketball-reference.com/awards/all_star_by_player.html\"\n",
    "soup = BeautifulSoup(requests.get(url).text, 'lxml')"
   ]
  },
  {
   "cell_type": "code",
   "execution_count": 19,
   "metadata": {
    "collapsed": false
   },
   "outputs": [
    {
     "data": {
      "text/plain": [
       "<tr>\\n<td class=\"right ranker\" csk=\"1\">1</td>\\n<td csk=\"Abdul-Jabbar,Kareem\"><a href=\"/players/a/abdulka01.html\">Kareem Abdul-Jabbar</a></td>\\n<td class=\"center\">19</td>\\n<td class=\"center\">19</td>\\n<td class=\"center\">0</td>\\n</tr>"
      ]
     },
     "execution_count": 19,
     "metadata": {},
     "output_type": "execute_result"
    }
   ],
   "source": [
    "soup.findAll(\"table\")[0].findAll(\"tr\")[1]"
   ]
  },
  {
   "cell_type": "markdown",
   "metadata": {},
   "source": [
    "I think this just shows that findAll did find a table in the HTML. Luckily, I think labeling a table as a table in HTML is standard practice thus it's easy to find them."
   ]
  },
  {
   "cell_type": "code",
   "execution_count": 20,
   "metadata": {
    "collapsed": false
   },
   "outputs": [
    {
     "data": {
      "text/plain": [
       "[       0                    1   2   3  4\n",
       " 0      1  Kareem Abdul-Jabbar  19  19  0\n",
       " 1      2          Kobe Bryant  18  18  0\n",
       " 2      3        Julius Erving  16  11  5\n",
       " 3      4           Tim Duncan  15  15  0\n",
       " 4      5        Kevin Garnett  15  15  0\n",
       " 5      6     Shaquille O'Neal  15  15  0\n",
       " 6      7       Michael Jordan  14  14  0\n",
       " 7      8          Karl Malone  14  14  0\n",
       " 8      9           Jerry West  14  14  0\n",
       " 9     10     Wilt Chamberlain  13  13  0\n",
       " 10    11            Bob Cousy  13  13  0\n",
       " 11    12        John Havlicek  13  13  0\n",
       " 12    13         Moses Malone  13  12  1\n",
       " 13    14        Dirk Nowitzki  13  13  0\n",
       " 14    15           Rick Barry  12   8  4\n",
       " 15    16           Larry Bird  12  12  0\n",
       " 16    17        George Gervin  12   9  3\n",
       " 17    18          Elvin Hayes  12  12  0\n",
       " 18    19         LeBron James  12  12  0\n",
       " 19    20        Magic Johnson  12  12  0\n",
       " 20    21      Hakeem Olajuwon  12  12  0\n",
       " 21    22      Oscar Robertson  12  12  0\n",
       " 22    23         Bill Russell  12  12  0\n",
       " 23    24        Dolph Schayes  12  12  0\n",
       " 24    25         Isiah Thomas  12  12  0\n",
       " 25    26          Dwyane Wade  12  12  0\n",
       " 26    27      Charles Barkley  11  11  0\n",
       " 27    28         Elgin Baylor  11  11  0\n",
       " 28    29           Chris Bosh  11  11  0\n",
       " 29    30        Patrick Ewing  11  11  0\n",
       " ..   ...                  ...  ..  .. ..\n",
       " 449  450          Lee Shaffer   1   1  0\n",
       " 450  451       Lonnie Shelton   1   1  0\n",
       " 451  452         Walter Simon   1   0  1\n",
       " 452  453         Adrian Smith   1   1  0\n",
       " 453  454          Steve Smith   1   1  0\n",
       " 454  455            Rik Smits   1   1  0\n",
       " 455  456      Willie Somerset   1   0  1\n",
       " 456  457          John Starks   1   1  0\n",
       " 457  458       Don Sunderlage   1   1  0\n",
       " 458  459     Wally Szczerbiak   1   1  0\n",
       " 459  460          Jeff Teague   1   1  0\n",
       " 460  461         Claude Terry   1   0  1\n",
       " 461  462        Isaiah Thomas   1   1  0\n",
       " 462  463          Skip Thoren   1   0  1\n",
       " 463  464          Otis Thorpe   1   1  0\n",
       " 464  465           Monte Towe   1   0  1\n",
       " 465  466        Dave Twardzik   1   0  1\n",
       " 466  467        Nick Van Exel   1   1  0\n",
       " 467  468         Chico Vaughn   1   0  1\n",
       " 468  469            Bob Verga   1   0  1\n",
       " 469  470       Gerald Wallace   1   1  0\n",
       " 470  471         Paul Walther   1   1  0\n",
       " 471  472           Ben Warley   1   0  1\n",
       " 472  473    Kermit Washington   1   1  0\n",
       " 473  474   Trooper Washington   1   0  1\n",
       " 474  475      Jayson Williams   1   1  0\n",
       " 475  476          Mo Williams   1   1  0\n",
       " 476  477         Kevin Willis   1   1  0\n",
       " 477  478    Metta World Peace   1   1  0\n",
       " 478  479        Max Zaslofsky   1   1  0\n",
       " \n",
       " [479 rows x 5 columns]]"
      ]
     },
     "execution_count": 20,
     "metadata": {},
     "output_type": "execute_result"
    }
   ],
   "source": [
    "df_star = pd.read_html(str(soup.find_all('table')[0]))\n",
    "df_star"
   ]
  },
  {
   "cell_type": "markdown",
   "metadata": {},
   "source": [
    "Back to using pandas 'read_html', but now in a directed sense with the find_all having grabbed the right part of the HTML and turned it into a string, pandas has an easy time turning that string into a list."
   ]
  },
  {
   "cell_type": "code",
   "execution_count": 21,
   "metadata": {
    "collapsed": false
   },
   "outputs": [],
   "source": [
    "df_star = df_star[0]"
   ]
  },
  {
   "cell_type": "markdown",
   "metadata": {},
   "source": [
    "And now this strange code above that somehow converts the list into a DataFrame."
   ]
  },
  {
   "cell_type": "code",
   "execution_count": 22,
   "metadata": {
    "collapsed": false
   },
   "outputs": [
    {
     "data": {
      "text/html": [
       "<div>\n",
       "<table border=\"1\" class=\"dataframe\">\n",
       "  <thead>\n",
       "    <tr style=\"text-align: right;\">\n",
       "      <th></th>\n",
       "      <th>PK</th>\n",
       "      <th>Player</th>\n",
       "      <th>Tot</th>\n",
       "      <th>NBA</th>\n",
       "      <th>ABA</th>\n",
       "    </tr>\n",
       "  </thead>\n",
       "  <tbody>\n",
       "    <tr>\n",
       "      <th>0</th>\n",
       "      <td>1</td>\n",
       "      <td>Kareem Abdul-Jabbar</td>\n",
       "      <td>19</td>\n",
       "      <td>19</td>\n",
       "      <td>0</td>\n",
       "    </tr>\n",
       "    <tr>\n",
       "      <th>1</th>\n",
       "      <td>2</td>\n",
       "      <td>Kobe Bryant</td>\n",
       "      <td>18</td>\n",
       "      <td>18</td>\n",
       "      <td>0</td>\n",
       "    </tr>\n",
       "    <tr>\n",
       "      <th>2</th>\n",
       "      <td>3</td>\n",
       "      <td>Julius Erving</td>\n",
       "      <td>16</td>\n",
       "      <td>11</td>\n",
       "      <td>5</td>\n",
       "    </tr>\n",
       "    <tr>\n",
       "      <th>3</th>\n",
       "      <td>4</td>\n",
       "      <td>Tim Duncan</td>\n",
       "      <td>15</td>\n",
       "      <td>15</td>\n",
       "      <td>0</td>\n",
       "    </tr>\n",
       "    <tr>\n",
       "      <th>4</th>\n",
       "      <td>5</td>\n",
       "      <td>Kevin Garnett</td>\n",
       "      <td>15</td>\n",
       "      <td>15</td>\n",
       "      <td>0</td>\n",
       "    </tr>\n",
       "  </tbody>\n",
       "</table>\n",
       "</div>"
      ],
      "text/plain": [
       "   PK               Player  Tot  NBA  ABA\n",
       "0   1  Kareem Abdul-Jabbar   19   19    0\n",
       "1   2          Kobe Bryant   18   18    0\n",
       "2   3        Julius Erving   16   11    5\n",
       "3   4           Tim Duncan   15   15    0\n",
       "4   5        Kevin Garnett   15   15    0"
      ]
     },
     "execution_count": 22,
     "metadata": {},
     "output_type": "execute_result"
    }
   ],
   "source": [
    "# Renaming the columns\n",
    "column_names = ['PK', 'Player', 'Tot', 'NBA', 'ABA']\n",
    "df_star.columns = column_names\n",
    "df_star.head()"
   ]
  },
  {
   "cell_type": "code",
   "execution_count": 23,
   "metadata": {
    "collapsed": false
   },
   "outputs": [
    {
     "data": {
      "text/html": [
       "<div>\n",
       "<table border=\"1\" class=\"dataframe\">\n",
       "  <thead>\n",
       "    <tr style=\"text-align: right;\">\n",
       "      <th></th>\n",
       "      <th>Player</th>\n",
       "      <th>All-Star</th>\n",
       "    </tr>\n",
       "  </thead>\n",
       "  <tbody>\n",
       "    <tr>\n",
       "      <th>0</th>\n",
       "      <td>Kareem Abdul-Jabbar</td>\n",
       "      <td>19</td>\n",
       "    </tr>\n",
       "    <tr>\n",
       "      <th>1</th>\n",
       "      <td>Kobe Bryant</td>\n",
       "      <td>18</td>\n",
       "    </tr>\n",
       "    <tr>\n",
       "      <th>2</th>\n",
       "      <td>Julius Erving</td>\n",
       "      <td>16</td>\n",
       "    </tr>\n",
       "    <tr>\n",
       "      <th>3</th>\n",
       "      <td>Tim Duncan</td>\n",
       "      <td>15</td>\n",
       "    </tr>\n",
       "    <tr>\n",
       "      <th>4</th>\n",
       "      <td>Kevin Garnett</td>\n",
       "      <td>15</td>\n",
       "    </tr>\n",
       "  </tbody>\n",
       "</table>\n",
       "</div>"
      ],
      "text/plain": [
       "                Player  All-Star\n",
       "0  Kareem Abdul-Jabbar        19\n",
       "1          Kobe Bryant        18\n",
       "2        Julius Erving        16\n",
       "3           Tim Duncan        15\n",
       "4        Kevin Garnett        15"
      ]
     },
     "execution_count": 23,
     "metadata": {},
     "output_type": "execute_result"
    }
   ],
   "source": [
    "df_star['All-Star'] = df_star['Tot']\n",
    "df_star.drop(df_star.columns[[0,2,3,4]], inplace=True, axis=1)\n",
    "df_star.head()\n",
    "# This DataFrame was wonderfully easy to compile!"
   ]
  },
  {
   "cell_type": "code",
   "execution_count": 24,
   "metadata": {
    "collapsed": false
   },
   "outputs": [
    {
     "data": {
      "text/html": [
       "<div>\n",
       "<table border=\"1\" class=\"dataframe\">\n",
       "  <thead>\n",
       "    <tr style=\"text-align: right;\">\n",
       "      <th></th>\n",
       "      <th>Unnamed: 0</th>\n",
       "      <th>Draft_Yr</th>\n",
       "      <th>Pk</th>\n",
       "      <th>Team</th>\n",
       "      <th>Player</th>\n",
       "      <th>College</th>\n",
       "      <th>Yrs</th>\n",
       "      <th>Games</th>\n",
       "      <th>Minutes Played</th>\n",
       "      <th>PTS</th>\n",
       "      <th>...</th>\n",
       "      <th>TP_Percentage</th>\n",
       "      <th>FT_Percentage</th>\n",
       "      <th>Minutes per Game</th>\n",
       "      <th>Points per Game</th>\n",
       "      <th>TRB per game</th>\n",
       "      <th>Assits per Game</th>\n",
       "      <th>Win Share</th>\n",
       "      <th>WS_per_game</th>\n",
       "      <th>BPM</th>\n",
       "      <th>VORP</th>\n",
       "    </tr>\n",
       "  </thead>\n",
       "  <tbody>\n",
       "    <tr>\n",
       "      <th>0</th>\n",
       "      <td>0</td>\n",
       "      <td>1976</td>\n",
       "      <td>1.0</td>\n",
       "      <td>HOU</td>\n",
       "      <td>John Lucas</td>\n",
       "      <td>University of Maryland</td>\n",
       "      <td>14.0</td>\n",
       "      <td>928.0</td>\n",
       "      <td>25556.0</td>\n",
       "      <td>9951.0</td>\n",
       "      <td>...</td>\n",
       "      <td>0.303</td>\n",
       "      <td>0.776</td>\n",
       "      <td>27.5</td>\n",
       "      <td>10.7</td>\n",
       "      <td>2.3</td>\n",
       "      <td>7.0</td>\n",
       "      <td>53.7</td>\n",
       "      <td>0.101</td>\n",
       "      <td>-0.4</td>\n",
       "      <td>10.3</td>\n",
       "    </tr>\n",
       "    <tr>\n",
       "      <th>1</th>\n",
       "      <td>1</td>\n",
       "      <td>1976</td>\n",
       "      <td>2.0</td>\n",
       "      <td>CHI</td>\n",
       "      <td>Scott May</td>\n",
       "      <td>Indiana University</td>\n",
       "      <td>7.0</td>\n",
       "      <td>355.0</td>\n",
       "      <td>8029.0</td>\n",
       "      <td>3690.0</td>\n",
       "      <td>...</td>\n",
       "      <td>0.000</td>\n",
       "      <td>0.811</td>\n",
       "      <td>22.6</td>\n",
       "      <td>10.4</td>\n",
       "      <td>4.1</td>\n",
       "      <td>1.7</td>\n",
       "      <td>17.4</td>\n",
       "      <td>0.104</td>\n",
       "      <td>-1.0</td>\n",
       "      <td>2.0</td>\n",
       "    </tr>\n",
       "    <tr>\n",
       "      <th>2</th>\n",
       "      <td>2</td>\n",
       "      <td>1976</td>\n",
       "      <td>3.0</td>\n",
       "      <td>KCK</td>\n",
       "      <td>Richard Washington</td>\n",
       "      <td>University of California, Los Angeles</td>\n",
       "      <td>6.0</td>\n",
       "      <td>351.0</td>\n",
       "      <td>7874.0</td>\n",
       "      <td>3456.0</td>\n",
       "      <td>...</td>\n",
       "      <td>0.250</td>\n",
       "      <td>0.711</td>\n",
       "      <td>22.4</td>\n",
       "      <td>9.8</td>\n",
       "      <td>6.3</td>\n",
       "      <td>1.2</td>\n",
       "      <td>10.8</td>\n",
       "      <td>0.066</td>\n",
       "      <td>-2.3</td>\n",
       "      <td>-0.6</td>\n",
       "    </tr>\n",
       "    <tr>\n",
       "      <th>3</th>\n",
       "      <td>3</td>\n",
       "      <td>1976</td>\n",
       "      <td>4.0</td>\n",
       "      <td>DET</td>\n",
       "      <td>Leon Douglas</td>\n",
       "      <td>University of Alabama</td>\n",
       "      <td>7.0</td>\n",
       "      <td>456.0</td>\n",
       "      <td>10111.0</td>\n",
       "      <td>3587.0</td>\n",
       "      <td>...</td>\n",
       "      <td>0.000</td>\n",
       "      <td>0.601</td>\n",
       "      <td>22.2</td>\n",
       "      <td>7.9</td>\n",
       "      <td>6.5</td>\n",
       "      <td>1.1</td>\n",
       "      <td>15.2</td>\n",
       "      <td>0.072</td>\n",
       "      <td>-1.6</td>\n",
       "      <td>1.1</td>\n",
       "    </tr>\n",
       "    <tr>\n",
       "      <th>4</th>\n",
       "      <td>4</td>\n",
       "      <td>1976</td>\n",
       "      <td>5.0</td>\n",
       "      <td>POR</td>\n",
       "      <td>Wally Walker</td>\n",
       "      <td>University of Virginia</td>\n",
       "      <td>8.0</td>\n",
       "      <td>565.0</td>\n",
       "      <td>10168.0</td>\n",
       "      <td>3968.0</td>\n",
       "      <td>...</td>\n",
       "      <td>0.200</td>\n",
       "      <td>0.643</td>\n",
       "      <td>18.0</td>\n",
       "      <td>7.0</td>\n",
       "      <td>3.1</td>\n",
       "      <td>1.5</td>\n",
       "      <td>12.9</td>\n",
       "      <td>0.061</td>\n",
       "      <td>-2.3</td>\n",
       "      <td>-0.8</td>\n",
       "    </tr>\n",
       "  </tbody>\n",
       "</table>\n",
       "<p>5 rows × 23 columns</p>\n",
       "</div>"
      ],
      "text/plain": [
       "   Unnamed: 0  Draft_Yr   Pk Team              Player  \\\n",
       "0           0      1976  1.0  HOU          John Lucas   \n",
       "1           1      1976  2.0  CHI           Scott May   \n",
       "2           2      1976  3.0  KCK  Richard Washington   \n",
       "3           3      1976  4.0  DET        Leon Douglas   \n",
       "4           4      1976  5.0  POR        Wally Walker   \n",
       "\n",
       "                                 College   Yrs  Games  Minutes Played     PTS  \\\n",
       "0                 University of Maryland  14.0  928.0         25556.0  9951.0   \n",
       "1                     Indiana University   7.0  355.0          8029.0  3690.0   \n",
       "2  University of California, Los Angeles   6.0  351.0          7874.0  3456.0   \n",
       "3                  University of Alabama   7.0  456.0         10111.0  3587.0   \n",
       "4                 University of Virginia   8.0  565.0         10168.0  3968.0   \n",
       "\n",
       "   ...   TP_Percentage  FT_Percentage  Minutes per Game  Points per Game  \\\n",
       "0  ...           0.303          0.776              27.5             10.7   \n",
       "1  ...           0.000          0.811              22.6             10.4   \n",
       "2  ...           0.250          0.711              22.4              9.8   \n",
       "3  ...           0.000          0.601              22.2              7.9   \n",
       "4  ...           0.200          0.643              18.0              7.0   \n",
       "\n",
       "   TRB per game  Assits per Game  Win Share  WS_per_game  BPM  VORP  \n",
       "0           2.3              7.0       53.7        0.101 -0.4  10.3  \n",
       "1           4.1              1.7       17.4        0.104 -1.0   2.0  \n",
       "2           6.3              1.2       10.8        0.066 -2.3  -0.6  \n",
       "3           6.5              1.1       15.2        0.072 -1.6   1.1  \n",
       "4           3.1              1.5       12.9        0.061 -2.3  -0.8  \n",
       "\n",
       "[5 rows x 23 columns]"
      ]
     },
     "execution_count": 24,
     "metadata": {},
     "output_type": "execute_result"
    }
   ],
   "source": [
    "# Need to now merge these player accomplishment dataframes into \n",
    "# one dataframe by player name and accomplishment and then merge\n",
    "# that with my earlier data frame of draft history\n",
    "\n",
    "draft_dframe = pd.read_csv('NBA_Data/1976_to_2015_Draft.csv')\n",
    "draft_dframe.head()"
   ]
  },
  {
   "cell_type": "code",
   "execution_count": 25,
   "metadata": {
    "collapsed": false
   },
   "outputs": [
    {
     "data": {
      "text/html": [
       "<div>\n",
       "<table border=\"1\" class=\"dataframe\">\n",
       "  <thead>\n",
       "    <tr style=\"text-align: right;\">\n",
       "      <th></th>\n",
       "      <th>Player</th>\n",
       "      <th>All_NBA</th>\n",
       "      <th>All-Star</th>\n",
       "    </tr>\n",
       "  </thead>\n",
       "  <tbody>\n",
       "    <tr>\n",
       "      <th>0</th>\n",
       "      <td>Tim Duncan</td>\n",
       "      <td>15</td>\n",
       "      <td>15</td>\n",
       "    </tr>\n",
       "    <tr>\n",
       "      <th>1</th>\n",
       "      <td>Kobe Bryant</td>\n",
       "      <td>15</td>\n",
       "      <td>18</td>\n",
       "    </tr>\n",
       "    <tr>\n",
       "      <th>2</th>\n",
       "      <td>Shaquille O'Neal</td>\n",
       "      <td>14</td>\n",
       "      <td>15</td>\n",
       "    </tr>\n",
       "    <tr>\n",
       "      <th>3</th>\n",
       "      <td>Kareem Abdul-Jabbar</td>\n",
       "      <td>14</td>\n",
       "      <td>19</td>\n",
       "    </tr>\n",
       "    <tr>\n",
       "      <th>4</th>\n",
       "      <td>Karl Malone</td>\n",
       "      <td>14</td>\n",
       "      <td>14</td>\n",
       "    </tr>\n",
       "  </tbody>\n",
       "</table>\n",
       "</div>"
      ],
      "text/plain": [
       "                Player  All_NBA  All-Star\n",
       "0           Tim Duncan       15        15\n",
       "1          Kobe Bryant       15        18\n",
       "2     Shaquille O'Neal       14        15\n",
       "3  Kareem Abdul-Jabbar       14        19\n",
       "4          Karl Malone       14        14"
      ]
     },
     "execution_count": 25,
     "metadata": {},
     "output_type": "execute_result"
    }
   ],
   "source": [
    "df_accomplishment = pd.merge(df_allNBA, df_star, on = ['Player',])\n",
    "df_accomplishment.head()"
   ]
  },
  {
   "cell_type": "code",
   "execution_count": 26,
   "metadata": {
    "collapsed": false
   },
   "outputs": [
    {
     "data": {
      "text/html": [
       "<div>\n",
       "<table border=\"1\" class=\"dataframe\">\n",
       "  <thead>\n",
       "    <tr style=\"text-align: right;\">\n",
       "      <th></th>\n",
       "      <th>Player</th>\n",
       "      <th>All_NBA</th>\n",
       "      <th>All-Star</th>\n",
       "      <th>Unnamed: 0</th>\n",
       "      <th>Draft_Yr</th>\n",
       "      <th>Pk</th>\n",
       "      <th>Team</th>\n",
       "      <th>College</th>\n",
       "      <th>Yrs</th>\n",
       "      <th>Games</th>\n",
       "      <th>...</th>\n",
       "      <th>TP_Percentage</th>\n",
       "      <th>FT_Percentage</th>\n",
       "      <th>Minutes per Game</th>\n",
       "      <th>Points per Game</th>\n",
       "      <th>TRB per game</th>\n",
       "      <th>Assits per Game</th>\n",
       "      <th>Win Share</th>\n",
       "      <th>WS_per_game</th>\n",
       "      <th>BPM</th>\n",
       "      <th>VORP</th>\n",
       "    </tr>\n",
       "  </thead>\n",
       "  <tbody>\n",
       "    <tr>\n",
       "      <th>0</th>\n",
       "      <td>Tim Duncan</td>\n",
       "      <td>15.0</td>\n",
       "      <td>15.0</td>\n",
       "      <td>2863.0</td>\n",
       "      <td>1997.0</td>\n",
       "      <td>1.0</td>\n",
       "      <td>SAS</td>\n",
       "      <td>Wake Forest University</td>\n",
       "      <td>19.0</td>\n",
       "      <td>1392.0</td>\n",
       "      <td>...</td>\n",
       "      <td>0.179</td>\n",
       "      <td>0.696</td>\n",
       "      <td>34.0</td>\n",
       "      <td>19.0</td>\n",
       "      <td>10.8</td>\n",
       "      <td>3.0</td>\n",
       "      <td>206.4</td>\n",
       "      <td>0.209</td>\n",
       "      <td>5.5</td>\n",
       "      <td>89.3</td>\n",
       "    </tr>\n",
       "    <tr>\n",
       "      <th>1</th>\n",
       "      <td>Kobe Bryant</td>\n",
       "      <td>15.0</td>\n",
       "      <td>18.0</td>\n",
       "      <td>2817.0</td>\n",
       "      <td>1996.0</td>\n",
       "      <td>13.0</td>\n",
       "      <td>CHH</td>\n",
       "      <td>0</td>\n",
       "      <td>20.0</td>\n",
       "      <td>1346.0</td>\n",
       "      <td>...</td>\n",
       "      <td>0.329</td>\n",
       "      <td>0.837</td>\n",
       "      <td>36.1</td>\n",
       "      <td>25.0</td>\n",
       "      <td>5.2</td>\n",
       "      <td>4.7</td>\n",
       "      <td>172.7</td>\n",
       "      <td>0.170</td>\n",
       "      <td>3.9</td>\n",
       "      <td>72.1</td>\n",
       "    </tr>\n",
       "    <tr>\n",
       "      <th>2</th>\n",
       "      <td>Shaquille O'Neal</td>\n",
       "      <td>14.0</td>\n",
       "      <td>15.0</td>\n",
       "      <td>2585.0</td>\n",
       "      <td>1992.0</td>\n",
       "      <td>1.0</td>\n",
       "      <td>ORL</td>\n",
       "      <td>Louisiana State University</td>\n",
       "      <td>19.0</td>\n",
       "      <td>1207.0</td>\n",
       "      <td>...</td>\n",
       "      <td>0.045</td>\n",
       "      <td>0.527</td>\n",
       "      <td>34.7</td>\n",
       "      <td>23.7</td>\n",
       "      <td>10.9</td>\n",
       "      <td>2.5</td>\n",
       "      <td>181.7</td>\n",
       "      <td>0.208</td>\n",
       "      <td>5.0</td>\n",
       "      <td>74.0</td>\n",
       "    </tr>\n",
       "    <tr>\n",
       "      <th>3</th>\n",
       "      <td>Kareem Abdul-Jabbar</td>\n",
       "      <td>14.0</td>\n",
       "      <td>19.0</td>\n",
       "      <td>NaN</td>\n",
       "      <td>NaN</td>\n",
       "      <td>NaN</td>\n",
       "      <td>NaN</td>\n",
       "      <td>NaN</td>\n",
       "      <td>NaN</td>\n",
       "      <td>NaN</td>\n",
       "      <td>...</td>\n",
       "      <td>NaN</td>\n",
       "      <td>NaN</td>\n",
       "      <td>NaN</td>\n",
       "      <td>NaN</td>\n",
       "      <td>NaN</td>\n",
       "      <td>NaN</td>\n",
       "      <td>NaN</td>\n",
       "      <td>NaN</td>\n",
       "      <td>NaN</td>\n",
       "      <td>NaN</td>\n",
       "    </tr>\n",
       "    <tr>\n",
       "      <th>4</th>\n",
       "      <td>Karl Malone</td>\n",
       "      <td>14.0</td>\n",
       "      <td>14.0</td>\n",
       "      <td>1875.0</td>\n",
       "      <td>1985.0</td>\n",
       "      <td>13.0</td>\n",
       "      <td>UTA</td>\n",
       "      <td>Louisiana Tech University</td>\n",
       "      <td>19.0</td>\n",
       "      <td>1476.0</td>\n",
       "      <td>...</td>\n",
       "      <td>0.274</td>\n",
       "      <td>0.742</td>\n",
       "      <td>37.2</td>\n",
       "      <td>25.0</td>\n",
       "      <td>10.1</td>\n",
       "      <td>3.6</td>\n",
       "      <td>234.6</td>\n",
       "      <td>0.205</td>\n",
       "      <td>5.4</td>\n",
       "      <td>102.5</td>\n",
       "    </tr>\n",
       "  </tbody>\n",
       "</table>\n",
       "<p>5 rows × 25 columns</p>\n",
       "</div>"
      ],
      "text/plain": [
       "                Player  All_NBA  All-Star  Unnamed: 0  Draft_Yr    Pk Team  \\\n",
       "0           Tim Duncan     15.0      15.0      2863.0    1997.0   1.0  SAS   \n",
       "1          Kobe Bryant     15.0      18.0      2817.0    1996.0  13.0  CHH   \n",
       "2     Shaquille O'Neal     14.0      15.0      2585.0    1992.0   1.0  ORL   \n",
       "3  Kareem Abdul-Jabbar     14.0      19.0         NaN       NaN   NaN  NaN   \n",
       "4          Karl Malone     14.0      14.0      1875.0    1985.0  13.0  UTA   \n",
       "\n",
       "                      College   Yrs   Games  ...    TP_Percentage  \\\n",
       "0      Wake Forest University  19.0  1392.0  ...            0.179   \n",
       "1                           0  20.0  1346.0  ...            0.329   \n",
       "2  Louisiana State University  19.0  1207.0  ...            0.045   \n",
       "3                         NaN   NaN     NaN  ...              NaN   \n",
       "4   Louisiana Tech University  19.0  1476.0  ...            0.274   \n",
       "\n",
       "   FT_Percentage  Minutes per Game  Points per Game  TRB per game  \\\n",
       "0          0.696              34.0             19.0          10.8   \n",
       "1          0.837              36.1             25.0           5.2   \n",
       "2          0.527              34.7             23.7          10.9   \n",
       "3            NaN               NaN              NaN           NaN   \n",
       "4          0.742              37.2             25.0          10.1   \n",
       "\n",
       "   Assits per Game  Win Share  WS_per_game  BPM   VORP  \n",
       "0              3.0      206.4        0.209  5.5   89.3  \n",
       "1              4.7      172.7        0.170  3.9   72.1  \n",
       "2              2.5      181.7        0.208  5.0   74.0  \n",
       "3              NaN        NaN          NaN  NaN    NaN  \n",
       "4              3.6      234.6        0.205  5.4  102.5  \n",
       "\n",
       "[5 rows x 25 columns]"
      ]
     },
     "execution_count": 26,
     "metadata": {},
     "output_type": "execute_result"
    }
   ],
   "source": [
    "df_draft = pd.merge(df_accomplishment, draft_dframe, on = 'Player',\n",
    "                   how = 'outer')\n",
    "df_draft.head()"
   ]
  },
  {
   "cell_type": "markdown",
   "metadata": {},
   "source": [
    "Merging data in pandas is pretty easy, easier than it seems in Stata. Doing a few quality checks, such as making sure that all players transferred over and that all players undrafted or drafted before 1976 came out okay. I feel like when I do this in Stata, over half the time something has gone wrong because the thing you want to merge on, such as subject id, has some nuance that screws things up. Luckily, that's not the case here and everything is in order."
   ]
  },
  {
   "cell_type": "code",
   "execution_count": 27,
   "metadata": {
    "collapsed": true
   },
   "outputs": [],
   "source": [
    "# Dropping undrafted players and those drafted before 1976\n",
    "df_draft = df_draft[df_draft.Pk.notnull()]"
   ]
  },
  {
   "cell_type": "code",
   "execution_count": 28,
   "metadata": {
    "collapsed": false
   },
   "outputs": [
    {
     "data": {
      "text/html": [
       "<div>\n",
       "<table border=\"1\" class=\"dataframe\">\n",
       "  <thead>\n",
       "    <tr style=\"text-align: right;\">\n",
       "      <th></th>\n",
       "      <th>Player</th>\n",
       "      <th>All_NBA</th>\n",
       "      <th>All-Star</th>\n",
       "      <th>Draft_Yr</th>\n",
       "      <th>Pk</th>\n",
       "      <th>Team</th>\n",
       "      <th>College</th>\n",
       "      <th>Yrs</th>\n",
       "      <th>Games</th>\n",
       "      <th>Minutes Played</th>\n",
       "      <th>...</th>\n",
       "      <th>TP_Percentage</th>\n",
       "      <th>FT_Percentage</th>\n",
       "      <th>Minutes per Game</th>\n",
       "      <th>Points per Game</th>\n",
       "      <th>TRB per game</th>\n",
       "      <th>Assits per Game</th>\n",
       "      <th>Win Share</th>\n",
       "      <th>WS_per_game</th>\n",
       "      <th>BPM</th>\n",
       "      <th>VORP</th>\n",
       "    </tr>\n",
       "  </thead>\n",
       "  <tbody>\n",
       "    <tr>\n",
       "      <th>0</th>\n",
       "      <td>Tim Duncan</td>\n",
       "      <td>15.0</td>\n",
       "      <td>15.0</td>\n",
       "      <td>1997.0</td>\n",
       "      <td>1.0</td>\n",
       "      <td>SAS</td>\n",
       "      <td>Wake Forest University</td>\n",
       "      <td>19.0</td>\n",
       "      <td>1392.0</td>\n",
       "      <td>47368.0</td>\n",
       "      <td>...</td>\n",
       "      <td>0.179</td>\n",
       "      <td>0.696</td>\n",
       "      <td>34.0</td>\n",
       "      <td>19.0</td>\n",
       "      <td>10.8</td>\n",
       "      <td>3.0</td>\n",
       "      <td>206.4</td>\n",
       "      <td>0.209</td>\n",
       "      <td>5.5</td>\n",
       "      <td>89.3</td>\n",
       "    </tr>\n",
       "    <tr>\n",
       "      <th>1</th>\n",
       "      <td>Kobe Bryant</td>\n",
       "      <td>15.0</td>\n",
       "      <td>18.0</td>\n",
       "      <td>1996.0</td>\n",
       "      <td>13.0</td>\n",
       "      <td>CHH</td>\n",
       "      <td>0</td>\n",
       "      <td>20.0</td>\n",
       "      <td>1346.0</td>\n",
       "      <td>48637.0</td>\n",
       "      <td>...</td>\n",
       "      <td>0.329</td>\n",
       "      <td>0.837</td>\n",
       "      <td>36.1</td>\n",
       "      <td>25.0</td>\n",
       "      <td>5.2</td>\n",
       "      <td>4.7</td>\n",
       "      <td>172.7</td>\n",
       "      <td>0.170</td>\n",
       "      <td>3.9</td>\n",
       "      <td>72.1</td>\n",
       "    </tr>\n",
       "    <tr>\n",
       "      <th>2</th>\n",
       "      <td>Shaquille O'Neal</td>\n",
       "      <td>14.0</td>\n",
       "      <td>15.0</td>\n",
       "      <td>1992.0</td>\n",
       "      <td>1.0</td>\n",
       "      <td>ORL</td>\n",
       "      <td>Louisiana State University</td>\n",
       "      <td>19.0</td>\n",
       "      <td>1207.0</td>\n",
       "      <td>41918.0</td>\n",
       "      <td>...</td>\n",
       "      <td>0.045</td>\n",
       "      <td>0.527</td>\n",
       "      <td>34.7</td>\n",
       "      <td>23.7</td>\n",
       "      <td>10.9</td>\n",
       "      <td>2.5</td>\n",
       "      <td>181.7</td>\n",
       "      <td>0.208</td>\n",
       "      <td>5.0</td>\n",
       "      <td>74.0</td>\n",
       "    </tr>\n",
       "    <tr>\n",
       "      <th>4</th>\n",
       "      <td>Karl Malone</td>\n",
       "      <td>14.0</td>\n",
       "      <td>14.0</td>\n",
       "      <td>1985.0</td>\n",
       "      <td>13.0</td>\n",
       "      <td>UTA</td>\n",
       "      <td>Louisiana Tech University</td>\n",
       "      <td>19.0</td>\n",
       "      <td>1476.0</td>\n",
       "      <td>54852.0</td>\n",
       "      <td>...</td>\n",
       "      <td>0.274</td>\n",
       "      <td>0.742</td>\n",
       "      <td>37.2</td>\n",
       "      <td>25.0</td>\n",
       "      <td>10.1</td>\n",
       "      <td>3.6</td>\n",
       "      <td>234.6</td>\n",
       "      <td>0.205</td>\n",
       "      <td>5.4</td>\n",
       "      <td>102.5</td>\n",
       "    </tr>\n",
       "    <tr>\n",
       "      <th>6</th>\n",
       "      <td>Hakeem Olajuwon</td>\n",
       "      <td>12.0</td>\n",
       "      <td>12.0</td>\n",
       "      <td>1984.0</td>\n",
       "      <td>1.0</td>\n",
       "      <td>HOU</td>\n",
       "      <td>University of Houston</td>\n",
       "      <td>18.0</td>\n",
       "      <td>1238.0</td>\n",
       "      <td>44222.0</td>\n",
       "      <td>...</td>\n",
       "      <td>0.202</td>\n",
       "      <td>0.712</td>\n",
       "      <td>35.7</td>\n",
       "      <td>21.8</td>\n",
       "      <td>11.1</td>\n",
       "      <td>2.5</td>\n",
       "      <td>162.8</td>\n",
       "      <td>0.177</td>\n",
       "      <td>4.9</td>\n",
       "      <td>77.1</td>\n",
       "    </tr>\n",
       "  </tbody>\n",
       "</table>\n",
       "<p>5 rows × 24 columns</p>\n",
       "</div>"
      ],
      "text/plain": [
       "             Player  All_NBA  All-Star  Draft_Yr    Pk Team  \\\n",
       "0        Tim Duncan     15.0      15.0    1997.0   1.0  SAS   \n",
       "1       Kobe Bryant     15.0      18.0    1996.0  13.0  CHH   \n",
       "2  Shaquille O'Neal     14.0      15.0    1992.0   1.0  ORL   \n",
       "4       Karl Malone     14.0      14.0    1985.0  13.0  UTA   \n",
       "6   Hakeem Olajuwon     12.0      12.0    1984.0   1.0  HOU   \n",
       "\n",
       "                      College   Yrs   Games  Minutes Played  ...    \\\n",
       "0      Wake Forest University  19.0  1392.0         47368.0  ...     \n",
       "1                           0  20.0  1346.0         48637.0  ...     \n",
       "2  Louisiana State University  19.0  1207.0         41918.0  ...     \n",
       "4   Louisiana Tech University  19.0  1476.0         54852.0  ...     \n",
       "6       University of Houston  18.0  1238.0         44222.0  ...     \n",
       "\n",
       "   TP_Percentage  FT_Percentage  Minutes per Game  Points per Game  \\\n",
       "0          0.179          0.696              34.0             19.0   \n",
       "1          0.329          0.837              36.1             25.0   \n",
       "2          0.045          0.527              34.7             23.7   \n",
       "4          0.274          0.742              37.2             25.0   \n",
       "6          0.202          0.712              35.7             21.8   \n",
       "\n",
       "   TRB per game  Assits per Game  Win Share  WS_per_game  BPM   VORP  \n",
       "0          10.8              3.0      206.4        0.209  5.5   89.3  \n",
       "1           5.2              4.7      172.7        0.170  3.9   72.1  \n",
       "2          10.9              2.5      181.7        0.208  5.0   74.0  \n",
       "4          10.1              3.6      234.6        0.205  5.4  102.5  \n",
       "6          11.1              2.5      162.8        0.177  4.9   77.1  \n",
       "\n",
       "[5 rows x 24 columns]"
      ]
     },
     "execution_count": 28,
     "metadata": {},
     "output_type": "execute_result"
    }
   ],
   "source": [
    "# Filling the NaN cells for drafted players with zeroes\n",
    "df_draft = df_draft.fillna(0)\n",
    "# Dropping the ABA all-star column\n",
    "df_draft.drop(df_draft.columns[[3]], inplace=True, axis=1)\n",
    "df_draft.head()"
   ]
  },
  {
   "cell_type": "code",
   "execution_count": 29,
   "metadata": {
    "collapsed": false
   },
   "outputs": [
    {
     "name": "stdout",
     "output_type": "stream",
     "text": [
      "/Users/rorypulvino/Dropbox (Personal)/Python/blog/content/NBA_Data\n"
     ]
    }
   ],
   "source": [
    "cd NBA_Data"
   ]
  },
  {
   "cell_type": "code",
   "execution_count": 30,
   "metadata": {
    "collapsed": true
   },
   "outputs": [],
   "source": [
    "df_draft.to_csv('1976_to_2015_Draftees.csv')"
   ]
  },
  {
   "cell_type": "markdown",
   "metadata": {},
   "source": [
    "## Player data loaded\n",
    "All the data I wanted for player stats for draftees from 1976 to 2015 is now in one DataFrame which is pretty awesome. I could just run analysis on this now looking at the correlation between player quality and draft pick, but would like to merge the coaching and GM data first. In my next post, I'll be dealing with the GM and coaching data issues and merging it into this DataFrame.\n",
    "\n",
    "Overall, completing this post took longer than expected. This is mostly because I had originally intended to work on this and the GM and coaching data all in a single post, but the GM data took much longer than expected as did the all-NBA selections. Oh and I moved to Nairobi during this time. I'd estimate this was about 10  hours of work, with 8 of those hours coming in trying to work through the issues in the all-NBA dataframe."
   ]
  }
 ],
 "metadata": {
  "anaconda-cloud": {},
  "kernelspec": {
   "display_name": "Python [default]",
   "language": "python",
   "name": "python2"
  },
  "language_info": {
   "codemirror_mode": {
    "name": "ipython",
    "version": 2
   },
   "file_extension": ".py",
   "mimetype": "text/x-python",
   "name": "python",
   "nbconvert_exporter": "python",
   "pygments_lexer": "ipython2",
   "version": "2.7.12"
  }
 },
 "nbformat": 4,
 "nbformat_minor": 0
}
