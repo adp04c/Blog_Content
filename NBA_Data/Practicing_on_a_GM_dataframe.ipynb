{
 "cells": [
  {
   "cell_type": "markdown",
   "metadata": {},
   "source": [
    "# What this is\n",
    "This notebook is a log of how I figured out the pieces of the loop to grab player accomplishment data and GM data in Parts 3 and 4 of the NBA draft series I am working on. I only thought to upload this after a suggestion from a collaborator that I work on the loops in an iterative way. This represents that iterative process, but unfortunately I had cleaned it up from all the errors of my experimentation. This file runs smoothly to create the GM dataframe that I want. In the future, when I create these files, I'll try to leave the errors in there as much as possible and notate the errors as they occur and how I solved them. I won't be uploading these to my [blog][1] just because these files, with all their errors, are so cumbersome that I think they will detract from the readability of the blog. \n",
    "Another reason for creating these files and uploading them is because I current live in Nairobi where it is hard to find fast internet. This makes it hard to do things like scrape a DataFrame or even upload a cloud stored csv file. Because of this, I have to create my own dataframes that replicate those I would be working with and work through these sample DataFrames before putting it into the full notebook and running that when I get a strong internet connection.\n",
    "[1]: https://rvino.github.io/category/posts.html"
   ]
  },
  {
   "cell_type": "code",
   "execution_count": 34,
   "metadata": {
    "collapsed": true
   },
   "outputs": [],
   "source": [
    "import pandas as pd\n",
    "from pandas import DataFrame\n",
    "import numpy as np"
   ]
  },
  {
   "cell_type": "code",
   "execution_count": 19,
   "metadata": {
    "collapsed": true
   },
   "outputs": [],
   "source": [
    "import numpy as np"
   ]
  },
  {
   "cell_type": "code",
   "execution_count": 49,
   "metadata": {
    "collapsed": true
   },
   "outputs": [],
   "source": [
    "df = DataFrame([['CHH', 'Bernie Bickerstaff', '2003-10-16', '2007-05-31'],\n",
    "                    ['CHH', 'Rod Higgins', '2007-05-31', '2011-06-14'],\n",
    "                    ['CHH', 'Fake GM', '2011-06-14', '2011-06-20'],\n",
    "                    ['CHH', 'Fake GM2', '2011-06-20', '2011-07-10'],\n",
    "                    ['CHH', 'Fake GM3', '2011-07-10', '2012-05-30'],\n",
    "                    ['CHH', 'Fake GM4', '2012-05-30', '2014-10-30']], columns = ('Team', 'Executive', 'Start', 'End'))"
   ]
  },
  {
   "cell_type": "code",
   "execution_count": 50,
   "metadata": {
    "collapsed": false
   },
   "outputs": [
    {
     "data": {
      "text/html": [
       "<div>\n",
       "<table border=\"1\" class=\"dataframe\">\n",
       "  <thead>\n",
       "    <tr style=\"text-align: right;\">\n",
       "      <th></th>\n",
       "      <th>Team</th>\n",
       "      <th>Executive</th>\n",
       "      <th>Start</th>\n",
       "      <th>End</th>\n",
       "    </tr>\n",
       "  </thead>\n",
       "  <tbody>\n",
       "    <tr>\n",
       "      <th>0</th>\n",
       "      <td>CHH</td>\n",
       "      <td>Bernie Bickerstaff</td>\n",
       "      <td>2003-10-16</td>\n",
       "      <td>2007-05-31</td>\n",
       "    </tr>\n",
       "    <tr>\n",
       "      <th>1</th>\n",
       "      <td>CHH</td>\n",
       "      <td>Rod Higgins</td>\n",
       "      <td>2007-05-31</td>\n",
       "      <td>2011-06-14</td>\n",
       "    </tr>\n",
       "    <tr>\n",
       "      <th>2</th>\n",
       "      <td>CHH</td>\n",
       "      <td>Fake GM</td>\n",
       "      <td>2011-06-14</td>\n",
       "      <td>2011-06-20</td>\n",
       "    </tr>\n",
       "    <tr>\n",
       "      <th>3</th>\n",
       "      <td>CHH</td>\n",
       "      <td>Fake GM2</td>\n",
       "      <td>2011-06-20</td>\n",
       "      <td>2011-07-10</td>\n",
       "    </tr>\n",
       "    <tr>\n",
       "      <th>4</th>\n",
       "      <td>CHH</td>\n",
       "      <td>Fake GM3</td>\n",
       "      <td>2011-07-10</td>\n",
       "      <td>2012-05-30</td>\n",
       "    </tr>\n",
       "    <tr>\n",
       "      <th>5</th>\n",
       "      <td>CHH</td>\n",
       "      <td>Fake GM4</td>\n",
       "      <td>2012-05-30</td>\n",
       "      <td>2014-10-30</td>\n",
       "    </tr>\n",
       "  </tbody>\n",
       "</table>\n",
       "</div>"
      ],
      "text/plain": [
       "  Team           Executive       Start         End\n",
       "0  CHH  Bernie Bickerstaff  2003-10-16  2007-05-31\n",
       "1  CHH         Rod Higgins  2007-05-31  2011-06-14\n",
       "2  CHH             Fake GM  2011-06-14  2011-06-20\n",
       "3  CHH            Fake GM2  2011-06-20  2011-07-10\n",
       "4  CHH            Fake GM3  2011-07-10  2012-05-30\n",
       "5  CHH            Fake GM4  2012-05-30  2014-10-30"
      ]
     },
     "execution_count": 50,
     "metadata": {},
     "output_type": "execute_result"
    }
   ],
   "source": [
    "df"
   ]
  },
  {
   "cell_type": "code",
   "execution_count": 51,
   "metadata": {
    "collapsed": false
   },
   "outputs": [
    {
     "data": {
      "text/plain": [
       "Team         object\n",
       "Executive    object\n",
       "Start        object\n",
       "End          object\n",
       "dtype: object"
      ]
     },
     "execution_count": 51,
     "metadata": {},
     "output_type": "execute_result"
    }
   ],
   "source": [
    "df.dtypes"
   ]
  },
  {
   "cell_type": "code",
   "execution_count": 52,
   "metadata": {
    "collapsed": false
   },
   "outputs": [
    {
     "data": {
      "text/plain": [
       "Team                 object\n",
       "Executive            object\n",
       "Start        datetime64[ns]\n",
       "End          datetime64[ns]\n",
       "dtype: object"
      ]
     },
     "execution_count": 52,
     "metadata": {},
     "output_type": "execute_result"
    }
   ],
   "source": [
    "df['Start'] = pandas.to_datetime(df['Start'], errors='coerce')\n",
    "df['End'] = pandas.to_datetime(df['End'], errors='coerce')\n",
    "df.dtypes"
   ]
  },
  {
   "cell_type": "code",
   "execution_count": 53,
   "metadata": {
    "collapsed": false
   },
   "outputs": [
    {
     "data": {
      "text/html": [
       "<div>\n",
       "<table border=\"1\" class=\"dataframe\">\n",
       "  <thead>\n",
       "    <tr style=\"text-align: right;\">\n",
       "      <th></th>\n",
       "      <th>Team</th>\n",
       "      <th>Executive</th>\n",
       "      <th>Start</th>\n",
       "      <th>End</th>\n",
       "      <th>start_year</th>\n",
       "    </tr>\n",
       "  </thead>\n",
       "  <tbody>\n",
       "    <tr>\n",
       "      <th>0</th>\n",
       "      <td>CHH</td>\n",
       "      <td>Bernie Bickerstaff</td>\n",
       "      <td>2003-10-16</td>\n",
       "      <td>2007-05-31</td>\n",
       "      <td>2003</td>\n",
       "    </tr>\n",
       "    <tr>\n",
       "      <th>1</th>\n",
       "      <td>CHH</td>\n",
       "      <td>Rod Higgins</td>\n",
       "      <td>2007-05-31</td>\n",
       "      <td>2011-06-14</td>\n",
       "      <td>2007</td>\n",
       "    </tr>\n",
       "    <tr>\n",
       "      <th>2</th>\n",
       "      <td>CHH</td>\n",
       "      <td>Fake GM</td>\n",
       "      <td>2011-06-14</td>\n",
       "      <td>2011-06-20</td>\n",
       "      <td>2011</td>\n",
       "    </tr>\n",
       "    <tr>\n",
       "      <th>3</th>\n",
       "      <td>CHH</td>\n",
       "      <td>Fake GM2</td>\n",
       "      <td>2011-06-20</td>\n",
       "      <td>2011-07-10</td>\n",
       "      <td>2011</td>\n",
       "    </tr>\n",
       "    <tr>\n",
       "      <th>4</th>\n",
       "      <td>CHH</td>\n",
       "      <td>Fake GM3</td>\n",
       "      <td>2011-07-10</td>\n",
       "      <td>2012-05-30</td>\n",
       "      <td>2011</td>\n",
       "    </tr>\n",
       "    <tr>\n",
       "      <th>5</th>\n",
       "      <td>CHH</td>\n",
       "      <td>Fake GM4</td>\n",
       "      <td>2012-05-30</td>\n",
       "      <td>2014-10-30</td>\n",
       "      <td>2012</td>\n",
       "    </tr>\n",
       "  </tbody>\n",
       "</table>\n",
       "</div>"
      ],
      "text/plain": [
       "  Team           Executive      Start        End  start_year\n",
       "0  CHH  Bernie Bickerstaff 2003-10-16 2007-05-31        2003\n",
       "1  CHH         Rod Higgins 2007-05-31 2011-06-14        2007\n",
       "2  CHH             Fake GM 2011-06-14 2011-06-20        2011\n",
       "3  CHH            Fake GM2 2011-06-20 2011-07-10        2011\n",
       "4  CHH            Fake GM3 2011-07-10 2012-05-30        2011\n",
       "5  CHH            Fake GM4 2012-05-30 2014-10-30        2012"
      ]
     },
     "execution_count": 53,
     "metadata": {},
     "output_type": "execute_result"
    }
   ],
   "source": [
    "df['start_year'] = df['Start'].dt.year\n",
    "df"
   ]
  },
  {
   "cell_type": "code",
   "execution_count": 54,
   "metadata": {
    "collapsed": true
   },
   "outputs": [],
   "source": [
    "draftDates = {2003: '2003-06-26', 2004: '2004-06-24', 2005: '2005-06-28', 2006: '2006-06-28', 2007: '2007-06-28',\n",
    "             2008: '2008-06-26', 2009: '2009-06-25', 2010: '2010-06-24', 2011: '2011-06-23', 2012: '2012-06-28',\n",
    "             2013: '2013-06-27', 2014: '2014-06-26'}"
   ]
  },
  {
   "cell_type": "code",
   "execution_count": 55,
   "metadata": {
    "collapsed": false
   },
   "outputs": [
    {
     "data": {
      "text/html": [
       "<div>\n",
       "<table border=\"1\" class=\"dataframe\">\n",
       "  <thead>\n",
       "    <tr style=\"text-align: right;\">\n",
       "      <th></th>\n",
       "      <th>Team</th>\n",
       "      <th>Executive</th>\n",
       "      <th>Start</th>\n",
       "      <th>End</th>\n",
       "      <th>start_year</th>\n",
       "      <th>start_cut</th>\n",
       "    </tr>\n",
       "  </thead>\n",
       "  <tbody>\n",
       "    <tr>\n",
       "      <th>0</th>\n",
       "      <td>CHH</td>\n",
       "      <td>Bernie Bickerstaff</td>\n",
       "      <td>2003-10-16</td>\n",
       "      <td>2007-05-31</td>\n",
       "      <td>2003</td>\n",
       "      <td>2003-06-26</td>\n",
       "    </tr>\n",
       "    <tr>\n",
       "      <th>1</th>\n",
       "      <td>CHH</td>\n",
       "      <td>Rod Higgins</td>\n",
       "      <td>2007-05-31</td>\n",
       "      <td>2011-06-14</td>\n",
       "      <td>2007</td>\n",
       "      <td>2007-06-28</td>\n",
       "    </tr>\n",
       "    <tr>\n",
       "      <th>2</th>\n",
       "      <td>CHH</td>\n",
       "      <td>Fake GM</td>\n",
       "      <td>2011-06-14</td>\n",
       "      <td>2011-06-20</td>\n",
       "      <td>2011</td>\n",
       "      <td>2011-06-23</td>\n",
       "    </tr>\n",
       "    <tr>\n",
       "      <th>3</th>\n",
       "      <td>CHH</td>\n",
       "      <td>Fake GM2</td>\n",
       "      <td>2011-06-20</td>\n",
       "      <td>2011-07-10</td>\n",
       "      <td>2011</td>\n",
       "      <td>2011-06-23</td>\n",
       "    </tr>\n",
       "    <tr>\n",
       "      <th>4</th>\n",
       "      <td>CHH</td>\n",
       "      <td>Fake GM3</td>\n",
       "      <td>2011-07-10</td>\n",
       "      <td>2012-05-30</td>\n",
       "      <td>2011</td>\n",
       "      <td>2011-06-23</td>\n",
       "    </tr>\n",
       "    <tr>\n",
       "      <th>5</th>\n",
       "      <td>CHH</td>\n",
       "      <td>Fake GM4</td>\n",
       "      <td>2012-05-30</td>\n",
       "      <td>2014-10-30</td>\n",
       "      <td>2012</td>\n",
       "      <td>2012-06-28</td>\n",
       "    </tr>\n",
       "  </tbody>\n",
       "</table>\n",
       "</div>"
      ],
      "text/plain": [
       "  Team           Executive      Start        End  start_year   start_cut\n",
       "0  CHH  Bernie Bickerstaff 2003-10-16 2007-05-31        2003  2003-06-26\n",
       "1  CHH         Rod Higgins 2007-05-31 2011-06-14        2007  2007-06-28\n",
       "2  CHH             Fake GM 2011-06-14 2011-06-20        2011  2011-06-23\n",
       "3  CHH            Fake GM2 2011-06-20 2011-07-10        2011  2011-06-23\n",
       "4  CHH            Fake GM3 2011-07-10 2012-05-30        2011  2011-06-23\n",
       "5  CHH            Fake GM4 2012-05-30 2014-10-30        2012  2012-06-28"
      ]
     },
     "execution_count": 55,
     "metadata": {},
     "output_type": "execute_result"
    }
   ],
   "source": [
    "df['start_cut'] = df.start_year.map(draftDates)\n",
    "df"
   ]
  },
  {
   "cell_type": "code",
   "execution_count": 56,
   "metadata": {
    "collapsed": false
   },
   "outputs": [
    {
     "data": {
      "text/html": [
       "<div>\n",
       "<table border=\"1\" class=\"dataframe\">\n",
       "  <thead>\n",
       "    <tr style=\"text-align: right;\">\n",
       "      <th></th>\n",
       "      <th>Team</th>\n",
       "      <th>Executive</th>\n",
       "      <th>Start</th>\n",
       "      <th>End</th>\n",
       "      <th>start_year</th>\n",
       "      <th>start_cut</th>\n",
       "      <th>cut_year</th>\n",
       "    </tr>\n",
       "  </thead>\n",
       "  <tbody>\n",
       "    <tr>\n",
       "      <th>0</th>\n",
       "      <td>CHH</td>\n",
       "      <td>Bernie Bickerstaff</td>\n",
       "      <td>2003-10-16</td>\n",
       "      <td>2007-05-31</td>\n",
       "      <td>2003</td>\n",
       "      <td>2003-06-26</td>\n",
       "      <td>2004</td>\n",
       "    </tr>\n",
       "    <tr>\n",
       "      <th>1</th>\n",
       "      <td>CHH</td>\n",
       "      <td>Rod Higgins</td>\n",
       "      <td>2007-05-31</td>\n",
       "      <td>2011-06-14</td>\n",
       "      <td>2007</td>\n",
       "      <td>2007-06-28</td>\n",
       "      <td>2008</td>\n",
       "    </tr>\n",
       "    <tr>\n",
       "      <th>2</th>\n",
       "      <td>CHH</td>\n",
       "      <td>Fake GM</td>\n",
       "      <td>2011-06-14</td>\n",
       "      <td>2011-06-20</td>\n",
       "      <td>2011</td>\n",
       "      <td>2011-06-23</td>\n",
       "      <td>2012</td>\n",
       "    </tr>\n",
       "    <tr>\n",
       "      <th>3</th>\n",
       "      <td>CHH</td>\n",
       "      <td>Fake GM2</td>\n",
       "      <td>2011-06-20</td>\n",
       "      <td>2011-07-10</td>\n",
       "      <td>2011</td>\n",
       "      <td>2011-06-23</td>\n",
       "      <td>2012</td>\n",
       "    </tr>\n",
       "    <tr>\n",
       "      <th>4</th>\n",
       "      <td>CHH</td>\n",
       "      <td>Fake GM3</td>\n",
       "      <td>2011-07-10</td>\n",
       "      <td>2012-05-30</td>\n",
       "      <td>2011</td>\n",
       "      <td>2011-06-23</td>\n",
       "      <td>2012</td>\n",
       "    </tr>\n",
       "    <tr>\n",
       "      <th>5</th>\n",
       "      <td>CHH</td>\n",
       "      <td>Fake GM4</td>\n",
       "      <td>2012-05-30</td>\n",
       "      <td>2014-10-30</td>\n",
       "      <td>2012</td>\n",
       "      <td>2012-06-28</td>\n",
       "      <td>2013</td>\n",
       "    </tr>\n",
       "  </tbody>\n",
       "</table>\n",
       "</div>"
      ],
      "text/plain": [
       "  Team           Executive      Start        End  start_year   start_cut  \\\n",
       "0  CHH  Bernie Bickerstaff 2003-10-16 2007-05-31        2003  2003-06-26   \n",
       "1  CHH         Rod Higgins 2007-05-31 2011-06-14        2007  2007-06-28   \n",
       "2  CHH             Fake GM 2011-06-14 2011-06-20        2011  2011-06-23   \n",
       "3  CHH            Fake GM2 2011-06-20 2011-07-10        2011  2011-06-23   \n",
       "4  CHH            Fake GM3 2011-07-10 2012-05-30        2011  2011-06-23   \n",
       "5  CHH            Fake GM4 2012-05-30 2014-10-30        2012  2012-06-28   \n",
       "\n",
       "   cut_year  \n",
       "0      2004  \n",
       "1      2008  \n",
       "2      2012  \n",
       "3      2012  \n",
       "4      2012  \n",
       "5      2013  "
      ]
     },
     "execution_count": 56,
     "metadata": {},
     "output_type": "execute_result"
    }
   ],
   "source": [
    "df['cut_year'] = df['Start'].dt.year + 1\n",
    "df"
   ]
  },
  {
   "cell_type": "code",
   "execution_count": 57,
   "metadata": {
    "collapsed": false
   },
   "outputs": [
    {
     "data": {
      "text/html": [
       "<div>\n",
       "<table border=\"1\" class=\"dataframe\">\n",
       "  <thead>\n",
       "    <tr style=\"text-align: right;\">\n",
       "      <th></th>\n",
       "      <th>Team</th>\n",
       "      <th>Executive</th>\n",
       "      <th>Start</th>\n",
       "      <th>End</th>\n",
       "      <th>start_year</th>\n",
       "      <th>start_cut</th>\n",
       "      <th>cut_year</th>\n",
       "      <th>end_cut</th>\n",
       "    </tr>\n",
       "  </thead>\n",
       "  <tbody>\n",
       "    <tr>\n",
       "      <th>0</th>\n",
       "      <td>CHH</td>\n",
       "      <td>Bernie Bickerstaff</td>\n",
       "      <td>2003-10-16</td>\n",
       "      <td>2007-05-31</td>\n",
       "      <td>2003</td>\n",
       "      <td>2003-06-26</td>\n",
       "      <td>2004</td>\n",
       "      <td>2004-06-24</td>\n",
       "    </tr>\n",
       "    <tr>\n",
       "      <th>1</th>\n",
       "      <td>CHH</td>\n",
       "      <td>Rod Higgins</td>\n",
       "      <td>2007-05-31</td>\n",
       "      <td>2011-06-14</td>\n",
       "      <td>2007</td>\n",
       "      <td>2007-06-28</td>\n",
       "      <td>2008</td>\n",
       "      <td>2008-06-26</td>\n",
       "    </tr>\n",
       "    <tr>\n",
       "      <th>2</th>\n",
       "      <td>CHH</td>\n",
       "      <td>Fake GM</td>\n",
       "      <td>2011-06-14</td>\n",
       "      <td>2011-06-20</td>\n",
       "      <td>2011</td>\n",
       "      <td>2011-06-23</td>\n",
       "      <td>2012</td>\n",
       "      <td>2012-06-28</td>\n",
       "    </tr>\n",
       "    <tr>\n",
       "      <th>3</th>\n",
       "      <td>CHH</td>\n",
       "      <td>Fake GM2</td>\n",
       "      <td>2011-06-20</td>\n",
       "      <td>2011-07-10</td>\n",
       "      <td>2011</td>\n",
       "      <td>2011-06-23</td>\n",
       "      <td>2012</td>\n",
       "      <td>2012-06-28</td>\n",
       "    </tr>\n",
       "    <tr>\n",
       "      <th>4</th>\n",
       "      <td>CHH</td>\n",
       "      <td>Fake GM3</td>\n",
       "      <td>2011-07-10</td>\n",
       "      <td>2012-05-30</td>\n",
       "      <td>2011</td>\n",
       "      <td>2011-06-23</td>\n",
       "      <td>2012</td>\n",
       "      <td>2012-06-28</td>\n",
       "    </tr>\n",
       "    <tr>\n",
       "      <th>5</th>\n",
       "      <td>CHH</td>\n",
       "      <td>Fake GM4</td>\n",
       "      <td>2012-05-30</td>\n",
       "      <td>2014-10-30</td>\n",
       "      <td>2012</td>\n",
       "      <td>2012-06-28</td>\n",
       "      <td>2013</td>\n",
       "      <td>2013-06-27</td>\n",
       "    </tr>\n",
       "  </tbody>\n",
       "</table>\n",
       "</div>"
      ],
      "text/plain": [
       "  Team           Executive      Start        End  start_year   start_cut  \\\n",
       "0  CHH  Bernie Bickerstaff 2003-10-16 2007-05-31        2003  2003-06-26   \n",
       "1  CHH         Rod Higgins 2007-05-31 2011-06-14        2007  2007-06-28   \n",
       "2  CHH             Fake GM 2011-06-14 2011-06-20        2011  2011-06-23   \n",
       "3  CHH            Fake GM2 2011-06-20 2011-07-10        2011  2011-06-23   \n",
       "4  CHH            Fake GM3 2011-07-10 2012-05-30        2011  2011-06-23   \n",
       "5  CHH            Fake GM4 2012-05-30 2014-10-30        2012  2012-06-28   \n",
       "\n",
       "   cut_year     end_cut  \n",
       "0      2004  2004-06-24  \n",
       "1      2008  2008-06-26  \n",
       "2      2012  2012-06-28  \n",
       "3      2012  2012-06-28  \n",
       "4      2012  2012-06-28  \n",
       "5      2013  2013-06-27  "
      ]
     },
     "execution_count": 57,
     "metadata": {},
     "output_type": "execute_result"
    }
   ],
   "source": [
    "df['end_cut'] = df.cut_year.map(draftDates)\n",
    "df"
   ]
  },
  {
   "cell_type": "code",
   "execution_count": 58,
   "metadata": {
    "collapsed": false
   },
   "outputs": [
    {
     "data": {
      "text/plain": [
       "Team                  object\n",
       "Executive             object\n",
       "Start         datetime64[ns]\n",
       "End           datetime64[ns]\n",
       "start_year             int64\n",
       "start_cut     datetime64[ns]\n",
       "cut_year               int64\n",
       "end_cut       datetime64[ns]\n",
       "dtype: object"
      ]
     },
     "execution_count": 58,
     "metadata": {},
     "output_type": "execute_result"
    }
   ],
   "source": [
    "df['start_cut'] = pd.to_datetime(df['start_cut'], errors='coerce')\n",
    "df['end_cut'] = pd.to_datetime(df['end_cut'], errors='coerce')\n",
    "df.dtypes"
   ]
  },
  {
   "cell_type": "code",
   "execution_count": 60,
   "metadata": {
    "collapsed": false
   },
   "outputs": [
    {
     "data": {
      "text/html": [
       "<div>\n",
       "<table border=\"1\" class=\"dataframe\">\n",
       "  <thead>\n",
       "    <tr style=\"text-align: right;\">\n",
       "      <th></th>\n",
       "      <th>Team</th>\n",
       "      <th>Executive</th>\n",
       "      <th>Start</th>\n",
       "      <th>End</th>\n",
       "      <th>start_year</th>\n",
       "      <th>start_cut</th>\n",
       "      <th>cut_year</th>\n",
       "      <th>end_cut</th>\n",
       "    </tr>\n",
       "  </thead>\n",
       "  <tbody>\n",
       "    <tr>\n",
       "      <th>0</th>\n",
       "      <td>CHH</td>\n",
       "      <td>Bernie Bickerstaff</td>\n",
       "      <td>2003-10-16</td>\n",
       "      <td>2007-05-31</td>\n",
       "      <td>2003</td>\n",
       "      <td>2003-06-26</td>\n",
       "      <td>2004</td>\n",
       "      <td>2004-06-24</td>\n",
       "    </tr>\n",
       "    <tr>\n",
       "      <th>1</th>\n",
       "      <td>CHH</td>\n",
       "      <td>Rod Higgins</td>\n",
       "      <td>2007-05-31</td>\n",
       "      <td>2011-06-14</td>\n",
       "      <td>2007</td>\n",
       "      <td>2007-06-28</td>\n",
       "      <td>2008</td>\n",
       "      <td>2008-06-26</td>\n",
       "    </tr>\n",
       "    <tr>\n",
       "      <th>3</th>\n",
       "      <td>CHH</td>\n",
       "      <td>Fake GM2</td>\n",
       "      <td>2011-06-20</td>\n",
       "      <td>2011-07-10</td>\n",
       "      <td>2011</td>\n",
       "      <td>2011-06-23</td>\n",
       "      <td>2012</td>\n",
       "      <td>2012-06-28</td>\n",
       "    </tr>\n",
       "    <tr>\n",
       "      <th>5</th>\n",
       "      <td>CHH</td>\n",
       "      <td>Fake GM4</td>\n",
       "      <td>2012-05-30</td>\n",
       "      <td>2014-10-30</td>\n",
       "      <td>2012</td>\n",
       "      <td>2012-06-28</td>\n",
       "      <td>2013</td>\n",
       "      <td>2013-06-27</td>\n",
       "    </tr>\n",
       "  </tbody>\n",
       "</table>\n",
       "</div>"
      ],
      "text/plain": [
       "  Team           Executive      Start        End  start_year  start_cut  \\\n",
       "0  CHH  Bernie Bickerstaff 2003-10-16 2007-05-31        2003 2003-06-26   \n",
       "1  CHH         Rod Higgins 2007-05-31 2011-06-14        2007 2007-06-28   \n",
       "3  CHH            Fake GM2 2011-06-20 2011-07-10        2011 2011-06-23   \n",
       "5  CHH            Fake GM4 2012-05-30 2014-10-30        2012 2012-06-28   \n",
       "\n",
       "   cut_year    end_cut  \n",
       "0      2004 2004-06-24  \n",
       "1      2008 2008-06-26  \n",
       "3      2012 2012-06-28  \n",
       "5      2013 2013-06-27  "
      ]
     },
     "execution_count": 60,
     "metadata": {},
     "output_type": "execute_result"
    }
   ],
   "source": [
    "# Drops GM's that were hired after the draft in a given year and released prior to the draft the following year\n",
    "df = df[~((df['Start'] >= df['start_cut']) & (df['End'] <= df['end_cut']))] \n",
    "# Drops GM's hired and fired in the same year of a draft and prior to the draft\n",
    "df = df[~((df['Start'] <= df['start_cut']) & (df['End'] <= df['start_cut']))] \n",
    "df\n"
   ]
  },
  {
   "cell_type": "code",
   "execution_count": 37,
   "metadata": {
    "collapsed": false
   },
   "outputs": [
    {
     "data": {
      "text/html": [
       "<div>\n",
       "<table border=\"1\" class=\"dataframe\">\n",
       "  <thead>\n",
       "    <tr style=\"text-align: right;\">\n",
       "      <th></th>\n",
       "      <th>Team</th>\n",
       "      <th>Executive</th>\n",
       "      <th>Start</th>\n",
       "      <th>End</th>\n",
       "      <th>start_year</th>\n",
       "      <th>start_cut</th>\n",
       "      <th>cut_year</th>\n",
       "      <th>end_cut</th>\n",
       "      <th>Draft_year</th>\n",
       "    </tr>\n",
       "  </thead>\n",
       "  <tbody>\n",
       "    <tr>\n",
       "      <th>0</th>\n",
       "      <td>CHH</td>\n",
       "      <td>Bernie Bickerstaff</td>\n",
       "      <td>2003-10-16</td>\n",
       "      <td>2007-05-31</td>\n",
       "      <td>2003</td>\n",
       "      <td>2003-06-26</td>\n",
       "      <td>2004</td>\n",
       "      <td>2004-06-24</td>\n",
       "      <td>2004</td>\n",
       "    </tr>\n",
       "    <tr>\n",
       "      <th>1</th>\n",
       "      <td>CHH</td>\n",
       "      <td>Rod Higgins</td>\n",
       "      <td>2007-05-31</td>\n",
       "      <td>2011-06-14</td>\n",
       "      <td>2007</td>\n",
       "      <td>2007-06-28</td>\n",
       "      <td>2008</td>\n",
       "      <td>2008-06-26</td>\n",
       "      <td>2007</td>\n",
       "    </tr>\n",
       "    <tr>\n",
       "      <th>2</th>\n",
       "      <td>CHH</td>\n",
       "      <td>Fake GM</td>\n",
       "      <td>2011-06-14</td>\n",
       "      <td>2011-06-20</td>\n",
       "      <td>2011</td>\n",
       "      <td>2011-06-23</td>\n",
       "      <td>2012</td>\n",
       "      <td>2012-06-28</td>\n",
       "      <td>2011</td>\n",
       "    </tr>\n",
       "    <tr>\n",
       "      <th>3</th>\n",
       "      <td>CHH</td>\n",
       "      <td>Fake GM2</td>\n",
       "      <td>2011-06-20</td>\n",
       "      <td>2014-10-20</td>\n",
       "      <td>2011</td>\n",
       "      <td>2011-06-23</td>\n",
       "      <td>2012</td>\n",
       "      <td>2012-06-28</td>\n",
       "      <td>2011</td>\n",
       "    </tr>\n",
       "  </tbody>\n",
       "</table>\n",
       "</div>"
      ],
      "text/plain": [
       "  Team           Executive      Start        End  start_year  start_cut  \\\n",
       "0  CHH  Bernie Bickerstaff 2003-10-16 2007-05-31        2003 2003-06-26   \n",
       "1  CHH         Rod Higgins 2007-05-31 2011-06-14        2007 2007-06-28   \n",
       "2  CHH             Fake GM 2011-06-14 2011-06-20        2011 2011-06-23   \n",
       "3  CHH            Fake GM2 2011-06-20 2014-10-20        2011 2011-06-23   \n",
       "\n",
       "   cut_year    end_cut  Draft_year  \n",
       "0      2004 2004-06-24        2004  \n",
       "1      2008 2008-06-26        2007  \n",
       "2      2012 2012-06-28        2011  \n",
       "3      2012 2012-06-28        2011  "
      ]
     },
     "execution_count": 37,
     "metadata": {},
     "output_type": "execute_result"
    }
   ],
   "source": [
    "# Now I'm going to create the draft year column for the first year that each GM drafted. \n",
    "df['Draft_year'] = (df['start_year']+1)[(df['Start'] >= df['start_cut'])] # This gives the GM's first year of the draft as the year after he started if he started after July 1 of the previous year\n",
    "# Now filling the rest of 'Draft_year' with just the year column\n",
    "df['Draft_year'] = df['Draft_year'].fillna(df['start_year'])\n",
    "df"
   ]
  },
  {
   "cell_type": "code",
   "execution_count": 228,
   "metadata": {
    "collapsed": false
   },
   "outputs": [
    {
     "data": {
      "text/html": [
       "<div>\n",
       "<table border=\"1\" class=\"dataframe\">\n",
       "  <thead>\n",
       "    <tr style=\"text-align: right;\">\n",
       "      <th></th>\n",
       "      <th>Team</th>\n",
       "      <th>Executive</th>\n",
       "    </tr>\n",
       "    <tr>\n",
       "      <th>Draft_year</th>\n",
       "      <th></th>\n",
       "      <th></th>\n",
       "    </tr>\n",
       "  </thead>\n",
       "  <tbody>\n",
       "    <tr>\n",
       "      <th>2004</th>\n",
       "      <td>CHH</td>\n",
       "      <td>Bernie Bickerstaff</td>\n",
       "    </tr>\n",
       "    <tr>\n",
       "      <th>2007</th>\n",
       "      <td>CHH</td>\n",
       "      <td>Rod Higgins</td>\n",
       "    </tr>\n",
       "  </tbody>\n",
       "</table>\n",
       "</div>"
      ],
      "text/plain": [
       "           Team           Executive\n",
       "Draft_year                         \n",
       "2004        CHH  Bernie Bickerstaff\n",
       "2007        CHH         Rod Higgins"
      ]
     },
     "execution_count": 228,
     "metadata": {},
     "output_type": "execute_result"
    }
   ],
   "source": [
    "df.set_index('Draft_year')"
   ]
  },
  {
   "cell_type": "code",
   "execution_count": 229,
   "metadata": {
    "collapsed": false
   },
   "outputs": [
    {
     "data": {
      "text/plain": [
       "2004"
      ]
     },
     "execution_count": 229,
     "metadata": {},
     "output_type": "execute_result"
    }
   ],
   "source": [
    "A = int(df.Draft_year[0])\n",
    "A"
   ]
  },
  {
   "cell_type": "code",
   "execution_count": 230,
   "metadata": {
    "collapsed": false
   },
   "outputs": [
    {
     "data": {
      "text/html": [
       "<div>\n",
       "<table border=\"1\" class=\"dataframe\">\n",
       "  <thead>\n",
       "    <tr style=\"text-align: right;\">\n",
       "      <th></th>\n",
       "      <th>Team</th>\n",
       "      <th>Executive</th>\n",
       "    </tr>\n",
       "    <tr>\n",
       "      <th>Draft_year</th>\n",
       "      <th></th>\n",
       "      <th></th>\n",
       "    </tr>\n",
       "  </thead>\n",
       "  <tbody>\n",
       "    <tr>\n",
       "      <th>2004</th>\n",
       "      <td>CHH</td>\n",
       "      <td>Bernie Bickerstaff</td>\n",
       "    </tr>\n",
       "    <tr>\n",
       "      <th>2005</th>\n",
       "      <td>NaN</td>\n",
       "      <td>NaN</td>\n",
       "    </tr>\n",
       "    <tr>\n",
       "      <th>2006</th>\n",
       "      <td>NaN</td>\n",
       "      <td>NaN</td>\n",
       "    </tr>\n",
       "    <tr>\n",
       "      <th>2007</th>\n",
       "      <td>CHH</td>\n",
       "      <td>Rod Higgins</td>\n",
       "    </tr>\n",
       "    <tr>\n",
       "      <th>2008</th>\n",
       "      <td>NaN</td>\n",
       "      <td>NaN</td>\n",
       "    </tr>\n",
       "    <tr>\n",
       "      <th>2009</th>\n",
       "      <td>NaN</td>\n",
       "      <td>NaN</td>\n",
       "    </tr>\n",
       "    <tr>\n",
       "      <th>2010</th>\n",
       "      <td>NaN</td>\n",
       "      <td>NaN</td>\n",
       "    </tr>\n",
       "    <tr>\n",
       "      <th>2011</th>\n",
       "      <td>NaN</td>\n",
       "      <td>NaN</td>\n",
       "    </tr>\n",
       "    <tr>\n",
       "      <th>2012</th>\n",
       "      <td>NaN</td>\n",
       "      <td>NaN</td>\n",
       "    </tr>\n",
       "    <tr>\n",
       "      <th>2013</th>\n",
       "      <td>NaN</td>\n",
       "      <td>NaN</td>\n",
       "    </tr>\n",
       "    <tr>\n",
       "      <th>2014</th>\n",
       "      <td>NaN</td>\n",
       "      <td>NaN</td>\n",
       "    </tr>\n",
       "  </tbody>\n",
       "</table>\n",
       "</div>"
      ],
      "text/plain": [
       "           Team           Executive\n",
       "Draft_year                         \n",
       "2004        CHH  Bernie Bickerstaff\n",
       "2005        NaN                 NaN\n",
       "2006        NaN                 NaN\n",
       "2007        CHH         Rod Higgins\n",
       "2008        NaN                 NaN\n",
       "2009        NaN                 NaN\n",
       "2010        NaN                 NaN\n",
       "2011        NaN                 NaN\n",
       "2012        NaN                 NaN\n",
       "2013        NaN                 NaN\n",
       "2014        NaN                 NaN"
      ]
     },
     "execution_count": 230,
     "metadata": {},
     "output_type": "execute_result"
    }
   ],
   "source": [
    "A = int(df.Draft_year[0])\n",
    "df.set_index('Draft_year').reindex(range(A,2015))"
   ]
  },
  {
   "cell_type": "code",
   "execution_count": 233,
   "metadata": {
    "collapsed": false
   },
   "outputs": [],
   "source": [
    "df = df.set_index('Draft_year').reindex(range(A,2015)).reset_index()"
   ]
  },
  {
   "cell_type": "code",
   "execution_count": 234,
   "metadata": {
    "collapsed": false
   },
   "outputs": [
    {
     "data": {
      "text/html": [
       "<div>\n",
       "<table border=\"1\" class=\"dataframe\">\n",
       "  <thead>\n",
       "    <tr style=\"text-align: right;\">\n",
       "      <th></th>\n",
       "      <th>Draft_year</th>\n",
       "      <th>Team</th>\n",
       "      <th>Executive</th>\n",
       "    </tr>\n",
       "  </thead>\n",
       "  <tbody>\n",
       "    <tr>\n",
       "      <th>0</th>\n",
       "      <td>2004</td>\n",
       "      <td>CHH</td>\n",
       "      <td>Bernie Bickerstaff</td>\n",
       "    </tr>\n",
       "    <tr>\n",
       "      <th>1</th>\n",
       "      <td>2005</td>\n",
       "      <td>NaN</td>\n",
       "      <td>NaN</td>\n",
       "    </tr>\n",
       "    <tr>\n",
       "      <th>2</th>\n",
       "      <td>2006</td>\n",
       "      <td>NaN</td>\n",
       "      <td>NaN</td>\n",
       "    </tr>\n",
       "    <tr>\n",
       "      <th>3</th>\n",
       "      <td>2007</td>\n",
       "      <td>CHH</td>\n",
       "      <td>Rod Higgins</td>\n",
       "    </tr>\n",
       "    <tr>\n",
       "      <th>4</th>\n",
       "      <td>2008</td>\n",
       "      <td>NaN</td>\n",
       "      <td>NaN</td>\n",
       "    </tr>\n",
       "    <tr>\n",
       "      <th>5</th>\n",
       "      <td>2009</td>\n",
       "      <td>NaN</td>\n",
       "      <td>NaN</td>\n",
       "    </tr>\n",
       "    <tr>\n",
       "      <th>6</th>\n",
       "      <td>2010</td>\n",
       "      <td>NaN</td>\n",
       "      <td>NaN</td>\n",
       "    </tr>\n",
       "    <tr>\n",
       "      <th>7</th>\n",
       "      <td>2011</td>\n",
       "      <td>NaN</td>\n",
       "      <td>NaN</td>\n",
       "    </tr>\n",
       "    <tr>\n",
       "      <th>8</th>\n",
       "      <td>2012</td>\n",
       "      <td>NaN</td>\n",
       "      <td>NaN</td>\n",
       "    </tr>\n",
       "    <tr>\n",
       "      <th>9</th>\n",
       "      <td>2013</td>\n",
       "      <td>NaN</td>\n",
       "      <td>NaN</td>\n",
       "    </tr>\n",
       "    <tr>\n",
       "      <th>10</th>\n",
       "      <td>2014</td>\n",
       "      <td>NaN</td>\n",
       "      <td>NaN</td>\n",
       "    </tr>\n",
       "  </tbody>\n",
       "</table>\n",
       "</div>"
      ],
      "text/plain": [
       "    Draft_year Team           Executive\n",
       "0         2004  CHH  Bernie Bickerstaff\n",
       "1         2005  NaN                 NaN\n",
       "2         2006  NaN                 NaN\n",
       "3         2007  CHH         Rod Higgins\n",
       "4         2008  NaN                 NaN\n",
       "5         2009  NaN                 NaN\n",
       "6         2010  NaN                 NaN\n",
       "7         2011  NaN                 NaN\n",
       "8         2012  NaN                 NaN\n",
       "9         2013  NaN                 NaN\n",
       "10        2014  NaN                 NaN"
      ]
     },
     "execution_count": 234,
     "metadata": {},
     "output_type": "execute_result"
    }
   ],
   "source": [
    "df"
   ]
  },
  {
   "cell_type": "code",
   "execution_count": 235,
   "metadata": {
    "collapsed": true
   },
   "outputs": [],
   "source": [
    "col = ['Team', 'Executive']\n",
    "df[col] = df[col].ffill()"
   ]
  },
  {
   "cell_type": "code",
   "execution_count": 236,
   "metadata": {
    "collapsed": false
   },
   "outputs": [
    {
     "data": {
      "text/html": [
       "<div>\n",
       "<table border=\"1\" class=\"dataframe\">\n",
       "  <thead>\n",
       "    <tr style=\"text-align: right;\">\n",
       "      <th></th>\n",
       "      <th>Draft_year</th>\n",
       "      <th>Team</th>\n",
       "      <th>Executive</th>\n",
       "    </tr>\n",
       "  </thead>\n",
       "  <tbody>\n",
       "    <tr>\n",
       "      <th>0</th>\n",
       "      <td>2004</td>\n",
       "      <td>CHH</td>\n",
       "      <td>Bernie Bickerstaff</td>\n",
       "    </tr>\n",
       "    <tr>\n",
       "      <th>1</th>\n",
       "      <td>2005</td>\n",
       "      <td>CHH</td>\n",
       "      <td>Bernie Bickerstaff</td>\n",
       "    </tr>\n",
       "    <tr>\n",
       "      <th>2</th>\n",
       "      <td>2006</td>\n",
       "      <td>CHH</td>\n",
       "      <td>Bernie Bickerstaff</td>\n",
       "    </tr>\n",
       "    <tr>\n",
       "      <th>3</th>\n",
       "      <td>2007</td>\n",
       "      <td>CHH</td>\n",
       "      <td>Rod Higgins</td>\n",
       "    </tr>\n",
       "    <tr>\n",
       "      <th>4</th>\n",
       "      <td>2008</td>\n",
       "      <td>CHH</td>\n",
       "      <td>Rod Higgins</td>\n",
       "    </tr>\n",
       "    <tr>\n",
       "      <th>5</th>\n",
       "      <td>2009</td>\n",
       "      <td>CHH</td>\n",
       "      <td>Rod Higgins</td>\n",
       "    </tr>\n",
       "    <tr>\n",
       "      <th>6</th>\n",
       "      <td>2010</td>\n",
       "      <td>CHH</td>\n",
       "      <td>Rod Higgins</td>\n",
       "    </tr>\n",
       "    <tr>\n",
       "      <th>7</th>\n",
       "      <td>2011</td>\n",
       "      <td>CHH</td>\n",
       "      <td>Rod Higgins</td>\n",
       "    </tr>\n",
       "    <tr>\n",
       "      <th>8</th>\n",
       "      <td>2012</td>\n",
       "      <td>CHH</td>\n",
       "      <td>Rod Higgins</td>\n",
       "    </tr>\n",
       "    <tr>\n",
       "      <th>9</th>\n",
       "      <td>2013</td>\n",
       "      <td>CHH</td>\n",
       "      <td>Rod Higgins</td>\n",
       "    </tr>\n",
       "    <tr>\n",
       "      <th>10</th>\n",
       "      <td>2014</td>\n",
       "      <td>CHH</td>\n",
       "      <td>Rod Higgins</td>\n",
       "    </tr>\n",
       "  </tbody>\n",
       "</table>\n",
       "</div>"
      ],
      "text/plain": [
       "    Draft_year Team           Executive\n",
       "0         2004  CHH  Bernie Bickerstaff\n",
       "1         2005  CHH  Bernie Bickerstaff\n",
       "2         2006  CHH  Bernie Bickerstaff\n",
       "3         2007  CHH         Rod Higgins\n",
       "4         2008  CHH         Rod Higgins\n",
       "5         2009  CHH         Rod Higgins\n",
       "6         2010  CHH         Rod Higgins\n",
       "7         2011  CHH         Rod Higgins\n",
       "8         2012  CHH         Rod Higgins\n",
       "9         2013  CHH         Rod Higgins\n",
       "10        2014  CHH         Rod Higgins"
      ]
     },
     "execution_count": 236,
     "metadata": {},
     "output_type": "execute_result"
    }
   ],
   "source": [
    "df"
   ]
  },
  {
   "cell_type": "code",
   "execution_count": 196,
   "metadata": {
    "collapsed": false
   },
   "outputs": [
    {
     "data": {
      "text/html": [
       "<div>\n",
       "<table border=\"1\" class=\"dataframe\">\n",
       "  <thead>\n",
       "    <tr style=\"text-align: right;\">\n",
       "      <th></th>\n",
       "      <th>Team</th>\n",
       "      <th>Executive</th>\n",
       "      <th>Draft_year</th>\n",
       "    </tr>\n",
       "  </thead>\n",
       "  <tbody>\n",
       "    <tr>\n",
       "      <th>1</th>\n",
       "      <td>CHH</td>\n",
       "      <td>Rod Higgins</td>\n",
       "      <td>2007</td>\n",
       "    </tr>\n",
       "  </tbody>\n",
       "</table>\n",
       "</div>"
      ],
      "text/plain": [
       "  Team    Executive  Draft_year\n",
       "1  CHH  Rod Higgins        2007"
      ]
     },
     "execution_count": 196,
     "metadata": {},
     "output_type": "execute_result"
    }
   ],
   "source": [
    "df = df[df.Draft_year >= 2005]\n",
    "df"
   ]
  },
  {
   "cell_type": "code",
   "execution_count": 2,
   "metadata": {
    "collapsed": false
   },
   "outputs": [
    {
     "data": {
      "text/html": [
       "<div>\n",
       "<table border=\"1\" class=\"dataframe\">\n",
       "  <thead>\n",
       "    <tr style=\"text-align: right;\">\n",
       "      <th></th>\n",
       "      <th>Player1</th>\n",
       "      <th>Player2</th>\n",
       "    </tr>\n",
       "  </thead>\n",
       "  <tbody>\n",
       "    <tr>\n",
       "      <th>0</th>\n",
       "      <td>Dwight Howard</td>\n",
       "      <td>Pau Gasol</td>\n",
       "    </tr>\n",
       "    <tr>\n",
       "      <th>1</th>\n",
       "      <td>Pau Gasol</td>\n",
       "      <td>Lebron James</td>\n",
       "    </tr>\n",
       "    <tr>\n",
       "      <th>2</th>\n",
       "      <td>Pau Gasol</td>\n",
       "      <td>Kevin Durant</td>\n",
       "    </tr>\n",
       "    <tr>\n",
       "      <th>3</th>\n",
       "      <td>Lebron James</td>\n",
       "      <td>James Harden</td>\n",
       "    </tr>\n",
       "  </tbody>\n",
       "</table>\n",
       "</div>"
      ],
      "text/plain": [
       "         Player1       Player2\n",
       "0  Dwight Howard     Pau Gasol\n",
       "1      Pau Gasol  Lebron James\n",
       "2      Pau Gasol  Kevin Durant\n",
       "3   Lebron James  James Harden"
      ]
     },
     "execution_count": 2,
     "metadata": {},
     "output_type": "execute_result"
    }
   ],
   "source": [
    "import pandas as pd\n",
    "data = {'Player1':['Dwight Howard', 'Pau Gasol', 'Pau Gasol', \n",
    "                 'Lebron James'], 'Player2':['Pau Gasol',\n",
    "                                           'Lebron James',\n",
    "                                           'Kevin Durant',\n",
    "                                           'James Harden']}\n",
    "df = pd.DataFrame(data)\n",
    "df"
   ]
  },
  {
   "cell_type": "code",
   "execution_count": 6,
   "metadata": {
    "collapsed": false
   },
   "outputs": [
    {
     "data": {
      "text/html": [
       "<div>\n",
       "<table border=\"1\" class=\"dataframe\">\n",
       "  <thead>\n",
       "    <tr style=\"text-align: right;\">\n",
       "      <th></th>\n",
       "      <th></th>\n",
       "      <th>0</th>\n",
       "    </tr>\n",
       "  </thead>\n",
       "  <tbody>\n",
       "    <tr>\n",
       "      <th rowspan=\"2\" valign=\"top\">0</th>\n",
       "      <th>Player1</th>\n",
       "      <td>Dwight Howard</td>\n",
       "    </tr>\n",
       "    <tr>\n",
       "      <th>Player2</th>\n",
       "      <td>Pau Gasol</td>\n",
       "    </tr>\n",
       "    <tr>\n",
       "      <th rowspan=\"2\" valign=\"top\">1</th>\n",
       "      <th>Player1</th>\n",
       "      <td>Pau Gasol</td>\n",
       "    </tr>\n",
       "    <tr>\n",
       "      <th>Player2</th>\n",
       "      <td>Lebron James</td>\n",
       "    </tr>\n",
       "    <tr>\n",
       "      <th rowspan=\"2\" valign=\"top\">2</th>\n",
       "      <th>Player1</th>\n",
       "      <td>Pau Gasol</td>\n",
       "    </tr>\n",
       "    <tr>\n",
       "      <th>Player2</th>\n",
       "      <td>Kevin Durant</td>\n",
       "    </tr>\n",
       "    <tr>\n",
       "      <th rowspan=\"2\" valign=\"top\">3</th>\n",
       "      <th>Player1</th>\n",
       "      <td>Lebron James</td>\n",
       "    </tr>\n",
       "    <tr>\n",
       "      <th>Player2</th>\n",
       "      <td>James Harden</td>\n",
       "    </tr>\n",
       "  </tbody>\n",
       "</table>\n",
       "</div>"
      ],
      "text/plain": [
       "                       0\n",
       "0 Player1  Dwight Howard\n",
       "  Player2      Pau Gasol\n",
       "1 Player1      Pau Gasol\n",
       "  Player2   Lebron James\n",
       "2 Player1      Pau Gasol\n",
       "  Player2   Kevin Durant\n",
       "3 Player1   Lebron James\n",
       "  Player2   James Harden"
      ]
     },
     "execution_count": 6,
     "metadata": {},
     "output_type": "execute_result"
    }
   ],
   "source": [
    "stacked = pd.DataFrame(df.stack())\n",
    "stacked"
   ]
  },
  {
   "cell_type": "code",
   "execution_count": 21,
   "metadata": {
    "collapsed": false
   },
   "outputs": [
    {
     "data": {
      "text/html": [
       "<div>\n",
       "<table border=\"1\" class=\"dataframe\">\n",
       "  <thead>\n",
       "    <tr style=\"text-align: right;\">\n",
       "      <th></th>\n",
       "      <th>0</th>\n",
       "    </tr>\n",
       "  </thead>\n",
       "  <tbody>\n",
       "    <tr>\n",
       "      <th>Pau Gasol</th>\n",
       "      <td>3</td>\n",
       "    </tr>\n",
       "    <tr>\n",
       "      <th>Lebron James</th>\n",
       "      <td>2</td>\n",
       "    </tr>\n",
       "    <tr>\n",
       "      <th>Kevin Durant</th>\n",
       "      <td>1</td>\n",
       "    </tr>\n",
       "    <tr>\n",
       "      <th>James Harden</th>\n",
       "      <td>1</td>\n",
       "    </tr>\n",
       "    <tr>\n",
       "      <th>Dwight Howard</th>\n",
       "      <td>1</td>\n",
       "    </tr>\n",
       "  </tbody>\n",
       "</table>\n",
       "</div>"
      ],
      "text/plain": [
       "               0\n",
       "Pau Gasol      3\n",
       "Lebron James   2\n",
       "Kevin Durant   1\n",
       "James Harden   1\n",
       "Dwight Howard  1"
      ]
     },
     "execution_count": 21,
     "metadata": {},
     "output_type": "execute_result"
    }
   ],
   "source": [
    "df_final = pd.DataFrame(stacked[0].value_counts())\n",
    "df_final"
   ]
  },
  {
   "cell_type": "code",
   "execution_count": 22,
   "metadata": {
    "collapsed": false
   },
   "outputs": [
    {
     "data": {
      "text/html": [
       "<div>\n",
       "<table border=\"1\" class=\"dataframe\">\n",
       "  <thead>\n",
       "    <tr style=\"text-align: right;\">\n",
       "      <th></th>\n",
       "      <th>0</th>\n",
       "      <th>Player</th>\n",
       "    </tr>\n",
       "  </thead>\n",
       "  <tbody>\n",
       "    <tr>\n",
       "      <th>Pau Gasol</th>\n",
       "      <td>3</td>\n",
       "      <td>Pau Gasol</td>\n",
       "    </tr>\n",
       "    <tr>\n",
       "      <th>Lebron James</th>\n",
       "      <td>2</td>\n",
       "      <td>Lebron James</td>\n",
       "    </tr>\n",
       "    <tr>\n",
       "      <th>Kevin Durant</th>\n",
       "      <td>1</td>\n",
       "      <td>Kevin Durant</td>\n",
       "    </tr>\n",
       "    <tr>\n",
       "      <th>James Harden</th>\n",
       "      <td>1</td>\n",
       "      <td>James Harden</td>\n",
       "    </tr>\n",
       "    <tr>\n",
       "      <th>Dwight Howard</th>\n",
       "      <td>1</td>\n",
       "      <td>Dwight Howard</td>\n",
       "    </tr>\n",
       "  </tbody>\n",
       "</table>\n",
       "</div>"
      ],
      "text/plain": [
       "               0         Player\n",
       "Pau Gasol      3      Pau Gasol\n",
       "Lebron James   2   Lebron James\n",
       "Kevin Durant   1   Kevin Durant\n",
       "James Harden   1   James Harden\n",
       "Dwight Howard  1  Dwight Howard"
      ]
     },
     "execution_count": 22,
     "metadata": {},
     "output_type": "execute_result"
    }
   ],
   "source": [
    "df_final['Player'] = df_final.index\n",
    "df_final"
   ]
  },
  {
   "cell_type": "code",
   "execution_count": 23,
   "metadata": {
    "collapsed": false
   },
   "outputs": [
    {
     "data": {
      "text/html": [
       "<div>\n",
       "<table border=\"1\" class=\"dataframe\">\n",
       "  <thead>\n",
       "    <tr style=\"text-align: right;\">\n",
       "      <th></th>\n",
       "      <th>index</th>\n",
       "      <th>0</th>\n",
       "      <th>Player</th>\n",
       "    </tr>\n",
       "  </thead>\n",
       "  <tbody>\n",
       "    <tr>\n",
       "      <th>0</th>\n",
       "      <td>Pau Gasol</td>\n",
       "      <td>3</td>\n",
       "      <td>Pau Gasol</td>\n",
       "    </tr>\n",
       "    <tr>\n",
       "      <th>1</th>\n",
       "      <td>Lebron James</td>\n",
       "      <td>2</td>\n",
       "      <td>Lebron James</td>\n",
       "    </tr>\n",
       "    <tr>\n",
       "      <th>2</th>\n",
       "      <td>Kevin Durant</td>\n",
       "      <td>1</td>\n",
       "      <td>Kevin Durant</td>\n",
       "    </tr>\n",
       "    <tr>\n",
       "      <th>3</th>\n",
       "      <td>James Harden</td>\n",
       "      <td>1</td>\n",
       "      <td>James Harden</td>\n",
       "    </tr>\n",
       "    <tr>\n",
       "      <th>4</th>\n",
       "      <td>Dwight Howard</td>\n",
       "      <td>1</td>\n",
       "      <td>Dwight Howard</td>\n",
       "    </tr>\n",
       "  </tbody>\n",
       "</table>\n",
       "</div>"
      ],
      "text/plain": [
       "           index  0         Player\n",
       "0      Pau Gasol  3      Pau Gasol\n",
       "1   Lebron James  2   Lebron James\n",
       "2   Kevin Durant  1   Kevin Durant\n",
       "3   James Harden  1   James Harden\n",
       "4  Dwight Howard  1  Dwight Howard"
      ]
     },
     "execution_count": 23,
     "metadata": {},
     "output_type": "execute_result"
    }
   ],
   "source": [
    "df_final.reset_index(level=0, inplace=True)\n",
    "df_final"
   ]
  },
  {
   "cell_type": "code",
   "execution_count": 18,
   "metadata": {
    "collapsed": false
   },
   "outputs": [
    {
     "data": {
      "text/html": [
       "<div>\n",
       "<table border=\"1\" class=\"dataframe\">\n",
       "  <thead>\n",
       "    <tr style=\"text-align: right;\">\n",
       "      <th></th>\n",
       "      <th>0</th>\n",
       "    </tr>\n",
       "  </thead>\n",
       "  <tbody>\n",
       "    <tr>\n",
       "      <th>Pau Gasol</th>\n",
       "      <td>3</td>\n",
       "    </tr>\n",
       "    <tr>\n",
       "      <th>Lebron James</th>\n",
       "      <td>2</td>\n",
       "    </tr>\n",
       "    <tr>\n",
       "      <th>Kevin Durant</th>\n",
       "      <td>1</td>\n",
       "    </tr>\n",
       "    <tr>\n",
       "      <th>James Harden</th>\n",
       "      <td>1</td>\n",
       "    </tr>\n",
       "    <tr>\n",
       "      <th>Dwight Howard</th>\n",
       "      <td>1</td>\n",
       "    </tr>\n",
       "  </tbody>\n",
       "</table>\n",
       "</div>"
      ],
      "text/plain": [
       "               0\n",
       "Pau Gasol      3\n",
       "Lebron James   2\n",
       "Kevin Durant   1\n",
       "James Harden   1\n",
       "Dwight Howard  1"
      ]
     },
     "execution_count": 18,
     "metadata": {},
     "output_type": "execute_result"
    }
   ],
   "source": [
    "df_final.reindex(range(0,A)).reset_index()\n",
    "df_final"
   ]
  },
  {
   "cell_type": "code",
   "execution_count": 19,
   "metadata": {
    "collapsed": false
   },
   "outputs": [
    {
     "ename": "KeyError",
     "evalue": "'Player'",
     "output_type": "error",
     "traceback": [
      "\u001b[0;31m---------------------------------------------------------------------------\u001b[0m",
      "\u001b[0;31mKeyError\u001b[0m                                  Traceback (most recent call last)",
      "\u001b[0;32m<ipython-input-19-ba01a96c5db0>\u001b[0m in \u001b[0;36m<module>\u001b[0;34m()\u001b[0m\n\u001b[0;32m----> 1\u001b[0;31m \u001b[0mdf_final\u001b[0m\u001b[0;34m.\u001b[0m\u001b[0mset_index\u001b[0m\u001b[0;34m(\u001b[0m\u001b[0;34m'Player'\u001b[0m\u001b[0;34m)\u001b[0m\u001b[0;34m\u001b[0m\u001b[0m\n\u001b[0m\u001b[1;32m      2\u001b[0m \u001b[0mdf_final\u001b[0m\u001b[0;34m\u001b[0m\u001b[0m\n",
      "\u001b[0;32m/Users/rorypulvino/anaconda/lib/python2.7/site-packages/pandas/core/frame.pyc\u001b[0m in \u001b[0;36mset_index\u001b[0;34m(self, keys, drop, append, inplace, verify_integrity)\u001b[0m\n\u001b[1;32m   2778\u001b[0m                 \u001b[0mnames\u001b[0m\u001b[0;34m.\u001b[0m\u001b[0mappend\u001b[0m\u001b[0;34m(\u001b[0m\u001b[0mNone\u001b[0m\u001b[0;34m)\u001b[0m\u001b[0;34m\u001b[0m\u001b[0m\n\u001b[1;32m   2779\u001b[0m             \u001b[0;32melse\u001b[0m\u001b[0;34m:\u001b[0m\u001b[0;34m\u001b[0m\u001b[0m\n\u001b[0;32m-> 2780\u001b[0;31m                 \u001b[0mlevel\u001b[0m \u001b[0;34m=\u001b[0m \u001b[0mframe\u001b[0m\u001b[0;34m[\u001b[0m\u001b[0mcol\u001b[0m\u001b[0;34m]\u001b[0m\u001b[0;34m.\u001b[0m\u001b[0m_values\u001b[0m\u001b[0;34m\u001b[0m\u001b[0m\n\u001b[0m\u001b[1;32m   2781\u001b[0m                 \u001b[0mnames\u001b[0m\u001b[0;34m.\u001b[0m\u001b[0mappend\u001b[0m\u001b[0;34m(\u001b[0m\u001b[0mcol\u001b[0m\u001b[0;34m)\u001b[0m\u001b[0;34m\u001b[0m\u001b[0m\n\u001b[1;32m   2782\u001b[0m                 \u001b[0;32mif\u001b[0m \u001b[0mdrop\u001b[0m\u001b[0;34m:\u001b[0m\u001b[0;34m\u001b[0m\u001b[0m\n",
      "\u001b[0;32m/Users/rorypulvino/anaconda/lib/python2.7/site-packages/pandas/core/frame.pyc\u001b[0m in \u001b[0;36m__getitem__\u001b[0;34m(self, key)\u001b[0m\n\u001b[1;32m   1967\u001b[0m             \u001b[0;32mreturn\u001b[0m \u001b[0mself\u001b[0m\u001b[0;34m.\u001b[0m\u001b[0m_getitem_multilevel\u001b[0m\u001b[0;34m(\u001b[0m\u001b[0mkey\u001b[0m\u001b[0;34m)\u001b[0m\u001b[0;34m\u001b[0m\u001b[0m\n\u001b[1;32m   1968\u001b[0m         \u001b[0;32melse\u001b[0m\u001b[0;34m:\u001b[0m\u001b[0;34m\u001b[0m\u001b[0m\n\u001b[0;32m-> 1969\u001b[0;31m             \u001b[0;32mreturn\u001b[0m \u001b[0mself\u001b[0m\u001b[0;34m.\u001b[0m\u001b[0m_getitem_column\u001b[0m\u001b[0;34m(\u001b[0m\u001b[0mkey\u001b[0m\u001b[0;34m)\u001b[0m\u001b[0;34m\u001b[0m\u001b[0m\n\u001b[0m\u001b[1;32m   1970\u001b[0m \u001b[0;34m\u001b[0m\u001b[0m\n\u001b[1;32m   1971\u001b[0m     \u001b[0;32mdef\u001b[0m \u001b[0m_getitem_column\u001b[0m\u001b[0;34m(\u001b[0m\u001b[0mself\u001b[0m\u001b[0;34m,\u001b[0m \u001b[0mkey\u001b[0m\u001b[0;34m)\u001b[0m\u001b[0;34m:\u001b[0m\u001b[0;34m\u001b[0m\u001b[0m\n",
      "\u001b[0;32m/Users/rorypulvino/anaconda/lib/python2.7/site-packages/pandas/core/frame.pyc\u001b[0m in \u001b[0;36m_getitem_column\u001b[0;34m(self, key)\u001b[0m\n\u001b[1;32m   1974\u001b[0m         \u001b[0;31m# get column\u001b[0m\u001b[0;34m\u001b[0m\u001b[0;34m\u001b[0m\u001b[0m\n\u001b[1;32m   1975\u001b[0m         \u001b[0;32mif\u001b[0m \u001b[0mself\u001b[0m\u001b[0;34m.\u001b[0m\u001b[0mcolumns\u001b[0m\u001b[0;34m.\u001b[0m\u001b[0mis_unique\u001b[0m\u001b[0;34m:\u001b[0m\u001b[0;34m\u001b[0m\u001b[0m\n\u001b[0;32m-> 1976\u001b[0;31m             \u001b[0;32mreturn\u001b[0m \u001b[0mself\u001b[0m\u001b[0;34m.\u001b[0m\u001b[0m_get_item_cache\u001b[0m\u001b[0;34m(\u001b[0m\u001b[0mkey\u001b[0m\u001b[0;34m)\u001b[0m\u001b[0;34m\u001b[0m\u001b[0m\n\u001b[0m\u001b[1;32m   1977\u001b[0m \u001b[0;34m\u001b[0m\u001b[0m\n\u001b[1;32m   1978\u001b[0m         \u001b[0;31m# duplicate columns & possible reduce dimensionality\u001b[0m\u001b[0;34m\u001b[0m\u001b[0;34m\u001b[0m\u001b[0m\n",
      "\u001b[0;32m/Users/rorypulvino/anaconda/lib/python2.7/site-packages/pandas/core/generic.pyc\u001b[0m in \u001b[0;36m_get_item_cache\u001b[0;34m(self, item)\u001b[0m\n\u001b[1;32m   1089\u001b[0m         \u001b[0mres\u001b[0m \u001b[0;34m=\u001b[0m \u001b[0mcache\u001b[0m\u001b[0;34m.\u001b[0m\u001b[0mget\u001b[0m\u001b[0;34m(\u001b[0m\u001b[0mitem\u001b[0m\u001b[0;34m)\u001b[0m\u001b[0;34m\u001b[0m\u001b[0m\n\u001b[1;32m   1090\u001b[0m         \u001b[0;32mif\u001b[0m \u001b[0mres\u001b[0m \u001b[0;32mis\u001b[0m \u001b[0mNone\u001b[0m\u001b[0;34m:\u001b[0m\u001b[0;34m\u001b[0m\u001b[0m\n\u001b[0;32m-> 1091\u001b[0;31m             \u001b[0mvalues\u001b[0m \u001b[0;34m=\u001b[0m \u001b[0mself\u001b[0m\u001b[0;34m.\u001b[0m\u001b[0m_data\u001b[0m\u001b[0;34m.\u001b[0m\u001b[0mget\u001b[0m\u001b[0;34m(\u001b[0m\u001b[0mitem\u001b[0m\u001b[0;34m)\u001b[0m\u001b[0;34m\u001b[0m\u001b[0m\n\u001b[0m\u001b[1;32m   1092\u001b[0m             \u001b[0mres\u001b[0m \u001b[0;34m=\u001b[0m \u001b[0mself\u001b[0m\u001b[0;34m.\u001b[0m\u001b[0m_box_item_values\u001b[0m\u001b[0;34m(\u001b[0m\u001b[0mitem\u001b[0m\u001b[0;34m,\u001b[0m \u001b[0mvalues\u001b[0m\u001b[0;34m)\u001b[0m\u001b[0;34m\u001b[0m\u001b[0m\n\u001b[1;32m   1093\u001b[0m             \u001b[0mcache\u001b[0m\u001b[0;34m[\u001b[0m\u001b[0mitem\u001b[0m\u001b[0;34m]\u001b[0m \u001b[0;34m=\u001b[0m \u001b[0mres\u001b[0m\u001b[0;34m\u001b[0m\u001b[0m\n",
      "\u001b[0;32m/Users/rorypulvino/anaconda/lib/python2.7/site-packages/pandas/core/internals.pyc\u001b[0m in \u001b[0;36mget\u001b[0;34m(self, item, fastpath)\u001b[0m\n\u001b[1;32m   3209\u001b[0m \u001b[0;34m\u001b[0m\u001b[0m\n\u001b[1;32m   3210\u001b[0m             \u001b[0;32mif\u001b[0m \u001b[0;32mnot\u001b[0m \u001b[0misnull\u001b[0m\u001b[0;34m(\u001b[0m\u001b[0mitem\u001b[0m\u001b[0;34m)\u001b[0m\u001b[0;34m:\u001b[0m\u001b[0;34m\u001b[0m\u001b[0m\n\u001b[0;32m-> 3211\u001b[0;31m                 \u001b[0mloc\u001b[0m \u001b[0;34m=\u001b[0m \u001b[0mself\u001b[0m\u001b[0;34m.\u001b[0m\u001b[0mitems\u001b[0m\u001b[0;34m.\u001b[0m\u001b[0mget_loc\u001b[0m\u001b[0;34m(\u001b[0m\u001b[0mitem\u001b[0m\u001b[0;34m)\u001b[0m\u001b[0;34m\u001b[0m\u001b[0m\n\u001b[0m\u001b[1;32m   3212\u001b[0m             \u001b[0;32melse\u001b[0m\u001b[0;34m:\u001b[0m\u001b[0;34m\u001b[0m\u001b[0m\n\u001b[1;32m   3213\u001b[0m                 \u001b[0mindexer\u001b[0m \u001b[0;34m=\u001b[0m \u001b[0mnp\u001b[0m\u001b[0;34m.\u001b[0m\u001b[0marange\u001b[0m\u001b[0;34m(\u001b[0m\u001b[0mlen\u001b[0m\u001b[0;34m(\u001b[0m\u001b[0mself\u001b[0m\u001b[0;34m.\u001b[0m\u001b[0mitems\u001b[0m\u001b[0;34m)\u001b[0m\u001b[0;34m)\u001b[0m\u001b[0;34m[\u001b[0m\u001b[0misnull\u001b[0m\u001b[0;34m(\u001b[0m\u001b[0mself\u001b[0m\u001b[0;34m.\u001b[0m\u001b[0mitems\u001b[0m\u001b[0;34m)\u001b[0m\u001b[0;34m]\u001b[0m\u001b[0;34m\u001b[0m\u001b[0m\n",
      "\u001b[0;32m/Users/rorypulvino/anaconda/lib/python2.7/site-packages/pandas/core/index.pyc\u001b[0m in \u001b[0;36mget_loc\u001b[0;34m(self, key, method, tolerance)\u001b[0m\n\u001b[1;32m   1757\u001b[0m                                  'backfill or nearest lookups')\n\u001b[1;32m   1758\u001b[0m             \u001b[0mkey\u001b[0m \u001b[0;34m=\u001b[0m \u001b[0m_values_from_object\u001b[0m\u001b[0;34m(\u001b[0m\u001b[0mkey\u001b[0m\u001b[0;34m)\u001b[0m\u001b[0;34m\u001b[0m\u001b[0m\n\u001b[0;32m-> 1759\u001b[0;31m             \u001b[0;32mreturn\u001b[0m \u001b[0mself\u001b[0m\u001b[0;34m.\u001b[0m\u001b[0m_engine\u001b[0m\u001b[0;34m.\u001b[0m\u001b[0mget_loc\u001b[0m\u001b[0;34m(\u001b[0m\u001b[0mkey\u001b[0m\u001b[0;34m)\u001b[0m\u001b[0;34m\u001b[0m\u001b[0m\n\u001b[0m\u001b[1;32m   1760\u001b[0m \u001b[0;34m\u001b[0m\u001b[0m\n\u001b[1;32m   1761\u001b[0m         indexer = self.get_indexer([key], method=method,\n",
      "\u001b[0;32mpandas/index.pyx\u001b[0m in \u001b[0;36mpandas.index.IndexEngine.get_loc (pandas/index.c:3979)\u001b[0;34m()\u001b[0m\n",
      "\u001b[0;32mpandas/index.pyx\u001b[0m in \u001b[0;36mpandas.index.IndexEngine.get_loc (pandas/index.c:3908)\u001b[0;34m()\u001b[0m\n",
      "\u001b[0;31mKeyError\u001b[0m: 'Player'"
     ]
    }
   ],
   "source": [
    "df_final.set_index('Player')\n",
    "df_final"
   ]
  },
  {
   "cell_type": "code",
   "execution_count": null,
   "metadata": {
    "collapsed": true
   },
   "outputs": [],
   "source": []
  }
 ],
 "metadata": {
  "kernelspec": {
   "display_name": "Python 2",
   "language": "python",
   "name": "python2"
  },
  "language_info": {
   "codemirror_mode": {
    "name": "ipython",
    "version": 2
   },
   "file_extension": ".py",
   "mimetype": "text/x-python",
   "name": "python",
   "nbconvert_exporter": "python",
   "pygments_lexer": "ipython2",
   "version": "2.7.12"
  }
 },
 "nbformat": 4,
 "nbformat_minor": 0
}
