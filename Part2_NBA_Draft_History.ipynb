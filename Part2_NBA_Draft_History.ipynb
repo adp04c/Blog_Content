{
 "cells": [
  {
   "cell_type": "markdown",
   "metadata": {},
   "source": [
    "# Part 2\n",
    "Having scraped a DataFrame for a single draft year, I'm now looking to do the same for all draft years from 1976 through 2015. To do this I'll still be following this [blog's][1] basic outline, though I expect to have to make significant deviations. The blog also provides a lot more explanation of what exactly Python is doing. After that, I'll merge the DataFrames and move on to scraping data of the players' career accomplishments (all-star appearances, all-NBA teams, etc.) and GM's and coaches of the teams to add to the DataFrame. Finally, I'll actually be able to analyze how draft position is related to player quality and look at which GM's and coaches beat expectations.\n",
    "[1]: http://savvastjortjoglou.com/nba-draft-part01-scraping.html"
   ]
  },
  {
   "cell_type": "code",
   "execution_count": 1,
   "metadata": {
    "collapsed": true
   },
   "outputs": [],
   "source": [
    "# Standard imports \n",
    "import pandas as pd\n",
    "from pandas import Series,DataFrame,read_html\n",
    "import numpy as np\n",
    "\n",
    "from bs4 import BeautifulSoup\n",
    "import html5lib"
   ]
  },
  {
   "cell_type": "markdown",
   "metadata": {},
   "source": [
    "## Building the loop\n",
    "The next part of this project requires a hopefully simple loop to go through the NBA drafts, apply the steps from Part 1, and combine the completed DataFrames into a single large DataFrame."
   ]
  },
  {
   "cell_type": "code",
   "execution_count": 2,
   "metadata": {
    "collapsed": true
   },
   "outputs": [],
   "source": [
    "# start by creating a url template to use in the loop\n",
    "url_template = \"http://www.basketball-reference.com/draft/NBA_{year}.html\""
   ]
  },
  {
   "cell_type": "code",
   "execution_count": 3,
   "metadata": {
    "collapsed": true
   },
   "outputs": [],
   "source": [
    "# create an empty DataFrame to append each draft year DataFrame to\n",
    "draft_dframe = DataFrame()"
   ]
  },
  {
   "cell_type": "code",
   "execution_count": 4,
   "metadata": {
    "collapsed": false
   },
   "outputs": [],
   "source": [
    "for year in range(1976, 2016): # Will build the DataFrame for each year of interest\n",
    "    url = url_template.format(year = year) # Grabbing the correct url\n",
    "    \n",
    "    dframe_list_year = pd.io.html.read_html(url)\n",
    "    dframe_year = dframe_list_year[0]\n",
    "    \n",
    "    # Dropping the NaN filled columns\n",
    "    dframe_year.drop(dframe_year.columns[[0,22,23,24,25,26,27,28,29,30]],inplace=True,axis=1)\n",
    "    \n",
    "    # Renaming the columns\n",
    "    column_names = ['Pk','Team','Player','College','Yrs','Games','Minutes Played','PTS','TRB','AST','FG_Percentage','TP_Percentage','FT_Percentage','Minutes per Game','Points per Game','TRB per game','Assits per Game','Win Share','WS_per_game','BPM','VORP']\n",
    "    dframe_year.columns = column_names\n",
    "    \n",
    "    # Add in a column for the draft year\n",
    "    dframe_year.insert(0, 'Draft_Yr', year)\n",
    "    \n",
    "    # Append to the big DataFrame\n",
    "    draft_dframe = draft_dframe.append(dframe_year, ignore_index=True)\n"
   ]
  },
  {
   "cell_type": "code",
   "execution_count": 6,
   "metadata": {
    "collapsed": false
   },
   "outputs": [
    {
     "data": {
      "text/html": [
       "<div>\n",
       "<table border=\"1\" class=\"dataframe\">\n",
       "  <thead>\n",
       "    <tr style=\"text-align: right;\">\n",
       "      <th></th>\n",
       "      <th>Draft_Yr</th>\n",
       "      <th>Pk</th>\n",
       "      <th>Team</th>\n",
       "      <th>Player</th>\n",
       "      <th>College</th>\n",
       "      <th>Yrs</th>\n",
       "      <th>Games</th>\n",
       "      <th>Minutes Played</th>\n",
       "      <th>PTS</th>\n",
       "      <th>TRB</th>\n",
       "      <th>...</th>\n",
       "      <th>TP_Percentage</th>\n",
       "      <th>FT_Percentage</th>\n",
       "      <th>Minutes per Game</th>\n",
       "      <th>Points per Game</th>\n",
       "      <th>TRB per game</th>\n",
       "      <th>Assits per Game</th>\n",
       "      <th>Win Share</th>\n",
       "      <th>WS_per_game</th>\n",
       "      <th>BPM</th>\n",
       "      <th>VORP</th>\n",
       "    </tr>\n",
       "  </thead>\n",
       "  <tbody>\n",
       "    <tr>\n",
       "      <th>0</th>\n",
       "      <td>1976</td>\n",
       "      <td>1</td>\n",
       "      <td>HOU</td>\n",
       "      <td>John Lucas</td>\n",
       "      <td>University of Maryland</td>\n",
       "      <td>14</td>\n",
       "      <td>928</td>\n",
       "      <td>25556</td>\n",
       "      <td>9951</td>\n",
       "      <td>2151</td>\n",
       "      <td>...</td>\n",
       "      <td>.303</td>\n",
       "      <td>.776</td>\n",
       "      <td>27.5</td>\n",
       "      <td>10.7</td>\n",
       "      <td>2.3</td>\n",
       "      <td>7.0</td>\n",
       "      <td>53.7</td>\n",
       "      <td>.101</td>\n",
       "      <td>-0.4</td>\n",
       "      <td>10.3</td>\n",
       "    </tr>\n",
       "    <tr>\n",
       "      <th>1</th>\n",
       "      <td>1976</td>\n",
       "      <td>2</td>\n",
       "      <td>CHI</td>\n",
       "      <td>Scott May</td>\n",
       "      <td>Indiana University</td>\n",
       "      <td>7</td>\n",
       "      <td>355</td>\n",
       "      <td>8029</td>\n",
       "      <td>3690</td>\n",
       "      <td>1450</td>\n",
       "      <td>...</td>\n",
       "      <td>.000</td>\n",
       "      <td>.811</td>\n",
       "      <td>22.6</td>\n",
       "      <td>10.4</td>\n",
       "      <td>4.1</td>\n",
       "      <td>1.7</td>\n",
       "      <td>17.4</td>\n",
       "      <td>.104</td>\n",
       "      <td>-1.0</td>\n",
       "      <td>2.0</td>\n",
       "    </tr>\n",
       "    <tr>\n",
       "      <th>2</th>\n",
       "      <td>1976</td>\n",
       "      <td>3</td>\n",
       "      <td>KCK</td>\n",
       "      <td>Richard Washington</td>\n",
       "      <td>University of California, Los Angeles</td>\n",
       "      <td>6</td>\n",
       "      <td>351</td>\n",
       "      <td>7874</td>\n",
       "      <td>3456</td>\n",
       "      <td>2204</td>\n",
       "      <td>...</td>\n",
       "      <td>.250</td>\n",
       "      <td>.711</td>\n",
       "      <td>22.4</td>\n",
       "      <td>9.8</td>\n",
       "      <td>6.3</td>\n",
       "      <td>1.2</td>\n",
       "      <td>10.8</td>\n",
       "      <td>.066</td>\n",
       "      <td>-2.3</td>\n",
       "      <td>-0.6</td>\n",
       "    </tr>\n",
       "    <tr>\n",
       "      <th>3</th>\n",
       "      <td>1976</td>\n",
       "      <td>4</td>\n",
       "      <td>DET</td>\n",
       "      <td>Leon Douglas</td>\n",
       "      <td>University of Alabama</td>\n",
       "      <td>7</td>\n",
       "      <td>456</td>\n",
       "      <td>10111</td>\n",
       "      <td>3587</td>\n",
       "      <td>2954</td>\n",
       "      <td>...</td>\n",
       "      <td>.000</td>\n",
       "      <td>.601</td>\n",
       "      <td>22.2</td>\n",
       "      <td>7.9</td>\n",
       "      <td>6.5</td>\n",
       "      <td>1.1</td>\n",
       "      <td>15.2</td>\n",
       "      <td>.072</td>\n",
       "      <td>-1.6</td>\n",
       "      <td>1.1</td>\n",
       "    </tr>\n",
       "    <tr>\n",
       "      <th>4</th>\n",
       "      <td>1976</td>\n",
       "      <td>5</td>\n",
       "      <td>POR</td>\n",
       "      <td>Wally Walker</td>\n",
       "      <td>University of Virginia</td>\n",
       "      <td>8</td>\n",
       "      <td>565</td>\n",
       "      <td>10168</td>\n",
       "      <td>3968</td>\n",
       "      <td>1759</td>\n",
       "      <td>...</td>\n",
       "      <td>.200</td>\n",
       "      <td>.643</td>\n",
       "      <td>18.0</td>\n",
       "      <td>7.0</td>\n",
       "      <td>3.1</td>\n",
       "      <td>1.5</td>\n",
       "      <td>12.9</td>\n",
       "      <td>.061</td>\n",
       "      <td>-2.3</td>\n",
       "      <td>-0.8</td>\n",
       "    </tr>\n",
       "  </tbody>\n",
       "</table>\n",
       "<p>5 rows × 22 columns</p>\n",
       "</div>"
      ],
      "text/plain": [
       "   Draft_Yr Pk Team              Player  \\\n",
       "0      1976  1  HOU          John Lucas   \n",
       "1      1976  2  CHI           Scott May   \n",
       "2      1976  3  KCK  Richard Washington   \n",
       "3      1976  4  DET        Leon Douglas   \n",
       "4      1976  5  POR        Wally Walker   \n",
       "\n",
       "                                 College Yrs Games Minutes Played   PTS   TRB  \\\n",
       "0                 University of Maryland  14   928          25556  9951  2151   \n",
       "1                     Indiana University   7   355           8029  3690  1450   \n",
       "2  University of California, Los Angeles   6   351           7874  3456  2204   \n",
       "3                  University of Alabama   7   456          10111  3587  2954   \n",
       "4                 University of Virginia   8   565          10168  3968  1759   \n",
       "\n",
       "   ...  TP_Percentage FT_Percentage Minutes per Game Points per Game  \\\n",
       "0  ...           .303          .776             27.5            10.7   \n",
       "1  ...           .000          .811             22.6            10.4   \n",
       "2  ...           .250          .711             22.4             9.8   \n",
       "3  ...           .000          .601             22.2             7.9   \n",
       "4  ...           .200          .643             18.0             7.0   \n",
       "\n",
       "  TRB per game Assits per Game Win Share WS_per_game   BPM  VORP  \n",
       "0          2.3             7.0      53.7        .101  -0.4  10.3  \n",
       "1          4.1             1.7      17.4        .104  -1.0   2.0  \n",
       "2          6.3             1.2      10.8        .066  -2.3  -0.6  \n",
       "3          6.5             1.1      15.2        .072  -1.6   1.1  \n",
       "4          3.1             1.5      12.9        .061  -2.3  -0.8  \n",
       "\n",
       "[5 rows x 22 columns]"
      ]
     },
     "execution_count": 6,
     "metadata": {},
     "output_type": "execute_result"
    }
   ],
   "source": [
    "draft_dframe.head()"
   ]
  },
  {
   "cell_type": "markdown",
   "metadata": {},
   "source": [
    "In the blog post I am following, the author pulls the data and appends it all together before cleaning it. I'm not quite sure why they do it this way, though I can imagine it's more efficient as it would save on having to perform those operations on each dataset."
   ]
  },
  {
   "cell_type": "code",
   "execution_count": 7,
   "metadata": {
    "collapsed": false
   },
   "outputs": [
    {
     "data": {
      "text/plain": [
       "Draft_Yr              int64\n",
       "Pk                  float64\n",
       "Team                 object\n",
       "Player               object\n",
       "College              object\n",
       "Yrs                 float64\n",
       "Games               float64\n",
       "Minutes Played      float64\n",
       "PTS                 float64\n",
       "TRB                 float64\n",
       "AST                 float64\n",
       "FG_Percentage       float64\n",
       "TP_Percentage       float64\n",
       "FT_Percentage       float64\n",
       "Minutes per Game    float64\n",
       "Points per Game     float64\n",
       "TRB per game        float64\n",
       "Assits per Game     float64\n",
       "Win Share           float64\n",
       "WS_per_game         float64\n",
       "BPM                 float64\n",
       "VORP                float64\n",
       "dtype: object"
      ]
     },
     "execution_count": 7,
     "metadata": {},
     "output_type": "execute_result"
    }
   ],
   "source": [
    "# Converting the data types to the proper type\n",
    "numeric_columns = column_names\n",
    "del numeric_columns[1:4] # Dropping the string columns 'Player' 'Team' 'College' from this list\n",
    "\n",
    "# Converting data types using the numeric_columns list\n",
    "for column in numeric_columns:\n",
    "    draft_dframe[column] = pd.to_numeric(draft_dframe[column], errors='coerce')\n",
    "draft_dframe.dtypes"
   ]
  },
  {
   "cell_type": "markdown",
   "metadata": {},
   "source": [
    "## Stupid hiccup in converting data types\n",
    "I changed tactics to drop the 'Rk' column when I was building out the DataFrame which changed the list and the loop for converting the data types. I kept making the same mistake as well in creating the list and deleting out the wrong columns to make my list for numeric columns because I forgot that draft year was not in the column names list and thus is indexed differently. "
   ]
  },
  {
   "cell_type": "markdown",
   "metadata": {},
   "source": [
    "I used the .notnull() command (method?) in the previous post to remove the unnecessary rows, but didn't explain what was going on or why. By converting certain columns to numeric values, those unnecessary rows made up of strings like 'Rk' in the 'Rk' column were converted to NaN values. Then by applying .notnull() to the 'Rk' column, it goes through giving a True where there is a number and a False where there is a NaN. The way the code is written it says to look at the 'Rk' column using .notnull() and only take those values where .notnull() is True and make that the new DataFrame.  "
   ]
  },
  {
   "cell_type": "code",
   "execution_count": 8,
   "metadata": {
    "collapsed": false
   },
   "outputs": [],
   "source": [
    "# Dropping the rows that served as breaks for different rounds of the draft\n",
    "draft_dframe = draft_dframe[draft_dframe.Pk.notnull()]"
   ]
  },
  {
   "cell_type": "code",
   "execution_count": 10,
   "metadata": {
    "collapsed": false
   },
   "outputs": [
    {
     "data": {
      "text/html": [
       "<div>\n",
       "<table border=\"1\" class=\"dataframe\">\n",
       "  <thead>\n",
       "    <tr style=\"text-align: right;\">\n",
       "      <th></th>\n",
       "      <th>Draft_Yr</th>\n",
       "      <th>Pk</th>\n",
       "      <th>Team</th>\n",
       "      <th>Player</th>\n",
       "      <th>College</th>\n",
       "      <th>Yrs</th>\n",
       "      <th>Games</th>\n",
       "      <th>Minutes Played</th>\n",
       "      <th>PTS</th>\n",
       "      <th>TRB</th>\n",
       "      <th>...</th>\n",
       "      <th>TP_Percentage</th>\n",
       "      <th>FT_Percentage</th>\n",
       "      <th>Minutes per Game</th>\n",
       "      <th>Points per Game</th>\n",
       "      <th>TRB per game</th>\n",
       "      <th>Assits per Game</th>\n",
       "      <th>Win Share</th>\n",
       "      <th>WS_per_game</th>\n",
       "      <th>BPM</th>\n",
       "      <th>VORP</th>\n",
       "    </tr>\n",
       "  </thead>\n",
       "  <tbody>\n",
       "    <tr>\n",
       "      <th>4232</th>\n",
       "      <td>2015</td>\n",
       "      <td>56.0</td>\n",
       "      <td>NOP</td>\n",
       "      <td>Branden Dawson</td>\n",
       "      <td>Michigan State University</td>\n",
       "      <td>1.0</td>\n",
       "      <td>6.0</td>\n",
       "      <td>29.0</td>\n",
       "      <td>5.0</td>\n",
       "      <td>4.0</td>\n",
       "      <td>...</td>\n",
       "      <td>NaN</td>\n",
       "      <td>1.0</td>\n",
       "      <td>4.8</td>\n",
       "      <td>0.8</td>\n",
       "      <td>0.7</td>\n",
       "      <td>0.0</td>\n",
       "      <td>0.0</td>\n",
       "      <td>0.069</td>\n",
       "      <td>-6.6</td>\n",
       "      <td>0.0</td>\n",
       "    </tr>\n",
       "    <tr>\n",
       "      <th>4233</th>\n",
       "      <td>2015</td>\n",
       "      <td>57.0</td>\n",
       "      <td>DEN</td>\n",
       "      <td>Nikola Radicevic</td>\n",
       "      <td>NaN</td>\n",
       "      <td>NaN</td>\n",
       "      <td>NaN</td>\n",
       "      <td>NaN</td>\n",
       "      <td>NaN</td>\n",
       "      <td>NaN</td>\n",
       "      <td>...</td>\n",
       "      <td>NaN</td>\n",
       "      <td>NaN</td>\n",
       "      <td>NaN</td>\n",
       "      <td>NaN</td>\n",
       "      <td>NaN</td>\n",
       "      <td>NaN</td>\n",
       "      <td>NaN</td>\n",
       "      <td>NaN</td>\n",
       "      <td>NaN</td>\n",
       "      <td>NaN</td>\n",
       "    </tr>\n",
       "    <tr>\n",
       "      <th>4234</th>\n",
       "      <td>2015</td>\n",
       "      <td>58.0</td>\n",
       "      <td>PHI</td>\n",
       "      <td>J.P. Tokoto</td>\n",
       "      <td>University of North Carolina</td>\n",
       "      <td>NaN</td>\n",
       "      <td>NaN</td>\n",
       "      <td>NaN</td>\n",
       "      <td>NaN</td>\n",
       "      <td>NaN</td>\n",
       "      <td>...</td>\n",
       "      <td>NaN</td>\n",
       "      <td>NaN</td>\n",
       "      <td>NaN</td>\n",
       "      <td>NaN</td>\n",
       "      <td>NaN</td>\n",
       "      <td>NaN</td>\n",
       "      <td>NaN</td>\n",
       "      <td>NaN</td>\n",
       "      <td>NaN</td>\n",
       "      <td>NaN</td>\n",
       "    </tr>\n",
       "    <tr>\n",
       "      <th>4235</th>\n",
       "      <td>2015</td>\n",
       "      <td>59.0</td>\n",
       "      <td>ATL</td>\n",
       "      <td>Dimitrios Agravanis</td>\n",
       "      <td>NaN</td>\n",
       "      <td>NaN</td>\n",
       "      <td>NaN</td>\n",
       "      <td>NaN</td>\n",
       "      <td>NaN</td>\n",
       "      <td>NaN</td>\n",
       "      <td>...</td>\n",
       "      <td>NaN</td>\n",
       "      <td>NaN</td>\n",
       "      <td>NaN</td>\n",
       "      <td>NaN</td>\n",
       "      <td>NaN</td>\n",
       "      <td>NaN</td>\n",
       "      <td>NaN</td>\n",
       "      <td>NaN</td>\n",
       "      <td>NaN</td>\n",
       "      <td>NaN</td>\n",
       "    </tr>\n",
       "    <tr>\n",
       "      <th>4236</th>\n",
       "      <td>2015</td>\n",
       "      <td>60.0</td>\n",
       "      <td>PHI</td>\n",
       "      <td>Luka Mitrovic</td>\n",
       "      <td>NaN</td>\n",
       "      <td>NaN</td>\n",
       "      <td>NaN</td>\n",
       "      <td>NaN</td>\n",
       "      <td>NaN</td>\n",
       "      <td>NaN</td>\n",
       "      <td>...</td>\n",
       "      <td>NaN</td>\n",
       "      <td>NaN</td>\n",
       "      <td>NaN</td>\n",
       "      <td>NaN</td>\n",
       "      <td>NaN</td>\n",
       "      <td>NaN</td>\n",
       "      <td>NaN</td>\n",
       "      <td>NaN</td>\n",
       "      <td>NaN</td>\n",
       "      <td>NaN</td>\n",
       "    </tr>\n",
       "  </tbody>\n",
       "</table>\n",
       "<p>5 rows × 22 columns</p>\n",
       "</div>"
      ],
      "text/plain": [
       "      Draft_Yr    Pk Team               Player                       College  \\\n",
       "4232      2015  56.0  NOP       Branden Dawson     Michigan State University   \n",
       "4233      2015  57.0  DEN     Nikola Radicevic                           NaN   \n",
       "4234      2015  58.0  PHI          J.P. Tokoto  University of North Carolina   \n",
       "4235      2015  59.0  ATL  Dimitrios Agravanis                           NaN   \n",
       "4236      2015  60.0  PHI        Luka Mitrovic                           NaN   \n",
       "\n",
       "      Yrs  Games  Minutes Played  PTS  TRB  ...   TP_Percentage  \\\n",
       "4232  1.0    6.0            29.0  5.0  4.0  ...             NaN   \n",
       "4233  NaN    NaN             NaN  NaN  NaN  ...             NaN   \n",
       "4234  NaN    NaN             NaN  NaN  NaN  ...             NaN   \n",
       "4235  NaN    NaN             NaN  NaN  NaN  ...             NaN   \n",
       "4236  NaN    NaN             NaN  NaN  NaN  ...             NaN   \n",
       "\n",
       "      FT_Percentage  Minutes per Game  Points per Game  TRB per game  \\\n",
       "4232            1.0               4.8              0.8           0.7   \n",
       "4233            NaN               NaN              NaN           NaN   \n",
       "4234            NaN               NaN              NaN           NaN   \n",
       "4235            NaN               NaN              NaN           NaN   \n",
       "4236            NaN               NaN              NaN           NaN   \n",
       "\n",
       "      Assits per Game  Win Share  WS_per_game  BPM  VORP  \n",
       "4232              0.0        0.0        0.069 -6.6   0.0  \n",
       "4233              NaN        NaN          NaN  NaN   NaN  \n",
       "4234              NaN        NaN          NaN  NaN   NaN  \n",
       "4235              NaN        NaN          NaN  NaN   NaN  \n",
       "4236              NaN        NaN          NaN  NaN   NaN  \n",
       "\n",
       "[5 rows x 22 columns]"
      ]
     },
     "execution_count": 10,
     "metadata": {},
     "output_type": "execute_result"
    }
   ],
   "source": [
    "draft_dframe.tail()"
   ]
  },
  {
   "cell_type": "code",
   "execution_count": 11,
   "metadata": {
    "collapsed": false
   },
   "outputs": [],
   "source": [
    "# changing the remaining NaN's to zeroes\n",
    "draft_dframe = draft_dframe.fillna(0)\n",
    "# reindexing to align the row index correctly\n",
    "draft_dframe.index = range(3985)"
   ]
  },
  {
   "cell_type": "code",
   "execution_count": 12,
   "metadata": {
    "collapsed": false
   },
   "outputs": [
    {
     "data": {
      "text/plain": [
       "0"
      ]
     },
     "execution_count": 12,
     "metadata": {},
     "output_type": "execute_result"
    }
   ],
   "source": [
    "# checking whether there are still any missing values\n",
    "draft_dframe.isnull().sum().sum()"
   ]
  },
  {
   "cell_type": "code",
   "execution_count": 13,
   "metadata": {
    "collapsed": false
   },
   "outputs": [
    {
     "name": "stdout",
     "output_type": "stream",
     "text": [
      "/Users/rorypulvino/Dropbox (Personal)/Python/blog/content/NBA_Data\n"
     ]
    }
   ],
   "source": [
    "cd NBA_Data"
   ]
  },
  {
   "cell_type": "code",
   "execution_count": 14,
   "metadata": {
    "collapsed": true
   },
   "outputs": [],
   "source": [
    "draft_dframe.to_csv('1976_to_2015_Draft.csv')"
   ]
  },
  {
   "cell_type": "markdown",
   "metadata": {},
   "source": [
    "# Got the first DataFrame, now need to fill out the rest\n",
    "This DataFrame contains all the draft picks from 1976 to 2015 from basketball-reference.com. The next couple of steps now are:\n",
    "1. I will need to build DataFrames of NBA coaches and GMs. I've been looking for websites with this information, and luckily basketball-reference has this information. The data is not as conveniently organized as the draft data, but can be organized.\n",
    "2. I would like to also add in data on the players' personal accomplishments such as making the NBA All-Star Game or being named to the All-NBA team. This seems relevant because it is very rare for a team to win a championship without such players.\n",
    "3. I need to 'fix' the DataFrame so that teams such as the OKC Thunder appear as the OKC Thunder throughout the DataFrame, rather than as the Seattle Super-Sonics. This will simply make analysis easier."
   ]
  }
 ],
 "metadata": {
  "anaconda-cloud": {},
  "kernelspec": {
   "display_name": "Python [default]",
   "language": "python",
   "name": "python2"
  },
  "language_info": {
   "codemirror_mode": {
    "name": "ipython",
    "version": 2
   },
   "file_extension": ".py",
   "mimetype": "text/x-python",
   "name": "python",
   "nbconvert_exporter": "python",
   "pygments_lexer": "ipython2",
   "version": "2.7.12"
  }
 },
 "nbformat": 4,
 "nbformat_minor": 0
}
