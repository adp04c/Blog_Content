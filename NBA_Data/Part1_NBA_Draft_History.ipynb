{
 "cells": [
  {
   "cell_type": "markdown",
   "metadata": {},
   "source": [
    "# What's this about?\n",
    "For the next few blog posts I'll be dealing with NBA draft data. If you pay attention to the NBA at all, then you'll be aware of what the draft is and it's presumed importance. Basketball analysts such as Zach Lowe and Bill Simmons have  argued that the best chance a bad team has at being a good team is to have a high draft pick, while many empirical studies show the value of draft position: [here][3], [here] [2], and [here] [1] and general managers have staked their careers on the premise that the way to a great team was through drafting a star player. Given the importance of the draft then, I decided to take a look at the link between draft position and player quality (pretty well established correlation) as well as looking at whether certain GM's or coaches consistently beat the odds in the draft. \n",
    "Since teams have equivalent information on the players they are going to draft, there should be a clear link between the quality of the player and the player's draft position. GM's and coaches that consistently get good players from lower draft positions then either are evaulating the available information differently or better at developing players. Teasing these two apart may not be possible, but given that Sam Hinkie based his career on having high draft picks, I think it's worth looking at whether there are GM's or coaches that are able to grab players that exceed the average player's performance given the same draft position. This analysis has actually been done [before][4] (and [again][5]) so my analysis will be extending this to more years as well as looking to pull apart the influence of the coach as compared to the GM in drafting performance. Another advantage of this project, despite being done before, is that I have something to compare my results too (granted I'll need to find access to these projects) and to look to for ideas on how to actually analyze the data.\n",
    "# What does this project teach me?\n",
    "To complete this project, I'll need to scrape data from a number of websites, convert them into Pandas DataFrames and merge them. Most of this project will be gathering and cleaning data, but eventually I will be graphing player performance based against draft position and analyzing which GM's and coaches did better in the draft.\n",
    "\n",
    "[1]: http://nyloncalculus.com/2016/03/07/evaluating-draft-prospects-a-first-pass/\n",
    "[2]: http://www.82games.com/barzilai1.htm\n",
    "[3]: https://statsbylopez.com/2016/06/22/the-making-and-comparison-of-draft-curves/Teams\n",
    "[4]: http://basketball.realgm.com/wiretap/232776/study-finds-isiah-thomas-as-best-drafting-gm-since-1989\n",
    "[5]: http://www.nbaminer.com/draft-success-of-nba-teams/"
   ]
  },
  {
   "cell_type": "markdown",
   "metadata": {},
   "source": [
    "# And it begins...\n",
    "This project will be carried out in parts and I will be trying to share how I did things as well as the difficulties I encountered. To begin, I am trying to grab draft data by following this [blog post][1], but as you'll see, I quickly deviated because I ran into many errors and tried whatever I could to get around these issues. Part 1 of this project will be focused on getting the draft data from a single season, 1976 (the NBA merger season) with Part 2 focused on using the template here to create a loop to grab all draft data from 1976 to 2014 and combine them into a single large DataFrame.\n",
    "[1]: http://savvastjortjoglou.com/nba-draft-part01-scraping.html"
   ]
  },
  {
   "cell_type": "code",
   "execution_count": 1,
   "metadata": {
    "collapsed": false
   },
   "outputs": [],
   "source": [
    "import pandas as pd\n",
    "from pandas import Series,DataFrame,read_html\n",
    "import numpy as np\n",
    "\n",
    "from bs4 import BeautifulSoup\n",
    "import html5lib"
   ]
  },
  {
   "cell_type": "markdown",
   "metadata": {},
   "source": [
    "Above is some standard imports. I tried to follow the blog, but despite have installed requests, kept getting an error that the module was not available, so I switched tactics after finding pandas 'read_html' command. \n",
    "Below I will go through scraping data from a single season and then progressing to build a loop to grab all the seasons that I want before finally merging all the DataFrames together."
   ]
  },
  {
   "cell_type": "code",
   "execution_count": 2,
   "metadata": {
    "collapsed": false
   },
   "outputs": [],
   "source": [
    "url = 'http://www.basketball-reference.com/draft/NBA_1976.html'"
   ]
  },
  {
   "cell_type": "code",
   "execution_count": 3,
   "metadata": {
    "collapsed": false
   },
   "outputs": [],
   "source": [
    "dframe_list = pd.io.html.read_html(url)"
   ]
  },
  {
   "cell_type": "code",
   "execution_count": 4,
   "metadata": {
    "collapsed": false
   },
   "outputs": [
    {
     "data": {
      "text/plain": [
       "list"
      ]
     },
     "execution_count": 4,
     "metadata": {},
     "output_type": "execute_result"
    }
   ],
   "source": [
    "type(dframe_list)"
   ]
  },
  {
   "cell_type": "markdown",
   "metadata": {},
   "source": [
    "You can convert the list to a Pandas DataFrame by simply assigning the first element in the list. I'm not quite sure how Pandas knows that I want to create a DataFrame, but it takes the first element in my list (which is a list of column headers) and makes them the column headers in a DataFrame."
   ]
  },
  {
   "cell_type": "code",
   "execution_count": 5,
   "metadata": {
    "collapsed": false
   },
   "outputs": [
    {
     "data": {
      "text/html": [
       "<div>\n",
       "<table border=\"1\" class=\"dataframe\">\n",
       "  <thead>\n",
       "    <tr style=\"text-align: right;\">\n",
       "      <th></th>\n",
       "      <th>Unnamed: 0</th>\n",
       "      <th>Unnamed: 1</th>\n",
       "      <th>Unnamed: 2</th>\n",
       "      <th>Round 1</th>\n",
       "      <th>Unnamed: 4</th>\n",
       "      <th>Totals</th>\n",
       "      <th>Shooting</th>\n",
       "      <th>Per Game</th>\n",
       "      <th>Advanced</th>\n",
       "      <th>Rk</th>\n",
       "      <th>...</th>\n",
       "      <th>3P%</th>\n",
       "      <th>FT%</th>\n",
       "      <th>MP.1</th>\n",
       "      <th>PTS.1</th>\n",
       "      <th>TRB.1</th>\n",
       "      <th>AST.1</th>\n",
       "      <th>WS</th>\n",
       "      <th>WS/48</th>\n",
       "      <th>BPM</th>\n",
       "      <th>VORP</th>\n",
       "    </tr>\n",
       "  </thead>\n",
       "  <tbody>\n",
       "    <tr>\n",
       "      <th>0</th>\n",
       "      <td>1</td>\n",
       "      <td>1</td>\n",
       "      <td>HOU</td>\n",
       "      <td>John Lucas</td>\n",
       "      <td>University of Maryland</td>\n",
       "      <td>14</td>\n",
       "      <td>928</td>\n",
       "      <td>25556</td>\n",
       "      <td>9951</td>\n",
       "      <td>2151</td>\n",
       "      <td>...</td>\n",
       "      <td>10.3</td>\n",
       "      <td>NaN</td>\n",
       "      <td>NaN</td>\n",
       "      <td>NaN</td>\n",
       "      <td>NaN</td>\n",
       "      <td>NaN</td>\n",
       "      <td>NaN</td>\n",
       "      <td>NaN</td>\n",
       "      <td>NaN</td>\n",
       "      <td>NaN</td>\n",
       "    </tr>\n",
       "    <tr>\n",
       "      <th>1</th>\n",
       "      <td>2</td>\n",
       "      <td>2</td>\n",
       "      <td>CHI</td>\n",
       "      <td>Scott May</td>\n",
       "      <td>Indiana University</td>\n",
       "      <td>7</td>\n",
       "      <td>355</td>\n",
       "      <td>8029</td>\n",
       "      <td>3690</td>\n",
       "      <td>1450</td>\n",
       "      <td>...</td>\n",
       "      <td>2.0</td>\n",
       "      <td>NaN</td>\n",
       "      <td>NaN</td>\n",
       "      <td>NaN</td>\n",
       "      <td>NaN</td>\n",
       "      <td>NaN</td>\n",
       "      <td>NaN</td>\n",
       "      <td>NaN</td>\n",
       "      <td>NaN</td>\n",
       "      <td>NaN</td>\n",
       "    </tr>\n",
       "    <tr>\n",
       "      <th>2</th>\n",
       "      <td>3</td>\n",
       "      <td>3</td>\n",
       "      <td>KCK</td>\n",
       "      <td>Richard Washington</td>\n",
       "      <td>University of California, Los Angeles</td>\n",
       "      <td>6</td>\n",
       "      <td>351</td>\n",
       "      <td>7874</td>\n",
       "      <td>3456</td>\n",
       "      <td>2204</td>\n",
       "      <td>...</td>\n",
       "      <td>-0.6</td>\n",
       "      <td>NaN</td>\n",
       "      <td>NaN</td>\n",
       "      <td>NaN</td>\n",
       "      <td>NaN</td>\n",
       "      <td>NaN</td>\n",
       "      <td>NaN</td>\n",
       "      <td>NaN</td>\n",
       "      <td>NaN</td>\n",
       "      <td>NaN</td>\n",
       "    </tr>\n",
       "    <tr>\n",
       "      <th>3</th>\n",
       "      <td>4</td>\n",
       "      <td>4</td>\n",
       "      <td>DET</td>\n",
       "      <td>Leon Douglas</td>\n",
       "      <td>University of Alabama</td>\n",
       "      <td>7</td>\n",
       "      <td>456</td>\n",
       "      <td>10111</td>\n",
       "      <td>3587</td>\n",
       "      <td>2954</td>\n",
       "      <td>...</td>\n",
       "      <td>1.1</td>\n",
       "      <td>NaN</td>\n",
       "      <td>NaN</td>\n",
       "      <td>NaN</td>\n",
       "      <td>NaN</td>\n",
       "      <td>NaN</td>\n",
       "      <td>NaN</td>\n",
       "      <td>NaN</td>\n",
       "      <td>NaN</td>\n",
       "      <td>NaN</td>\n",
       "    </tr>\n",
       "    <tr>\n",
       "      <th>4</th>\n",
       "      <td>5</td>\n",
       "      <td>5</td>\n",
       "      <td>POR</td>\n",
       "      <td>Wally Walker</td>\n",
       "      <td>University of Virginia</td>\n",
       "      <td>8</td>\n",
       "      <td>565</td>\n",
       "      <td>10168</td>\n",
       "      <td>3968</td>\n",
       "      <td>1759</td>\n",
       "      <td>...</td>\n",
       "      <td>-0.8</td>\n",
       "      <td>NaN</td>\n",
       "      <td>NaN</td>\n",
       "      <td>NaN</td>\n",
       "      <td>NaN</td>\n",
       "      <td>NaN</td>\n",
       "      <td>NaN</td>\n",
       "      <td>NaN</td>\n",
       "      <td>NaN</td>\n",
       "      <td>NaN</td>\n",
       "    </tr>\n",
       "  </tbody>\n",
       "</table>\n",
       "<p>5 rows × 31 columns</p>\n",
       "</div>"
      ],
      "text/plain": [
       "  Unnamed: 0 Unnamed: 1 Unnamed: 2             Round 1  \\\n",
       "0          1          1        HOU          John Lucas   \n",
       "1          2          2        CHI           Scott May   \n",
       "2          3          3        KCK  Richard Washington   \n",
       "3          4          4        DET        Leon Douglas   \n",
       "4          5          5        POR        Wally Walker   \n",
       "\n",
       "                              Unnamed: 4 Totals Shooting Per Game Advanced  \\\n",
       "0                 University of Maryland     14      928    25556     9951   \n",
       "1                     Indiana University      7      355     8029     3690   \n",
       "2  University of California, Los Angeles      6      351     7874     3456   \n",
       "3                  University of Alabama      7      456    10111     3587   \n",
       "4                 University of Virginia      8      565    10168     3968   \n",
       "\n",
       "     Rk ...    3P% FT% MP.1 PTS.1 TRB.1 AST.1  WS WS/48 BPM VORP  \n",
       "0  2151 ...   10.3 NaN  NaN   NaN   NaN   NaN NaN   NaN NaN  NaN  \n",
       "1  1450 ...    2.0 NaN  NaN   NaN   NaN   NaN NaN   NaN NaN  NaN  \n",
       "2  2204 ...   -0.6 NaN  NaN   NaN   NaN   NaN NaN   NaN NaN  NaN  \n",
       "3  2954 ...    1.1 NaN  NaN   NaN   NaN   NaN NaN   NaN NaN  NaN  \n",
       "4  1759 ...   -0.8 NaN  NaN   NaN   NaN   NaN NaN   NaN NaN  NaN  \n",
       "\n",
       "[5 rows x 31 columns]"
      ]
     },
     "execution_count": 5,
     "metadata": {},
     "output_type": "execute_result"
    }
   ],
   "source": [
    "dframe = dframe_list[0]\n",
    "dframe.head()"
   ]
  },
  {
   "cell_type": "code",
   "execution_count": 6,
   "metadata": {
    "collapsed": false
   },
   "outputs": [
    {
     "data": {
      "text/plain": [
       "pandas.core.frame.DataFrame"
      ]
     },
     "execution_count": 6,
     "metadata": {},
     "output_type": "execute_result"
    }
   ],
   "source": [
    "type(dframe)"
   ]
  },
  {
   "cell_type": "code",
   "execution_count": 7,
   "metadata": {
    "collapsed": false
   },
   "outputs": [
    {
     "data": {
      "text/plain": [
       "array(['Unnamed: 0', 'Unnamed: 1', 'Unnamed: 2', u'Round 1', 'Unnamed: 4',\n",
       "       u'Totals', u'Shooting', u'Per Game', u'Advanced', u'Rk', u'Pk',\n",
       "       u'Tm', u'Player', u'College', u'Yrs', u'G', u'MP', u'PTS', u'TRB',\n",
       "       u'AST', u'FG%', u'3P%', u'FT%', u'MP.1', u'PTS.1', u'TRB.1',\n",
       "       u'AST.1', u'WS', u'WS/48', u'BPM', u'VORP'], dtype=object)"
      ]
     },
     "execution_count": 7,
     "metadata": {},
     "output_type": "execute_result"
    }
   ],
   "source": [
    "dframe.columns.values"
   ]
  },
  {
   "cell_type": "markdown",
   "metadata": {},
   "source": [
    "Above I've shown that dframe is a DataFrame and printed out my column headers. As you can see, these column headers are clearly wrong. The blog I was following deals with this issue by taking a copy of the website and making it a beautiful soup object, then searching through that object for the column headers and then assigning those as the column headers. As I'll briefly discuss below, for some reason that did not work for me, instead, I continually got an empty list when I tried to grab the column headers and took an alternative route that may not be ideal for a data set with a vast number of column headers (so sooner or later I'll need to learn the first method). \n",
    "\n",
    "First, in looking at the dataset, I noticed that the dataframe had been read in to have the first and second rows from the webpage to be the column headers (look at the webpage to see what I mean). This resulted in misalignment of the values and a bunch of columns at the end filled with NaN values. My next steps then are to drop those NaN filled columns and to create a list of accurate column headers to replace with the misaligned column headers. Finally, because the webpage has rows that provide breaks for different rounds of the draft, I need to drop these useless rows. "
   ]
  },
  {
   "cell_type": "code",
   "execution_count": 8,
   "metadata": {
    "collapsed": false
   },
   "outputs": [],
   "source": [
    "# dropping the NaN filled columns\n",
    "# dframe.dropna(axis=1,how='all',inplace=True)"
   ]
  },
  {
   "cell_type": "markdown",
   "metadata": {},
   "source": [
    "I tried the above code first to drop those NaN filled columns, which worked, but also dropped a bunch of rows of players that never played in the NBA and thus all of their column entries were NaN at the beginning. Since I know there are 22 actual columns, I will drop all columns after the 22nd."
   ]
  },
  {
   "cell_type": "code",
   "execution_count": 9,
   "metadata": {
    "collapsed": false
   },
   "outputs": [],
   "source": [
    "dframe.drop(dframe.columns[[22,23,24,25,26,27,28,29,30]],inplace=True,axis=1)\n",
    "# For some reason, trying to enter a range of number e.g. 22:30 for the dropped columns returned a syntax error"
   ]
  },
  {
   "cell_type": "code",
   "execution_count": 10,
   "metadata": {
    "collapsed": false
   },
   "outputs": [],
   "source": [
    "# the list of accurate column headers, this is pretty inefficient to just create the list\n",
    "column_names = ['Rk','Pk','Team','Player','College','Yrs','Games','Minutes Played','PTS','TRB','AST','FG_Percentage','TP_Percentage','FT_Percentage','Minutes per Game','Points per Game','TRB per game','Assits per Game','Win Share','WS_per_game','BPM','VORP']"
   ]
  },
  {
   "cell_type": "markdown",
   "metadata": {},
   "source": [
    "Now I can replace the column headers with the list of column headers I created here. As you can tell, I'm having to do some of these things by plugging in values and such which is not ideal, so I still have a ways to go in learning more the syntax of Python and pandas."
   ]
  },
  {
   "cell_type": "code",
   "execution_count": 11,
   "metadata": {
    "collapsed": false
   },
   "outputs": [],
   "source": [
    "# replacing the column headers with the properly named list created above\n",
    "dframe.columns=column_names"
   ]
  },
  {
   "cell_type": "code",
   "execution_count": 12,
   "metadata": {
    "collapsed": false
   },
   "outputs": [
    {
     "data": {
      "text/html": [
       "<div>\n",
       "<table border=\"1\" class=\"dataframe\">\n",
       "  <thead>\n",
       "    <tr style=\"text-align: right;\">\n",
       "      <th></th>\n",
       "      <th>Rk</th>\n",
       "      <th>Pk</th>\n",
       "      <th>Team</th>\n",
       "      <th>Player</th>\n",
       "      <th>College</th>\n",
       "      <th>Yrs</th>\n",
       "      <th>Games</th>\n",
       "      <th>Minutes Played</th>\n",
       "      <th>PTS</th>\n",
       "      <th>TRB</th>\n",
       "      <th>...</th>\n",
       "      <th>TP_Percentage</th>\n",
       "      <th>FT_Percentage</th>\n",
       "      <th>Minutes per Game</th>\n",
       "      <th>Points per Game</th>\n",
       "      <th>TRB per game</th>\n",
       "      <th>Assits per Game</th>\n",
       "      <th>Win Share</th>\n",
       "      <th>WS_per_game</th>\n",
       "      <th>BPM</th>\n",
       "      <th>VORP</th>\n",
       "    </tr>\n",
       "  </thead>\n",
       "  <tbody>\n",
       "    <tr>\n",
       "      <th>0</th>\n",
       "      <td>1</td>\n",
       "      <td>1</td>\n",
       "      <td>HOU</td>\n",
       "      <td>John Lucas</td>\n",
       "      <td>University of Maryland</td>\n",
       "      <td>14</td>\n",
       "      <td>928</td>\n",
       "      <td>25556</td>\n",
       "      <td>9951</td>\n",
       "      <td>2151</td>\n",
       "      <td>...</td>\n",
       "      <td>.303</td>\n",
       "      <td>.776</td>\n",
       "      <td>27.5</td>\n",
       "      <td>10.7</td>\n",
       "      <td>2.3</td>\n",
       "      <td>7.0</td>\n",
       "      <td>53.7</td>\n",
       "      <td>.101</td>\n",
       "      <td>-0.4</td>\n",
       "      <td>10.3</td>\n",
       "    </tr>\n",
       "    <tr>\n",
       "      <th>1</th>\n",
       "      <td>2</td>\n",
       "      <td>2</td>\n",
       "      <td>CHI</td>\n",
       "      <td>Scott May</td>\n",
       "      <td>Indiana University</td>\n",
       "      <td>7</td>\n",
       "      <td>355</td>\n",
       "      <td>8029</td>\n",
       "      <td>3690</td>\n",
       "      <td>1450</td>\n",
       "      <td>...</td>\n",
       "      <td>.000</td>\n",
       "      <td>.811</td>\n",
       "      <td>22.6</td>\n",
       "      <td>10.4</td>\n",
       "      <td>4.1</td>\n",
       "      <td>1.7</td>\n",
       "      <td>17.4</td>\n",
       "      <td>.104</td>\n",
       "      <td>-1.0</td>\n",
       "      <td>2.0</td>\n",
       "    </tr>\n",
       "    <tr>\n",
       "      <th>2</th>\n",
       "      <td>3</td>\n",
       "      <td>3</td>\n",
       "      <td>KCK</td>\n",
       "      <td>Richard Washington</td>\n",
       "      <td>University of California, Los Angeles</td>\n",
       "      <td>6</td>\n",
       "      <td>351</td>\n",
       "      <td>7874</td>\n",
       "      <td>3456</td>\n",
       "      <td>2204</td>\n",
       "      <td>...</td>\n",
       "      <td>.250</td>\n",
       "      <td>.711</td>\n",
       "      <td>22.4</td>\n",
       "      <td>9.8</td>\n",
       "      <td>6.3</td>\n",
       "      <td>1.2</td>\n",
       "      <td>10.8</td>\n",
       "      <td>.066</td>\n",
       "      <td>-2.3</td>\n",
       "      <td>-0.6</td>\n",
       "    </tr>\n",
       "    <tr>\n",
       "      <th>3</th>\n",
       "      <td>4</td>\n",
       "      <td>4</td>\n",
       "      <td>DET</td>\n",
       "      <td>Leon Douglas</td>\n",
       "      <td>University of Alabama</td>\n",
       "      <td>7</td>\n",
       "      <td>456</td>\n",
       "      <td>10111</td>\n",
       "      <td>3587</td>\n",
       "      <td>2954</td>\n",
       "      <td>...</td>\n",
       "      <td>.000</td>\n",
       "      <td>.601</td>\n",
       "      <td>22.2</td>\n",
       "      <td>7.9</td>\n",
       "      <td>6.5</td>\n",
       "      <td>1.1</td>\n",
       "      <td>15.2</td>\n",
       "      <td>.072</td>\n",
       "      <td>-1.6</td>\n",
       "      <td>1.1</td>\n",
       "    </tr>\n",
       "    <tr>\n",
       "      <th>4</th>\n",
       "      <td>5</td>\n",
       "      <td>5</td>\n",
       "      <td>POR</td>\n",
       "      <td>Wally Walker</td>\n",
       "      <td>University of Virginia</td>\n",
       "      <td>8</td>\n",
       "      <td>565</td>\n",
       "      <td>10168</td>\n",
       "      <td>3968</td>\n",
       "      <td>1759</td>\n",
       "      <td>...</td>\n",
       "      <td>.200</td>\n",
       "      <td>.643</td>\n",
       "      <td>18.0</td>\n",
       "      <td>7.0</td>\n",
       "      <td>3.1</td>\n",
       "      <td>1.5</td>\n",
       "      <td>12.9</td>\n",
       "      <td>.061</td>\n",
       "      <td>-2.3</td>\n",
       "      <td>-0.8</td>\n",
       "    </tr>\n",
       "  </tbody>\n",
       "</table>\n",
       "<p>5 rows × 22 columns</p>\n",
       "</div>"
      ],
      "text/plain": [
       "  Rk Pk Team              Player                                College Yrs  \\\n",
       "0  1  1  HOU          John Lucas                 University of Maryland  14   \n",
       "1  2  2  CHI           Scott May                     Indiana University   7   \n",
       "2  3  3  KCK  Richard Washington  University of California, Los Angeles   6   \n",
       "3  4  4  DET        Leon Douglas                  University of Alabama   7   \n",
       "4  5  5  POR        Wally Walker                 University of Virginia   8   \n",
       "\n",
       "  Games Minutes Played   PTS   TRB  ...  TP_Percentage FT_Percentage  \\\n",
       "0   928          25556  9951  2151  ...           .303          .776   \n",
       "1   355           8029  3690  1450  ...           .000          .811   \n",
       "2   351           7874  3456  2204  ...           .250          .711   \n",
       "3   456          10111  3587  2954  ...           .000          .601   \n",
       "4   565          10168  3968  1759  ...           .200          .643   \n",
       "\n",
       "  Minutes per Game Points per Game TRB per game Assits per Game Win Share  \\\n",
       "0             27.5            10.7          2.3             7.0      53.7   \n",
       "1             22.6            10.4          4.1             1.7      17.4   \n",
       "2             22.4             9.8          6.3             1.2      10.8   \n",
       "3             22.2             7.9          6.5             1.1      15.2   \n",
       "4             18.0             7.0          3.1             1.5      12.9   \n",
       "\n",
       "  WS_per_game   BPM  VORP  \n",
       "0        .101  -0.4  10.3  \n",
       "1        .104  -1.0   2.0  \n",
       "2        .066  -2.3  -0.6  \n",
       "3        .072  -1.6   1.1  \n",
       "4        .061  -2.3  -0.8  \n",
       "\n",
       "[5 rows x 22 columns]"
      ]
     },
     "execution_count": 12,
     "metadata": {},
     "output_type": "execute_result"
    }
   ],
   "source": [
    "dframe.head()"
   ]
  },
  {
   "cell_type": "markdown",
   "metadata": {},
   "source": [
    "## An Aside\n",
    "In trying to follow the same steps as the blog to replace column headers, I kept running into an error every time I tried to replace the column headers with those that I found using 'soup.finall' that I did not have a [1] list item. I ended up assigning the command to an object 'rows' and in looking at 'rows', as shown below, found it to be an empty list. I poked around quite a bit online and there are lots of people that seem to run into this issue, but for a wide variety of reasons. At this point I'm not sure if it's something to do with the versions of python and beautifulsoup that I'm running or something else. For the sake of simplicity I decided to simply use the method demonstrated above and created a list of column_names."
   ]
  },
  {
   "cell_type": "code",
   "execution_count": 49,
   "metadata": {
    "collapsed": false
   },
   "outputs": [
    {
     "data": {
      "text/plain": [
       "[]"
      ]
     },
     "execution_count": 49,
     "metadata": {},
     "output_type": "execute_result"
    }
   ],
   "source": [
    "rows = soup.findAll('tr', limit=2)\n",
    "rows"
   ]
  },
  {
   "cell_type": "markdown",
   "metadata": {},
   "source": [
    "There are a couple of things I need to do now. \n",
    "1. I need to drop the rows that served as breaks for different rounds in the original dataset\n",
    "2. I'll need to re-align the index of the rows to be correct\n",
    "3. I need to fill the NaN values in as zeroes\n",
    "4. I need to fix the object type for each column\n",
    "Since having the correct object type for each column can speed up the the other three things I need to do, I'll do that first."
   ]
  },
  {
   "cell_type": "code",
   "execution_count": 13,
   "metadata": {
    "collapsed": false
   },
   "outputs": [
    {
     "data": {
      "text/plain": [
       "Rk                  object\n",
       "Pk                  object\n",
       "Team                object\n",
       "Player              object\n",
       "College             object\n",
       "Yrs                 object\n",
       "Games               object\n",
       "Minutes Played      object\n",
       "PTS                 object\n",
       "TRB                 object\n",
       "AST                 object\n",
       "FG_Percentage       object\n",
       "TP_Percentage       object\n",
       "FT_Percentage       object\n",
       "Minutes per Game    object\n",
       "Points per Game     object\n",
       "TRB per game        object\n",
       "Assits per Game     object\n",
       "Win Share           object\n",
       "WS_per_game         object\n",
       "BPM                 object\n",
       "VORP                object\n",
       "dtype: object"
      ]
     },
     "execution_count": 13,
     "metadata": {},
     "output_type": "execute_result"
    }
   ],
   "source": [
    "dframe.dtypes"
   ]
  },
  {
   "cell_type": "code",
   "execution_count": 14,
   "metadata": {
    "collapsed": false
   },
   "outputs": [
    {
     "data": {
      "text/plain": [
       "Rk                  float64\n",
       "Pk                  float64\n",
       "Team                 object\n",
       "Player               object\n",
       "College              object\n",
       "Yrs                 float64\n",
       "Games               float64\n",
       "Minutes Played      float64\n",
       "PTS                 float64\n",
       "TRB                 float64\n",
       "AST                 float64\n",
       "FG_Percentage       float64\n",
       "TP_Percentage       float64\n",
       "FT_Percentage       float64\n",
       "Minutes per Game    float64\n",
       "Points per Game     float64\n",
       "TRB per game        float64\n",
       "Assits per Game     float64\n",
       "Win Share           float64\n",
       "WS_per_game         float64\n",
       "BPM                 float64\n",
       "VORP                float64\n",
       "dtype: object"
      ]
     },
     "execution_count": 14,
     "metadata": {},
     "output_type": "execute_result"
    }
   ],
   "source": [
    "# Since the Team, Player, College columns do not need to be converted I will leave these out\n",
    "numeric_columns = column_names\n",
    "del numeric_columns[2:5]\n",
    "\n",
    "for column in numeric_columns:\n",
    "    dframe[column] = pd.to_numeric(dframe[column], errors='coerce')\n",
    "dframe.dtypes"
   ]
  },
  {
   "cell_type": "markdown",
   "metadata": {},
   "source": [
    "Now that I have these in numeric form, I should be able to drop the excess rows and then convert the remaining NaN's to zeroes\n"
   ]
  },
  {
   "cell_type": "code",
   "execution_count": 15,
   "metadata": {
    "collapsed": false
   },
   "outputs": [
    {
     "data": {
      "text/html": [
       "<div>\n",
       "<table border=\"1\" class=\"dataframe\">\n",
       "  <thead>\n",
       "    <tr style=\"text-align: right;\">\n",
       "      <th></th>\n",
       "      <th>Rk</th>\n",
       "      <th>Pk</th>\n",
       "      <th>Team</th>\n",
       "      <th>Player</th>\n",
       "      <th>College</th>\n",
       "      <th>Yrs</th>\n",
       "      <th>Games</th>\n",
       "      <th>Minutes Played</th>\n",
       "      <th>PTS</th>\n",
       "      <th>TRB</th>\n",
       "      <th>...</th>\n",
       "      <th>TP_Percentage</th>\n",
       "      <th>FT_Percentage</th>\n",
       "      <th>Minutes per Game</th>\n",
       "      <th>Points per Game</th>\n",
       "      <th>TRB per game</th>\n",
       "      <th>Assits per Game</th>\n",
       "      <th>Win Share</th>\n",
       "      <th>WS_per_game</th>\n",
       "      <th>BPM</th>\n",
       "      <th>VORP</th>\n",
       "    </tr>\n",
       "  </thead>\n",
       "  <tbody>\n",
       "    <tr>\n",
       "      <th>0</th>\n",
       "      <td>1</td>\n",
       "      <td>1</td>\n",
       "      <td>HOU</td>\n",
       "      <td>John Lucas</td>\n",
       "      <td>University of Maryland</td>\n",
       "      <td>14</td>\n",
       "      <td>928</td>\n",
       "      <td>25556</td>\n",
       "      <td>9951</td>\n",
       "      <td>2151</td>\n",
       "      <td>...</td>\n",
       "      <td>0.303</td>\n",
       "      <td>0.776</td>\n",
       "      <td>27.5</td>\n",
       "      <td>10.7</td>\n",
       "      <td>2.3</td>\n",
       "      <td>7.0</td>\n",
       "      <td>53.7</td>\n",
       "      <td>0.101</td>\n",
       "      <td>-0.4</td>\n",
       "      <td>10.3</td>\n",
       "    </tr>\n",
       "    <tr>\n",
       "      <th>1</th>\n",
       "      <td>2</td>\n",
       "      <td>2</td>\n",
       "      <td>CHI</td>\n",
       "      <td>Scott May</td>\n",
       "      <td>Indiana University</td>\n",
       "      <td>7</td>\n",
       "      <td>355</td>\n",
       "      <td>8029</td>\n",
       "      <td>3690</td>\n",
       "      <td>1450</td>\n",
       "      <td>...</td>\n",
       "      <td>0.000</td>\n",
       "      <td>0.811</td>\n",
       "      <td>22.6</td>\n",
       "      <td>10.4</td>\n",
       "      <td>4.1</td>\n",
       "      <td>1.7</td>\n",
       "      <td>17.4</td>\n",
       "      <td>0.104</td>\n",
       "      <td>-1.0</td>\n",
       "      <td>2.0</td>\n",
       "    </tr>\n",
       "    <tr>\n",
       "      <th>2</th>\n",
       "      <td>3</td>\n",
       "      <td>3</td>\n",
       "      <td>KCK</td>\n",
       "      <td>Richard Washington</td>\n",
       "      <td>University of California, Los Angeles</td>\n",
       "      <td>6</td>\n",
       "      <td>351</td>\n",
       "      <td>7874</td>\n",
       "      <td>3456</td>\n",
       "      <td>2204</td>\n",
       "      <td>...</td>\n",
       "      <td>0.250</td>\n",
       "      <td>0.711</td>\n",
       "      <td>22.4</td>\n",
       "      <td>9.8</td>\n",
       "      <td>6.3</td>\n",
       "      <td>1.2</td>\n",
       "      <td>10.8</td>\n",
       "      <td>0.066</td>\n",
       "      <td>-2.3</td>\n",
       "      <td>-0.6</td>\n",
       "    </tr>\n",
       "    <tr>\n",
       "      <th>3</th>\n",
       "      <td>4</td>\n",
       "      <td>4</td>\n",
       "      <td>DET</td>\n",
       "      <td>Leon Douglas</td>\n",
       "      <td>University of Alabama</td>\n",
       "      <td>7</td>\n",
       "      <td>456</td>\n",
       "      <td>10111</td>\n",
       "      <td>3587</td>\n",
       "      <td>2954</td>\n",
       "      <td>...</td>\n",
       "      <td>0.000</td>\n",
       "      <td>0.601</td>\n",
       "      <td>22.2</td>\n",
       "      <td>7.9</td>\n",
       "      <td>6.5</td>\n",
       "      <td>1.1</td>\n",
       "      <td>15.2</td>\n",
       "      <td>0.072</td>\n",
       "      <td>-1.6</td>\n",
       "      <td>1.1</td>\n",
       "    </tr>\n",
       "    <tr>\n",
       "      <th>4</th>\n",
       "      <td>5</td>\n",
       "      <td>5</td>\n",
       "      <td>POR</td>\n",
       "      <td>Wally Walker</td>\n",
       "      <td>University of Virginia</td>\n",
       "      <td>8</td>\n",
       "      <td>565</td>\n",
       "      <td>10168</td>\n",
       "      <td>3968</td>\n",
       "      <td>1759</td>\n",
       "      <td>...</td>\n",
       "      <td>0.200</td>\n",
       "      <td>0.643</td>\n",
       "      <td>18.0</td>\n",
       "      <td>7.0</td>\n",
       "      <td>3.1</td>\n",
       "      <td>1.5</td>\n",
       "      <td>12.9</td>\n",
       "      <td>0.061</td>\n",
       "      <td>-2.3</td>\n",
       "      <td>-0.8</td>\n",
       "    </tr>\n",
       "  </tbody>\n",
       "</table>\n",
       "<p>5 rows × 22 columns</p>\n",
       "</div>"
      ],
      "text/plain": [
       "   Rk  Pk Team              Player                                College  \\\n",
       "0   1   1  HOU          John Lucas                 University of Maryland   \n",
       "1   2   2  CHI           Scott May                     Indiana University   \n",
       "2   3   3  KCK  Richard Washington  University of California, Los Angeles   \n",
       "3   4   4  DET        Leon Douglas                  University of Alabama   \n",
       "4   5   5  POR        Wally Walker                 University of Virginia   \n",
       "\n",
       "   Yrs  Games  Minutes Played   PTS   TRB  ...   TP_Percentage  FT_Percentage  \\\n",
       "0   14    928           25556  9951  2151  ...           0.303          0.776   \n",
       "1    7    355            8029  3690  1450  ...           0.000          0.811   \n",
       "2    6    351            7874  3456  2204  ...           0.250          0.711   \n",
       "3    7    456           10111  3587  2954  ...           0.000          0.601   \n",
       "4    8    565           10168  3968  1759  ...           0.200          0.643   \n",
       "\n",
       "   Minutes per Game  Points per Game  TRB per game  Assits per Game  \\\n",
       "0              27.5             10.7           2.3              7.0   \n",
       "1              22.6             10.4           4.1              1.7   \n",
       "2              22.4              9.8           6.3              1.2   \n",
       "3              22.2              7.9           6.5              1.1   \n",
       "4              18.0              7.0           3.1              1.5   \n",
       "\n",
       "   Win Share  WS_per_game  BPM  VORP  \n",
       "0       53.7        0.101 -0.4  10.3  \n",
       "1       17.4        0.104 -1.0   2.0  \n",
       "2       10.8        0.066 -2.3  -0.6  \n",
       "3       15.2        0.072 -1.6   1.1  \n",
       "4       12.9        0.061 -2.3  -0.8  \n",
       "\n",
       "[5 rows x 22 columns]"
      ]
     },
     "execution_count": 15,
     "metadata": {},
     "output_type": "execute_result"
    }
   ],
   "source": [
    "# dropping the rows that served as breaks for different rounds of the draft\n",
    "dframe = dframe[dframe.Rk.notnull()]\n",
    "dframe.head()"
   ]
  },
  {
   "cell_type": "code",
   "execution_count": 16,
   "metadata": {
    "collapsed": false
   },
   "outputs": [
    {
     "data": {
      "text/html": [
       "<div>\n",
       "<table border=\"1\" class=\"dataframe\">\n",
       "  <thead>\n",
       "    <tr style=\"text-align: right;\">\n",
       "      <th></th>\n",
       "      <th>Rk</th>\n",
       "      <th>Pk</th>\n",
       "      <th>Team</th>\n",
       "      <th>Player</th>\n",
       "      <th>College</th>\n",
       "      <th>Yrs</th>\n",
       "      <th>Games</th>\n",
       "      <th>Minutes Played</th>\n",
       "      <th>PTS</th>\n",
       "      <th>TRB</th>\n",
       "      <th>...</th>\n",
       "      <th>TP_Percentage</th>\n",
       "      <th>FT_Percentage</th>\n",
       "      <th>Minutes per Game</th>\n",
       "      <th>Points per Game</th>\n",
       "      <th>TRB per game</th>\n",
       "      <th>Assits per Game</th>\n",
       "      <th>Win Share</th>\n",
       "      <th>WS_per_game</th>\n",
       "      <th>BPM</th>\n",
       "      <th>VORP</th>\n",
       "    </tr>\n",
       "  </thead>\n",
       "  <tbody>\n",
       "    <tr>\n",
       "      <th>0</th>\n",
       "      <td>1</td>\n",
       "      <td>1</td>\n",
       "      <td>HOU</td>\n",
       "      <td>John Lucas</td>\n",
       "      <td>University of Maryland</td>\n",
       "      <td>14</td>\n",
       "      <td>928</td>\n",
       "      <td>25556</td>\n",
       "      <td>9951</td>\n",
       "      <td>2151</td>\n",
       "      <td>...</td>\n",
       "      <td>0.303</td>\n",
       "      <td>0.776</td>\n",
       "      <td>27.5</td>\n",
       "      <td>10.7</td>\n",
       "      <td>2.3</td>\n",
       "      <td>7.0</td>\n",
       "      <td>53.7</td>\n",
       "      <td>0.101</td>\n",
       "      <td>-0.4</td>\n",
       "      <td>10.3</td>\n",
       "    </tr>\n",
       "    <tr>\n",
       "      <th>1</th>\n",
       "      <td>2</td>\n",
       "      <td>2</td>\n",
       "      <td>CHI</td>\n",
       "      <td>Scott May</td>\n",
       "      <td>Indiana University</td>\n",
       "      <td>7</td>\n",
       "      <td>355</td>\n",
       "      <td>8029</td>\n",
       "      <td>3690</td>\n",
       "      <td>1450</td>\n",
       "      <td>...</td>\n",
       "      <td>0.000</td>\n",
       "      <td>0.811</td>\n",
       "      <td>22.6</td>\n",
       "      <td>10.4</td>\n",
       "      <td>4.1</td>\n",
       "      <td>1.7</td>\n",
       "      <td>17.4</td>\n",
       "      <td>0.104</td>\n",
       "      <td>-1.0</td>\n",
       "      <td>2.0</td>\n",
       "    </tr>\n",
       "    <tr>\n",
       "      <th>2</th>\n",
       "      <td>3</td>\n",
       "      <td>3</td>\n",
       "      <td>KCK</td>\n",
       "      <td>Richard Washington</td>\n",
       "      <td>University of California, Los Angeles</td>\n",
       "      <td>6</td>\n",
       "      <td>351</td>\n",
       "      <td>7874</td>\n",
       "      <td>3456</td>\n",
       "      <td>2204</td>\n",
       "      <td>...</td>\n",
       "      <td>0.250</td>\n",
       "      <td>0.711</td>\n",
       "      <td>22.4</td>\n",
       "      <td>9.8</td>\n",
       "      <td>6.3</td>\n",
       "      <td>1.2</td>\n",
       "      <td>10.8</td>\n",
       "      <td>0.066</td>\n",
       "      <td>-2.3</td>\n",
       "      <td>-0.6</td>\n",
       "    </tr>\n",
       "    <tr>\n",
       "      <th>3</th>\n",
       "      <td>4</td>\n",
       "      <td>4</td>\n",
       "      <td>DET</td>\n",
       "      <td>Leon Douglas</td>\n",
       "      <td>University of Alabama</td>\n",
       "      <td>7</td>\n",
       "      <td>456</td>\n",
       "      <td>10111</td>\n",
       "      <td>3587</td>\n",
       "      <td>2954</td>\n",
       "      <td>...</td>\n",
       "      <td>0.000</td>\n",
       "      <td>0.601</td>\n",
       "      <td>22.2</td>\n",
       "      <td>7.9</td>\n",
       "      <td>6.5</td>\n",
       "      <td>1.1</td>\n",
       "      <td>15.2</td>\n",
       "      <td>0.072</td>\n",
       "      <td>-1.6</td>\n",
       "      <td>1.1</td>\n",
       "    </tr>\n",
       "    <tr>\n",
       "      <th>4</th>\n",
       "      <td>5</td>\n",
       "      <td>5</td>\n",
       "      <td>POR</td>\n",
       "      <td>Wally Walker</td>\n",
       "      <td>University of Virginia</td>\n",
       "      <td>8</td>\n",
       "      <td>565</td>\n",
       "      <td>10168</td>\n",
       "      <td>3968</td>\n",
       "      <td>1759</td>\n",
       "      <td>...</td>\n",
       "      <td>0.200</td>\n",
       "      <td>0.643</td>\n",
       "      <td>18.0</td>\n",
       "      <td>7.0</td>\n",
       "      <td>3.1</td>\n",
       "      <td>1.5</td>\n",
       "      <td>12.9</td>\n",
       "      <td>0.061</td>\n",
       "      <td>-2.3</td>\n",
       "      <td>-0.8</td>\n",
       "    </tr>\n",
       "  </tbody>\n",
       "</table>\n",
       "<p>5 rows × 22 columns</p>\n",
       "</div>"
      ],
      "text/plain": [
       "   Rk  Pk Team              Player                                College  \\\n",
       "0   1   1  HOU          John Lucas                 University of Maryland   \n",
       "1   2   2  CHI           Scott May                     Indiana University   \n",
       "2   3   3  KCK  Richard Washington  University of California, Los Angeles   \n",
       "3   4   4  DET        Leon Douglas                  University of Alabama   \n",
       "4   5   5  POR        Wally Walker                 University of Virginia   \n",
       "\n",
       "   Yrs  Games  Minutes Played   PTS   TRB  ...   TP_Percentage  FT_Percentage  \\\n",
       "0   14    928           25556  9951  2151  ...           0.303          0.776   \n",
       "1    7    355            8029  3690  1450  ...           0.000          0.811   \n",
       "2    6    351            7874  3456  2204  ...           0.250          0.711   \n",
       "3    7    456           10111  3587  2954  ...           0.000          0.601   \n",
       "4    8    565           10168  3968  1759  ...           0.200          0.643   \n",
       "\n",
       "   Minutes per Game  Points per Game  TRB per game  Assits per Game  \\\n",
       "0              27.5             10.7           2.3              7.0   \n",
       "1              22.6             10.4           4.1              1.7   \n",
       "2              22.4              9.8           6.3              1.2   \n",
       "3              22.2              7.9           6.5              1.1   \n",
       "4              18.0              7.0           3.1              1.5   \n",
       "\n",
       "   Win Share  WS_per_game  BPM  VORP  \n",
       "0       53.7        0.101 -0.4  10.3  \n",
       "1       17.4        0.104 -1.0   2.0  \n",
       "2       10.8        0.066 -2.3  -0.6  \n",
       "3       15.2        0.072 -1.6   1.1  \n",
       "4       12.9        0.061 -2.3  -0.8  \n",
       "\n",
       "[5 rows x 22 columns]"
      ]
     },
     "execution_count": 16,
     "metadata": {},
     "output_type": "execute_result"
    }
   ],
   "source": [
    "# changing the remaining NaN's to zeroes\n",
    "dframe = dframe.fillna(0)\n",
    "# reindexing to align the row index correctly\n",
    "dframe.index = range(173)\n",
    "dframe.head()"
   ]
  },
  {
   "cell_type": "code",
   "execution_count": 17,
   "metadata": {
    "collapsed": false
   },
   "outputs": [
    {
     "data": {
      "text/plain": [
       "0"
      ]
     },
     "execution_count": 17,
     "metadata": {},
     "output_type": "execute_result"
    }
   ],
   "source": [
    "# checking whether there are still any missing values\n",
    "dframe.isnull().sum().sum()"
   ]
  },
  {
   "cell_type": "markdown",
   "metadata": {},
   "source": [
    "## Moving forward\n",
    "Now that I have the dataframe with proper column headers and all rows are properly filled in, I need to add a column for the draft year and can drop the 'Rk' column."
   ]
  },
  {
   "cell_type": "code",
   "execution_count": 18,
   "metadata": {
    "collapsed": false
   },
   "outputs": [],
   "source": [
    "# Inserting a column for draft year \n",
    "dframe.insert(0, 'Draft_Yr', 1976)"
   ]
  },
  {
   "cell_type": "code",
   "execution_count": 19,
   "metadata": {
    "collapsed": false
   },
   "outputs": [
    {
     "data": {
      "text/html": [
       "<div>\n",
       "<table border=\"1\" class=\"dataframe\">\n",
       "  <thead>\n",
       "    <tr style=\"text-align: right;\">\n",
       "      <th></th>\n",
       "      <th>Draft_Yr</th>\n",
       "      <th>Pk</th>\n",
       "      <th>Team</th>\n",
       "      <th>Player</th>\n",
       "      <th>College</th>\n",
       "      <th>Yrs</th>\n",
       "      <th>Games</th>\n",
       "      <th>Minutes Played</th>\n",
       "      <th>PTS</th>\n",
       "      <th>TRB</th>\n",
       "      <th>...</th>\n",
       "      <th>TP_Percentage</th>\n",
       "      <th>FT_Percentage</th>\n",
       "      <th>Minutes per Game</th>\n",
       "      <th>Points per Game</th>\n",
       "      <th>TRB per game</th>\n",
       "      <th>Assits per Game</th>\n",
       "      <th>Win Share</th>\n",
       "      <th>WS_per_game</th>\n",
       "      <th>BPM</th>\n",
       "      <th>VORP</th>\n",
       "    </tr>\n",
       "  </thead>\n",
       "  <tbody>\n",
       "    <tr>\n",
       "      <th>0</th>\n",
       "      <td>1976</td>\n",
       "      <td>1</td>\n",
       "      <td>HOU</td>\n",
       "      <td>John Lucas</td>\n",
       "      <td>University of Maryland</td>\n",
       "      <td>14</td>\n",
       "      <td>928</td>\n",
       "      <td>25556</td>\n",
       "      <td>9951</td>\n",
       "      <td>2151</td>\n",
       "      <td>...</td>\n",
       "      <td>0.303</td>\n",
       "      <td>0.776</td>\n",
       "      <td>27.5</td>\n",
       "      <td>10.7</td>\n",
       "      <td>2.3</td>\n",
       "      <td>7.0</td>\n",
       "      <td>53.7</td>\n",
       "      <td>0.101</td>\n",
       "      <td>-0.4</td>\n",
       "      <td>10.3</td>\n",
       "    </tr>\n",
       "    <tr>\n",
       "      <th>1</th>\n",
       "      <td>1976</td>\n",
       "      <td>2</td>\n",
       "      <td>CHI</td>\n",
       "      <td>Scott May</td>\n",
       "      <td>Indiana University</td>\n",
       "      <td>7</td>\n",
       "      <td>355</td>\n",
       "      <td>8029</td>\n",
       "      <td>3690</td>\n",
       "      <td>1450</td>\n",
       "      <td>...</td>\n",
       "      <td>0.000</td>\n",
       "      <td>0.811</td>\n",
       "      <td>22.6</td>\n",
       "      <td>10.4</td>\n",
       "      <td>4.1</td>\n",
       "      <td>1.7</td>\n",
       "      <td>17.4</td>\n",
       "      <td>0.104</td>\n",
       "      <td>-1.0</td>\n",
       "      <td>2.0</td>\n",
       "    </tr>\n",
       "    <tr>\n",
       "      <th>2</th>\n",
       "      <td>1976</td>\n",
       "      <td>3</td>\n",
       "      <td>KCK</td>\n",
       "      <td>Richard Washington</td>\n",
       "      <td>University of California, Los Angeles</td>\n",
       "      <td>6</td>\n",
       "      <td>351</td>\n",
       "      <td>7874</td>\n",
       "      <td>3456</td>\n",
       "      <td>2204</td>\n",
       "      <td>...</td>\n",
       "      <td>0.250</td>\n",
       "      <td>0.711</td>\n",
       "      <td>22.4</td>\n",
       "      <td>9.8</td>\n",
       "      <td>6.3</td>\n",
       "      <td>1.2</td>\n",
       "      <td>10.8</td>\n",
       "      <td>0.066</td>\n",
       "      <td>-2.3</td>\n",
       "      <td>-0.6</td>\n",
       "    </tr>\n",
       "    <tr>\n",
       "      <th>3</th>\n",
       "      <td>1976</td>\n",
       "      <td>4</td>\n",
       "      <td>DET</td>\n",
       "      <td>Leon Douglas</td>\n",
       "      <td>University of Alabama</td>\n",
       "      <td>7</td>\n",
       "      <td>456</td>\n",
       "      <td>10111</td>\n",
       "      <td>3587</td>\n",
       "      <td>2954</td>\n",
       "      <td>...</td>\n",
       "      <td>0.000</td>\n",
       "      <td>0.601</td>\n",
       "      <td>22.2</td>\n",
       "      <td>7.9</td>\n",
       "      <td>6.5</td>\n",
       "      <td>1.1</td>\n",
       "      <td>15.2</td>\n",
       "      <td>0.072</td>\n",
       "      <td>-1.6</td>\n",
       "      <td>1.1</td>\n",
       "    </tr>\n",
       "    <tr>\n",
       "      <th>4</th>\n",
       "      <td>1976</td>\n",
       "      <td>5</td>\n",
       "      <td>POR</td>\n",
       "      <td>Wally Walker</td>\n",
       "      <td>University of Virginia</td>\n",
       "      <td>8</td>\n",
       "      <td>565</td>\n",
       "      <td>10168</td>\n",
       "      <td>3968</td>\n",
       "      <td>1759</td>\n",
       "      <td>...</td>\n",
       "      <td>0.200</td>\n",
       "      <td>0.643</td>\n",
       "      <td>18.0</td>\n",
       "      <td>7.0</td>\n",
       "      <td>3.1</td>\n",
       "      <td>1.5</td>\n",
       "      <td>12.9</td>\n",
       "      <td>0.061</td>\n",
       "      <td>-2.3</td>\n",
       "      <td>-0.8</td>\n",
       "    </tr>\n",
       "  </tbody>\n",
       "</table>\n",
       "<p>5 rows × 22 columns</p>\n",
       "</div>"
      ],
      "text/plain": [
       "   Draft_Yr  Pk Team              Player  \\\n",
       "0      1976   1  HOU          John Lucas   \n",
       "1      1976   2  CHI           Scott May   \n",
       "2      1976   3  KCK  Richard Washington   \n",
       "3      1976   4  DET        Leon Douglas   \n",
       "4      1976   5  POR        Wally Walker   \n",
       "\n",
       "                                 College  Yrs  Games  Minutes Played   PTS  \\\n",
       "0                 University of Maryland   14    928           25556  9951   \n",
       "1                     Indiana University    7    355            8029  3690   \n",
       "2  University of California, Los Angeles    6    351            7874  3456   \n",
       "3                  University of Alabama    7    456           10111  3587   \n",
       "4                 University of Virginia    8    565           10168  3968   \n",
       "\n",
       "    TRB  ...   TP_Percentage  FT_Percentage  Minutes per Game  \\\n",
       "0  2151  ...           0.303          0.776              27.5   \n",
       "1  1450  ...           0.000          0.811              22.6   \n",
       "2  2204  ...           0.250          0.711              22.4   \n",
       "3  2954  ...           0.000          0.601              22.2   \n",
       "4  1759  ...           0.200          0.643              18.0   \n",
       "\n",
       "   Points per Game  TRB per game  Assits per Game  Win Share  WS_per_game  \\\n",
       "0             10.7           2.3              7.0       53.7        0.101   \n",
       "1             10.4           4.1              1.7       17.4        0.104   \n",
       "2              9.8           6.3              1.2       10.8        0.066   \n",
       "3              7.9           6.5              1.1       15.2        0.072   \n",
       "4              7.0           3.1              1.5       12.9        0.061   \n",
       "\n",
       "   BPM  VORP  \n",
       "0 -0.4  10.3  \n",
       "1 -1.0   2.0  \n",
       "2 -2.3  -0.6  \n",
       "3 -1.6   1.1  \n",
       "4 -2.3  -0.8  \n",
       "\n",
       "[5 rows x 22 columns]"
      ]
     },
     "execution_count": 19,
     "metadata": {},
     "output_type": "execute_result"
    }
   ],
   "source": [
    "# Deleting the 'Rk' column\n",
    "dframe.drop('Rk', axis=1, inplace=True)\n",
    "dframe.head()"
   ]
  },
  {
   "cell_type": "code",
   "execution_count": 26,
   "metadata": {
    "collapsed": false
   },
   "outputs": [
    {
     "name": "stdout",
     "output_type": "stream",
     "text": [
      "/Users/rorypulvino/Dropbox (Personal)/Python/blog/content/NBA_Data\n"
     ]
    }
   ],
   "source": [
    "cd NBA_Data"
   ]
  },
  {
   "cell_type": "code",
   "execution_count": 27,
   "metadata": {
    "collapsed": true
   },
   "outputs": [],
   "source": [
    "dframe.to_csv('1976_Draft.csv')"
   ]
  },
  {
   "cell_type": "markdown",
   "metadata": {},
   "source": [
    "# And I finally have it...\n",
    "Creating this first DataFrame for one year of the draft took quite a bit more time than I would have thought (about a week working for a few hours in the evening when there was time.) Even with a blog post to follow, I ran into quite a few errors that required searching around the internet (mainly stackexchange) to find solutions. Python is trickier in its syntax than what I'm used to with Stata and whereas in Stata I would have solved some of these problems by building loops, Python has ready made commands to solve the problems while it's loops are still a little more difficult for me to implement. Now on to the second part of the blog post, creating a loop to grab all this draft data and putting it into a single DataFrame."
   ]
  }
 ],
 "metadata": {
  "kernelspec": {
   "display_name": "Python 2",
   "language": "python",
   "name": "python2"
  },
  "language_info": {
   "codemirror_mode": {
    "name": "ipython",
    "version": 2
   },
   "file_extension": ".py",
   "mimetype": "text/x-python",
   "name": "python",
   "nbconvert_exporter": "python",
   "pygments_lexer": "ipython2",
   "version": "2.7.12"
  }
 },
 "nbformat": 4,
 "nbformat_minor": 0
}
