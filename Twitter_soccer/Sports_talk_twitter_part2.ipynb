{
 "cells": [
  {
   "cell_type": "markdown",
   "metadata": {},
   "source": [
    "# Getting into some text analysis"
   ]
  },
  {
   "cell_type": "code",
   "execution_count": 3,
   "metadata": {
    "collapsed": false
   },
   "outputs": [
    {
     "name": "stderr",
     "output_type": "stream",
     "text": [
      "Loading required package: bitops\n",
      "\n",
      "Attaching package: ‘dplyr’\n",
      "\n",
      "The following objects are masked from ‘package:stats’:\n",
      "\n",
      "    filter, lag\n",
      "\n",
      "The following objects are masked from ‘package:base’:\n",
      "\n",
      "    intersect, setdiff, setequal, union\n",
      "\n",
      "\n",
      "Attaching package: ‘tidyr’\n",
      "\n",
      "The following object is masked from ‘package:RCurl’:\n",
      "\n",
      "    complete\n",
      "\n"
     ]
    }
   ],
   "source": [
    "# Needed libraries\n",
    "library(RCurl)\n",
    "library(dplyr)\n",
    "library(ggplot2)\n",
    "library(tidyr)\n",
    "library(modelr)\n",
    "thunder <- c(\"dodgerblue\", \"dodgerblue2\", \"dodgerblue3\", \"dodgerblue4\", \"darkorange4\", \"darkorange3\", \"darkorange2\", \"darkorange\")"
   ]
  },
  {
   "cell_type": "code",
   "execution_count": 12,
   "metadata": {
    "collapsed": false
   },
   "outputs": [
    {
     "data": {
      "text/html": [
       "<table>\n",
       "<thead><tr><th scope=col>X</th><th scope=col>Twitter_Handle</th><th scope=col>Sex</th><th scope=col>Tweet_id</th><th scope=col>Created_at</th><th scope=col>Text</th><th scope=col>Favorite_count</th><th scope=col>Retweet_count</th><th scope=col>Hashtags</th><th scope=col>User_mentions</th></tr></thead>\n",
       "<tbody>\n",
       "\t<tr><td>0                                                                                                                                                </td><td>EqualizerSoccer                                                                                                                                  </td><td>F                                                                                                                                                </td><td>795463504266481665                                                                                                                               </td><td>2016-11-07 03:10:53                                                                                                                              </td><td>.@GopherSoccer wins first Big 10 Tournament title in over 2 decades while @wvuwomenssoccer wins Big 12. Recap:… https://t.co/aN33CWuYSa          </td><td>19                                                                                                                                               </td><td> 1                                                                                                                                               </td><td>                                                                                                                                                 </td><td>GopherSoccer                                                                                                                                     </td></tr>\n",
       "\t<tr><td>1                                                                                                                                                </td><td>EqualizerSoccer                                                                                                                                  </td><td>F                                                                                                                                                </td><td>795432981963874304                                                                                                                               </td><td>2016-11-07 01:09:35                                                                                                                              </td><td>The #NCAA tournament selection show is tomorrow, but until then, here's a list of all the teams with automatic bids… https://t.co/ojZOub261g     </td><td>15                                                                                                                                               </td><td> 6                                                                                                                                               </td><td>NCAA                                                                                                                                             </td><td>                                                                                                                                                 </td></tr>\n",
       "\t<tr><td>2                                                                                                                                                    </td><td>EqualizerSoccer                                                                                                                                      </td><td>F                                                                                                                                                    </td><td>795427018062106624                                                                                                                                   </td><td>2016-11-07 00:45:54                                                                                                                                  </td><td>RT @GatorsSoccer: That's using your head!\n",
       "\n",
       "Here's a look at @BrookeSharp11 @SEC Tournament golden goal winner off assists from @meggieDH &amp;amp;…</td><td> 0                                                                                                                                                   </td><td>23                                                                                                                                                   </td><td><span style=white-space:pre-wrap>               </span>                                                                                              </td><td>GatorsSoccer                                                                                                                                         </td></tr>\n",
       "\t<tr><td>3                                                                                                                                                    </td><td>EqualizerSoccer                                                                                                                                      </td><td>F                                                                                                                                                    </td><td>795413198606389249                                                                                                                                   </td><td>2016-11-06 23:50:59                                                                                                                                  </td><td>.@GatorsSoccer defeated @RazorbackSoccer 2-1 in OT to clinch 2nd consecutive &amp;amp;12th program #SECChampionship. Recap:… https://t.co/NGoL8j1zrn </td><td>15                                                                                                                                                   </td><td> 3                                                                                                                                                   </td><td>SECChampionship                                                                                                                                      </td><td>GatorsSoccer                                                                                                                                         </td></tr>\n",
       "\t<tr><td>4                                                                                                                                                </td><td>EqualizerSoccer                                                                                                                                  </td><td>F                                                                                                                                                </td><td>795410719965609988                                                                                                                               </td><td>2016-11-06 23:41:08                                                                                                                              </td><td>RT @GatorsSoccer: Here's a look at #Gators opening half goal by @SavannahJ__ \n",
       "\n",
       "Watch now on @ESPNU\n",
       "\n",
       "Streaming live on WatchESPN: https://t.… </td><td> 0                                                                                                                                               </td><td>11                                                                                                                                               </td><td>Gators                                                                                                                                           </td><td>GatorsSoccer                                                                                                                                     </td></tr>\n",
       "\t<tr><td>5                                                                                                                                                </td><td>EqualizerSoccer                                                                                                                                  </td><td>F                                                                                                                                                </td><td>795410557709025281                                                                                                                               </td><td>2016-11-06 23:40:29                                                                                                                              </td><td>Houston Baptist wins Southland Conference final with 1-0 win over Stephen F. Austin. #NCAA                                                       </td><td> 2                                                                                                                                               </td><td> 1                                                                                                                                               </td><td>NCAA                                                                                                                                             </td><td>                                                                                                                                                 </td></tr>\n",
       "</tbody>\n",
       "</table>\n"
      ],
      "text/latex": [
       "\\begin{tabular}{r|llllllllll}\n",
       " X & Twitter\\_Handle & Sex & Tweet\\_id & Created\\_at & Text & Favorite\\_count & Retweet\\_count & Hashtags & User\\_mentions\\\\\n",
       "\\hline\n",
       "\t 0                                                                                                                                                 & EqualizerSoccer                                                                                                                                   & F                                                                                                                                                 & 795463504266481665                                                                                                                                & 2016-11-07 03:10:53                                                                                                                               & .@GopherSoccer wins first Big 10 Tournament title in over 2 decades while @wvuwomenssoccer wins Big 12. Recap:… https://t.co/aN33CWuYSa           & 19                                                                                                                                                &  1                                                                                                                                                &                                                                                                                                                   & GopherSoccer                                                                                                                                     \\\\\n",
       "\t 1                                                                                                                                                   & EqualizerSoccer                                                                                                                                     & F                                                                                                                                                   & 795432981963874304                                                                                                                                  & 2016-11-07 01:09:35                                                                                                                                 & The \\#NCAA tournament selection show is tomorrow, but until then, here's a list of all the teams with automatic bids… https://t.co/ojZOub261g      & 15                                                                                                                                                  &  6                                                                                                                                                  & NCAA                                                                                                                                                &                                                                                                                                                    \\\\\n",
       "\t 2                                                                                                                                                   & EqualizerSoccer                                                                                                                                     & F                                                                                                                                                   & 795427018062106624                                                                                                                                  & 2016-11-07 00:45:54                                                                                                                                 & RT @GatorsSoccer: That's using your head!\n",
       "\n",
       "Here's a look at @BrookeSharp11 @SEC Tournament golden goal winner off assists from @meggieDH \\&amp;… &  0                                                                                                                                                  & 23                                                                                                                                                  &                                                                                                                                                     & GatorsSoccer                                                                                                                                       \\\\\n",
       "\t 3                                                                                                                                                     & EqualizerSoccer                                                                                                                                       & F                                                                                                                                                     & 795413198606389249                                                                                                                                    & 2016-11-06 23:50:59                                                                                                                                   & .@GatorsSoccer defeated @RazorbackSoccer 2-1 in OT to clinch 2nd consecutive \\&amp;12th program \\#SECChampionship. Recap:… https://t.co/NGoL8j1zrn  & 15                                                                                                                                                    &  3                                                                                                                                                    & SECChampionship                                                                                                                                       & GatorsSoccer                                                                                                                                         \\\\\n",
       "\t 4                                                                                                                                                       & EqualizerSoccer                                                                                                                                         & F                                                                                                                                                       & 795410719965609988                                                                                                                                      & 2016-11-06 23:41:08                                                                                                                                     & RT @GatorsSoccer: Here's a look at \\#Gators opening half goal by @SavannahJ\\_\\_ \n",
       "\n",
       "Watch now on @ESPNU\n",
       "\n",
       "Streaming live on WatchESPN: https://t.…  &  0                                                                                                                                                      & 11                                                                                                                                                      & Gators                                                                                                                                                  & GatorsSoccer                                                                                                                                           \\\\\n",
       "\t 5                                                                                                                                                   & EqualizerSoccer                                                                                                                                     & F                                                                                                                                                   & 795410557709025281                                                                                                                                  & 2016-11-06 23:40:29                                                                                                                                 & Houston Baptist wins Southland Conference final with 1-0 win over Stephen F. Austin. \\#NCAA                                                        &  2                                                                                                                                                  &  1                                                                                                                                                  & NCAA                                                                                                                                                &                                                                                                                                                    \\\\\n",
       "\\end{tabular}\n"
      ],
      "text/plain": [
       "  X Twitter_Handle  Sex Tweet_id           Created_at         \n",
       "1 0 EqualizerSoccer F   795463504266481665 2016-11-07 03:10:53\n",
       "2 1 EqualizerSoccer F   795432981963874304 2016-11-07 01:09:35\n",
       "3 2 EqualizerSoccer F   795427018062106624 2016-11-07 00:45:54\n",
       "4 3 EqualizerSoccer F   795413198606389249 2016-11-06 23:50:59\n",
       "5 4 EqualizerSoccer F   795410719965609988 2016-11-06 23:41:08\n",
       "6 5 EqualizerSoccer F   795410557709025281 2016-11-06 23:40:29\n",
       "  Text                                                                                                                                             \n",
       "1 .@GopherSoccer wins first Big 10 Tournament title in over 2 decades while @wvuwomenssoccer wins Big 12. Recap:… https://t.co/aN33CWuYSa          \n",
       "2 The #NCAA tournament selection show is tomorrow, but until then, here's a list of all the teams with automatic bids… https://t.co/ojZOub261g     \n",
       "3 RT @GatorsSoccer: That's using your head!\\n\\nHere's a look at @BrookeSharp11 @SEC Tournament golden goal winner off assists from @meggieDH &amp;…\n",
       "4 .@GatorsSoccer defeated @RazorbackSoccer 2-1 in OT to clinch 2nd consecutive &amp;12th program #SECChampionship. Recap:… https://t.co/NGoL8j1zrn \n",
       "5 RT @GatorsSoccer: Here's a look at #Gators opening half goal by @SavannahJ__ \\n\\nWatch now on @ESPNU\\n\\nStreaming live on WatchESPN: https://t.… \n",
       "6 Houston Baptist wins Southland Conference final with 1-0 win over Stephen F. Austin. #NCAA                                                       \n",
       "  Favorite_count Retweet_count Hashtags        User_mentions\n",
       "1 19              1                            GopherSoccer \n",
       "2 15              6            NCAA                         \n",
       "3  0             23                            GatorsSoccer \n",
       "4 15              3            SECChampionship GatorsSoccer \n",
       "5  0             11            Gators          GatorsSoccer \n",
       "6  2              1            NCAA                         "
      ]
     },
     "metadata": {},
     "output_type": "display_data"
    }
   ],
   "source": [
    "df <- read.csv(\"~/Dropbox/Python/jupyter-blog/content/Twitter_soccer/Tweets_sports.csv\", header = TRUE)\n",
    "head(df)"
   ]
  },
  {
   "cell_type": "code",
   "execution_count": null,
   "metadata": {
    "collapsed": true
   },
   "outputs": [],
   "source": []
  }
 ],
 "metadata": {
  "anaconda-cloud": {},
  "kernelspec": {
   "display_name": "R",
   "language": "R",
   "name": "ir"
  },
  "language_info": {
   "codemirror_mode": "r",
   "file_extension": ".r",
   "mimetype": "text/x-r-source",
   "name": "R",
   "pygments_lexer": "r",
   "version": "3.3.1"
  }
 },
 "nbformat": 4,
 "nbformat_minor": 1
}
